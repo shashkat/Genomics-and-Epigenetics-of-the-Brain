{
 "cells": [
  {
   "cell_type": "code",
   "execution_count": 3,
   "id": "a6359cdc-eace-42ad-8cc1-aa2fe886f459",
   "metadata": {},
   "outputs": [
    {
     "name": "stderr",
     "output_type": "stream",
     "text": [
      "\n",
      "Attaching package: ‘dplyr’\n",
      "\n",
      "\n",
      "The following objects are masked from ‘package:stats’:\n",
      "\n",
      "    filter, lag\n",
      "\n",
      "\n",
      "The following objects are masked from ‘package:base’:\n",
      "\n",
      "    intersect, setdiff, setequal, union\n",
      "\n",
      "\n"
     ]
    }
   ],
   "source": [
    "library(gplots);\n",
    "library(ggplot2);\n",
    "library(dplyr) #ONLY USABLE ON KERNEL THAT HAS NO PHYLOLM"
   ]
  },
  {
   "cell_type": "markdown",
   "id": "4ee71c3a-ddd9-4bf5-bc38-37ffe888e37f",
   "metadata": {
    "jp-MarkdownHeadingCollapsed": true
   },
   "source": [
    "### BELOW: load raw data and take sample"
   ]
  },
  {
   "cell_type": "code",
   "execution_count": 6,
   "id": "79315302-09f6-46ab-a90c-cfaa30e1159d",
   "metadata": {},
   "outputs": [
    {
     "data": {
      "text/html": [
       "<table class=\"dataframe\">\n",
       "<caption>A matrix: 5 × 5 of type chr</caption>\n",
       "<thead>\n",
       "\t<tr><th scope=col>hg38.chr1.827355.827856</th><th scope=col>X.1.0</th><th scope=col>X.1.0.1</th><th scope=col>X.1.0.2</th><th scope=col>X.1.0.3</th></tr>\n",
       "</thead>\n",
       "<tbody>\n",
       "\t<tr><td>hg38:chr1:1024878-1025379  </td><td> 0.514973</td><td> 0.540576</td><td> 0.725553</td><td> 0.7387150</td></tr>\n",
       "\t<tr><td>hg38:chr1:2547946-2548447  </td><td> 0.708904</td><td>-1.000000</td><td> 0.478504</td><td> 0.7080290</td></tr>\n",
       "\t<tr><td>hg38:chr1:37554079-37554580</td><td> 0.682599</td><td>-1.000000</td><td> 0.656187</td><td> 0.6956410</td></tr>\n",
       "\t<tr><td>hg38:chr4:77819335-77819836</td><td>-1.000000</td><td> 0.476115</td><td> 0.578943</td><td> 0.5108150</td></tr>\n",
       "\t<tr><td>hg38:chr4:77820049-77820550</td><td> 0.534672</td><td> 0.801998</td><td> 0.724545</td><td> 0.6905950</td></tr>\n",
       "</tbody>\n",
       "</table>\n"
      ],
      "text/latex": [
       "A matrix: 5 × 5 of type chr\n",
       "\\begin{tabular}{lllll}\n",
       " hg38.chr1.827355.827856 & X.1.0 & X.1.0.1 & X.1.0.2 & X.1.0.3\\\\\n",
       "\\hline\n",
       "\t hg38:chr1:1024878-1025379   &  0.514973 &  0.540576 &  0.725553 &  0.7387150\\\\\n",
       "\t hg38:chr1:2547946-2548447   &  0.708904 & -1.000000 &  0.478504 &  0.7080290\\\\\n",
       "\t hg38:chr1:37554079-37554580 &  0.682599 & -1.000000 &  0.656187 &  0.6956410\\\\\n",
       "\t hg38:chr4:77819335-77819836 & -1.000000 &  0.476115 &  0.578943 &  0.5108150\\\\\n",
       "\t hg38:chr4:77820049-77820550 &  0.534672 &  0.801998 &  0.724545 &  0.6905950\\\\\n",
       "\\end{tabular}\n"
      ],
      "text/markdown": [
       "\n",
       "A matrix: 5 × 5 of type chr\n",
       "\n",
       "| hg38.chr1.827355.827856 | X.1.0 | X.1.0.1 | X.1.0.2 | X.1.0.3 |\n",
       "|---|---|---|---|---|\n",
       "| hg38:chr1:1024878-1025379   |  0.514973 |  0.540576 |  0.725553 |  0.7387150 |\n",
       "| hg38:chr1:2547946-2548447   |  0.708904 | -1.000000 |  0.478504 |  0.7080290 |\n",
       "| hg38:chr1:37554079-37554580 |  0.682599 | -1.000000 |  0.656187 |  0.6956410 |\n",
       "| hg38:chr4:77819335-77819836 | -1.000000 |  0.476115 |  0.578943 |  0.5108150 |\n",
       "| hg38:chr4:77820049-77820550 |  0.534672 |  0.801998 |  0.724545 |  0.6905950 |\n",
       "\n"
      ],
      "text/plain": [
       "     hg38.chr1.827355.827856     X.1.0     X.1.0.1   X.1.0.2   X.1.0.3   \n",
       "[1,] hg38:chr1:1024878-1025379    0.514973  0.540576  0.725553  0.7387150\n",
       "[2,] hg38:chr1:2547946-2548447    0.708904 -1.000000  0.478504  0.7080290\n",
       "[3,] hg38:chr1:37554079-37554580  0.682599 -1.000000  0.656187  0.6956410\n",
       "[4,] hg38:chr4:77819335-77819836 -1.000000  0.476115  0.578943  0.5108150\n",
       "[5,] hg38:chr4:77820049-77820550  0.534672  0.801998  0.724545  0.6905950"
      ]
     },
     "metadata": {},
     "output_type": "display_data"
    },
    {
     "data": {
      "text/html": [
       "<style>\n",
       ".list-inline {list-style: none; margin:0; padding: 0}\n",
       ".list-inline>li {display: inline-block}\n",
       ".list-inline>li:not(:last-child)::after {content: \"\\00b7\"; padding: 0 .5ex}\n",
       "</style>\n",
       "<ol class=list-inline><li>183244</li><li>242</li></ol>\n"
      ],
      "text/latex": [
       "\\begin{enumerate*}\n",
       "\\item 183244\n",
       "\\item 242\n",
       "\\end{enumerate*}\n"
      ],
      "text/markdown": [
       "1. 183244\n",
       "2. 242\n",
       "\n",
       "\n"
      ],
      "text/plain": [
       "[1] 183244    242"
      ]
     },
     "metadata": {},
     "output_type": "display_data"
    }
   ],
   "source": [
    "opc_dir <- \"~/geb/data/240_predictions_MatrixStacked.tsv\"\n",
    "#olig_dir <- \"/ocean/projects/bio240054p/shared/project/240_predictions_matrix_celltypes/Oligo/\"\n",
    "opc_peaks <- as.matrix(read.csv(file = opc_dir, sep=\"\\t\", stringsAsFactors=F, header=T))\n",
    "opc_peaks[1:5,1:5]\n",
    "dim(opc_peaks)"
   ]
  },
  {
   "cell_type": "code",
   "execution_count": 10,
   "id": "9f25f66d-bdd6-4b3b-bd90-5312cd7401b9",
   "metadata": {},
   "outputs": [
    {
     "data": {
      "text/html": [
       "<table class=\"dataframe\">\n",
       "<caption>A matrix: 5 × 5 of type chr</caption>\n",
       "<thead>\n",
       "\t<tr><th scope=col>hg38.chr1.827355.827856</th><th scope=col>X.1.0</th><th scope=col>X.1.0.1</th><th scope=col>X.1.0.2</th><th scope=col>X.1.0.3</th></tr>\n",
       "</thead>\n",
       "<tbody>\n",
       "\t<tr><td>rheMac10:chr3:155475508-155476008:250</td><td>-1.000000</td><td> 0.333577</td><td> 0.597921</td><td> 0.3376470</td></tr>\n",
       "\t<tr><td>rheMac10:chr18:58133437-58133937:250 </td><td> 0.504291</td><td>-1.000000</td><td> 0.789442</td><td> 0.6324570</td></tr>\n",
       "\t<tr><td>mm10:chr2:60962973-60963474          </td><td>-1.000000</td><td> 0.496151</td><td> 0.744965</td><td> 0.4033800</td></tr>\n",
       "\t<tr><td>rn6:chr3:11382774-11383274:250       </td><td> 0.413678</td><td>-1.000000</td><td>-1.000000</td><td> 0.7004590</td></tr>\n",
       "\t<tr><td>rheMac10:chr10:10892176-10892676:250 </td><td> 0.544576</td><td>-1.000000</td><td> 0.721769</td><td> 0.5444200</td></tr>\n",
       "</tbody>\n",
       "</table>\n"
      ],
      "text/latex": [
       "A matrix: 5 × 5 of type chr\n",
       "\\begin{tabular}{lllll}\n",
       " hg38.chr1.827355.827856 & X.1.0 & X.1.0.1 & X.1.0.2 & X.1.0.3\\\\\n",
       "\\hline\n",
       "\t rheMac10:chr3:155475508-155476008:250 & -1.000000 &  0.333577 &  0.597921 &  0.3376470\\\\\n",
       "\t rheMac10:chr18:58133437-58133937:250  &  0.504291 & -1.000000 &  0.789442 &  0.6324570\\\\\n",
       "\t mm10:chr2:60962973-60963474           & -1.000000 &  0.496151 &  0.744965 &  0.4033800\\\\\n",
       "\t rn6:chr3:11382774-11383274:250        &  0.413678 & -1.000000 & -1.000000 &  0.7004590\\\\\n",
       "\t rheMac10:chr10:10892176-10892676:250  &  0.544576 & -1.000000 &  0.721769 &  0.5444200\\\\\n",
       "\\end{tabular}\n"
      ],
      "text/markdown": [
       "\n",
       "A matrix: 5 × 5 of type chr\n",
       "\n",
       "| hg38.chr1.827355.827856 | X.1.0 | X.1.0.1 | X.1.0.2 | X.1.0.3 |\n",
       "|---|---|---|---|---|\n",
       "| rheMac10:chr3:155475508-155476008:250 | -1.000000 |  0.333577 |  0.597921 |  0.3376470 |\n",
       "| rheMac10:chr18:58133437-58133937:250  |  0.504291 | -1.000000 |  0.789442 |  0.6324570 |\n",
       "| mm10:chr2:60962973-60963474           | -1.000000 |  0.496151 |  0.744965 |  0.4033800 |\n",
       "| rn6:chr3:11382774-11383274:250        |  0.413678 | -1.000000 | -1.000000 |  0.7004590 |\n",
       "| rheMac10:chr10:10892176-10892676:250  |  0.544576 | -1.000000 |  0.721769 |  0.5444200 |\n",
       "\n"
      ],
      "text/plain": [
       "     hg38.chr1.827355.827856               X.1.0     X.1.0.1   X.1.0.2  \n",
       "[1,] rheMac10:chr3:155475508-155476008:250 -1.000000  0.333577  0.597921\n",
       "[2,] rheMac10:chr18:58133437-58133937:250   0.504291 -1.000000  0.789442\n",
       "[3,] mm10:chr2:60962973-60963474           -1.000000  0.496151  0.744965\n",
       "[4,] rn6:chr3:11382774-11383274:250         0.413678 -1.000000 -1.000000\n",
       "[5,] rheMac10:chr10:10892176-10892676:250   0.544576 -1.000000  0.721769\n",
       "     X.1.0.3   \n",
       "[1,]  0.3376470\n",
       "[2,]  0.6324570\n",
       "[3,]  0.4033800\n",
       "[4,]  0.7004590\n",
       "[5,]  0.5444200"
      ]
     },
     "metadata": {},
     "output_type": "display_data"
    },
    {
     "data": {
      "text/html": [
       "<style>\n",
       ".list-inline {list-style: none; margin:0; padding: 0}\n",
       ".list-inline>li {display: inline-block}\n",
       ".list-inline>li:not(:last-child)::after {content: \"\\00b7\"; padding: 0 .5ex}\n",
       "</style>\n",
       "<ol class=list-inline><li>10000</li><li>242</li></ol>\n"
      ],
      "text/latex": [
       "\\begin{enumerate*}\n",
       "\\item 10000\n",
       "\\item 242\n",
       "\\end{enumerate*}\n"
      ],
      "text/markdown": [
       "1. 10000\n",
       "2. 242\n",
       "\n",
       "\n"
      ],
      "text/plain": [
       "[1] 10000   242"
      ]
     },
     "metadata": {},
     "output_type": "display_data"
    }
   ],
   "source": [
    "#take a random sample of 10000\n",
    "opc_peaks_randsamp <- opc_peaks[sample(nrow(opc_peaks), 10000),]\n",
    "opc_peaks_randsamp[1:5,1:5]\n",
    "dim(opc_peaks_randsamp)\n",
    "\n",
    "#save this sample for later to make loading easier\n",
    "write.csv(opc_peaks_randsamp, file=\"~/geb/data/opc_randsamp.csv\")"
   ]
  },
  {
   "cell_type": "markdown",
   "id": "bad41043-2ab5-4079-9980-79961c6c0ba1",
   "metadata": {},
   "source": [
    "### DATA PROCESSING: USES DPLYR"
   ]
  },
  {
   "cell_type": "code",
   "execution_count": 5,
   "id": "faa716e5-f93b-46f2-9538-bf89268e21c1",
   "metadata": {},
   "outputs": [],
   "source": [
    "#load random sample back in for future runs\n",
    "opc_peaks_randsamp <- as.matrix(read.csv(\"~/geb/data/opc_randsamp.csv\"))"
   ]
  },
  {
   "cell_type": "code",
   "execution_count": 6,
   "id": "a9dd869c-bbeb-41ce-bc3f-724e5db064d5",
   "metadata": {},
   "outputs": [
    {
     "data": {
      "text/html": [
       "<style>\n",
       ".list-inline {list-style: none; margin:0; padding: 0}\n",
       ".list-inline>li {display: inline-block}\n",
       ".list-inline>li:not(:last-child)::after {content: \"\\00b7\"; padding: 0 .5ex}\n",
       "</style>\n",
       "<ol class=list-inline><li>''</li><li>'Region'</li><li>'Acinonyx_jubatus'</li><li>'Acomys_cahirinus'</li><li>'Ailuropoda_melanoleuca'</li></ol>\n"
      ],
      "text/latex": [
       "\\begin{enumerate*}\n",
       "\\item ''\n",
       "\\item 'Region'\n",
       "\\item 'Acinonyx\\_jubatus'\n",
       "\\item 'Acomys\\_cahirinus'\n",
       "\\item 'Ailuropoda\\_melanoleuca'\n",
       "\\end{enumerate*}\n"
      ],
      "text/markdown": [
       "1. ''\n",
       "2. 'Region'\n",
       "3. 'Acinonyx_jubatus'\n",
       "4. 'Acomys_cahirinus'\n",
       "5. 'Ailuropoda_melanoleuca'\n",
       "\n",
       "\n"
      ],
      "text/plain": [
       "[1] \"\"                       \"Region\"                 \"Acinonyx_jubatus\"      \n",
       "[4] \"Acomys_cahirinus\"       \"Ailuropoda_melanoleuca\""
      ]
     },
     "metadata": {},
     "output_type": "display_data"
    },
    {
     "data": {
      "text/html": [
       "<table class=\"dataframe\">\n",
       "<caption>A matrix: 5 × 5 of type chr</caption>\n",
       "<thead>\n",
       "\t<tr><th scope=col></th><th scope=col>Region</th><th scope=col>Acinonyx_jubatus</th><th scope=col>Acomys_cahirinus</th><th scope=col>Ailuropoda_melanoleuca</th></tr>\n",
       "</thead>\n",
       "<tbody>\n",
       "\t<tr><td>    1</td><td>rheMac10:chr3:155475508-155476008:250</td><td>-1.000000</td><td> 0.333577</td><td> 0.597921</td></tr>\n",
       "\t<tr><td>    2</td><td>rheMac10:chr18:58133437-58133937:250 </td><td> 0.504291</td><td>-1.000000</td><td> 0.789442</td></tr>\n",
       "\t<tr><td>    3</td><td>mm10:chr2:60962973-60963474          </td><td>-1.000000</td><td> 0.496151</td><td> 0.744965</td></tr>\n",
       "\t<tr><td>    4</td><td>rn6:chr3:11382774-11383274:250       </td><td> 0.413678</td><td>-1.000000</td><td>-1.000000</td></tr>\n",
       "\t<tr><td>    5</td><td>rheMac10:chr10:10892176-10892676:250 </td><td> 0.544576</td><td>-1.000000</td><td> 0.721769</td></tr>\n",
       "</tbody>\n",
       "</table>\n"
      ],
      "text/latex": [
       "A matrix: 5 × 5 of type chr\n",
       "\\begin{tabular}{lllll}\n",
       "  & Region & Acinonyx\\_jubatus & Acomys\\_cahirinus & Ailuropoda\\_melanoleuca\\\\\n",
       "\\hline\n",
       "\t     1 & rheMac10:chr3:155475508-155476008:250 & -1.000000 &  0.333577 &  0.597921\\\\\n",
       "\t     2 & rheMac10:chr18:58133437-58133937:250  &  0.504291 & -1.000000 &  0.789442\\\\\n",
       "\t     3 & mm10:chr2:60962973-60963474           & -1.000000 &  0.496151 &  0.744965\\\\\n",
       "\t     4 & rn6:chr3:11382774-11383274:250        &  0.413678 & -1.000000 & -1.000000\\\\\n",
       "\t     5 & rheMac10:chr10:10892176-10892676:250  &  0.544576 & -1.000000 &  0.721769\\\\\n",
       "\\end{tabular}\n"
      ],
      "text/markdown": [
       "\n",
       "A matrix: 5 × 5 of type chr\n",
       "\n",
       "| <!----> | Region | Acinonyx_jubatus | Acomys_cahirinus | Ailuropoda_melanoleuca |\n",
       "|---|---|---|---|---|\n",
       "|     1 | rheMac10:chr3:155475508-155476008:250 | -1.000000 |  0.333577 |  0.597921 |\n",
       "|     2 | rheMac10:chr18:58133437-58133937:250  |  0.504291 | -1.000000 |  0.789442 |\n",
       "|     3 | mm10:chr2:60962973-60963474           | -1.000000 |  0.496151 |  0.744965 |\n",
       "|     4 | rn6:chr3:11382774-11383274:250        |  0.413678 | -1.000000 | -1.000000 |\n",
       "|     5 | rheMac10:chr10:10892176-10892676:250  |  0.544576 | -1.000000 |  0.721769 |\n",
       "\n"
      ],
      "text/plain": [
       "           Region                                Acinonyx_jubatus\n",
       "[1,]     1 rheMac10:chr3:155475508-155476008:250 -1.000000       \n",
       "[2,]     2 rheMac10:chr18:58133437-58133937:250   0.504291       \n",
       "[3,]     3 mm10:chr2:60962973-60963474           -1.000000       \n",
       "[4,]     4 rn6:chr3:11382774-11383274:250         0.413678       \n",
       "[5,]     5 rheMac10:chr10:10892176-10892676:250   0.544576       \n",
       "     Acomys_cahirinus Ailuropoda_melanoleuca\n",
       "[1,]  0.333577         0.597921             \n",
       "[2,] -1.000000         0.789442             \n",
       "[3,]  0.496151         0.744965             \n",
       "[4,] -1.000000        -1.000000             \n",
       "[5,] -1.000000         0.721769             "
      ]
     },
     "metadata": {},
     "output_type": "display_data"
    }
   ],
   "source": [
    "#split by species of interest: hypselodonts vs non-hypselodonts\n",
    "#first rename the columns to the species given in the text file\n",
    "names <- readLines(con = \"~/geb/data/240_predictions_NamesList.txt\")\n",
    "names <- c(\"\", \"Region\", names)\n",
    "names[1:5]\n",
    "\n",
    "colnames(opc_peaks_randsamp) <- names\n",
    "opc_peaks_randsamp[1:5, 1:5]"
   ]
  },
  {
   "cell_type": "code",
   "execution_count": 7,
   "id": "043d1bc0-6084-4f92-8a5c-8050d5e2bab5",
   "metadata": {},
   "outputs": [],
   "source": [
    "#first get list of hypselodonts\n",
    "#this dataframe was made using the phenotype information data\n",
    "hyps_data <- read.csv(\"~/geb/data/hypselodonts_known.csv\")\n",
    "\n",
    "library(dplyr)\n",
    "hyps <- hyps_data %>% filter(Hypselodonty == 1)\n",
    "nonhyps <- hyps_data %>% filter(Hypselodonty == 0)\n",
    "\n",
    "hyps_names <- hyps$Name\n",
    "nonhyps_names <- nonhyps$Name"
   ]
  },
  {
   "cell_type": "code",
   "execution_count": 8,
   "id": "08732615-08e0-410c-9070-bd16476e116d",
   "metadata": {},
   "outputs": [
    {
     "data": {
      "text/html": [
       "<table class=\"dataframe\">\n",
       "<caption>A data.frame: 5 × 5</caption>\n",
       "<thead>\n",
       "\t<tr><th></th><th scope=col>Acomys_cahirinus</th><th scope=col>Allactaga_bullata</th><th scope=col>Aplodontia_rufa</th><th scope=col>Castor_canadensis</th><th scope=col>Catagonus_wagneri</th></tr>\n",
       "\t<tr><th></th><th scope=col>&lt;chr&gt;</th><th scope=col>&lt;chr&gt;</th><th scope=col>&lt;chr&gt;</th><th scope=col>&lt;chr&gt;</th><th scope=col>&lt;chr&gt;</th></tr>\n",
       "</thead>\n",
       "<tbody>\n",
       "\t<tr><th scope=row>1</th><td> 0.333577</td><td> 0.466885</td><td> 0.454568</td><td> 0.420941</td><td> 0.726793</td></tr>\n",
       "\t<tr><th scope=row>2</th><td>-1.000000</td><td> 0.336123</td><td> 0.819937</td><td>-1.000000</td><td> 0.546719</td></tr>\n",
       "\t<tr><th scope=row>3</th><td> 0.496151</td><td> 0.582556</td><td> 0.560527</td><td> 0.475063</td><td> 0.766712</td></tr>\n",
       "\t<tr><th scope=row>4</th><td>-1.000000</td><td> 0.679630</td><td> 0.519685</td><td> 0.499033</td><td> 0.653173</td></tr>\n",
       "\t<tr><th scope=row>5</th><td>-1.000000</td><td> 0.535001</td><td> 0.405925</td><td> 0.492735</td><td> 0.436828</td></tr>\n",
       "</tbody>\n",
       "</table>\n"
      ],
      "text/latex": [
       "A data.frame: 5 × 5\n",
       "\\begin{tabular}{r|lllll}\n",
       "  & Acomys\\_cahirinus & Allactaga\\_bullata & Aplodontia\\_rufa & Castor\\_canadensis & Catagonus\\_wagneri\\\\\n",
       "  & <chr> & <chr> & <chr> & <chr> & <chr>\\\\\n",
       "\\hline\n",
       "\t1 &  0.333577 &  0.466885 &  0.454568 &  0.420941 &  0.726793\\\\\n",
       "\t2 & -1.000000 &  0.336123 &  0.819937 & -1.000000 &  0.546719\\\\\n",
       "\t3 &  0.496151 &  0.582556 &  0.560527 &  0.475063 &  0.766712\\\\\n",
       "\t4 & -1.000000 &  0.679630 &  0.519685 &  0.499033 &  0.653173\\\\\n",
       "\t5 & -1.000000 &  0.535001 &  0.405925 &  0.492735 &  0.436828\\\\\n",
       "\\end{tabular}\n"
      ],
      "text/markdown": [
       "\n",
       "A data.frame: 5 × 5\n",
       "\n",
       "| <!--/--> | Acomys_cahirinus &lt;chr&gt; | Allactaga_bullata &lt;chr&gt; | Aplodontia_rufa &lt;chr&gt; | Castor_canadensis &lt;chr&gt; | Catagonus_wagneri &lt;chr&gt; |\n",
       "|---|---|---|---|---|---|\n",
       "| 1 |  0.333577 |  0.466885 |  0.454568 |  0.420941 |  0.726793 |\n",
       "| 2 | -1.000000 |  0.336123 |  0.819937 | -1.000000 |  0.546719 |\n",
       "| 3 |  0.496151 |  0.582556 |  0.560527 |  0.475063 |  0.766712 |\n",
       "| 4 | -1.000000 |  0.679630 |  0.519685 |  0.499033 |  0.653173 |\n",
       "| 5 | -1.000000 |  0.535001 |  0.405925 |  0.492735 |  0.436828 |\n",
       "\n"
      ],
      "text/plain": [
       "  Acomys_cahirinus Allactaga_bullata Aplodontia_rufa Castor_canadensis\n",
       "1  0.333577         0.466885          0.454568        0.420941        \n",
       "2 -1.000000         0.336123          0.819937       -1.000000        \n",
       "3  0.496151         0.582556          0.560527        0.475063        \n",
       "4 -1.000000         0.679630          0.519685        0.499033        \n",
       "5 -1.000000         0.535001          0.405925        0.492735        \n",
       "  Catagonus_wagneri\n",
       "1  0.726793        \n",
       "2  0.546719        \n",
       "3  0.766712        \n",
       "4  0.653173        \n",
       "5  0.436828        "
      ]
     },
     "metadata": {},
     "output_type": "display_data"
    }
   ],
   "source": [
    "#now we can select hypselodonts\n",
    "hyps_opc_peaks <- as.data.frame(opc_peaks_randsamp) %>% select(any_of(hyps_names))\n",
    "hyps_opc_peaks[1:5, 1:5]"
   ]
  },
  {
   "cell_type": "code",
   "execution_count": 9,
   "id": "cc73be34-87f5-4197-963a-66269c862c91",
   "metadata": {},
   "outputs": [
    {
     "data": {
      "text/html": [
       "<table class=\"dataframe\">\n",
       "<caption>A data.frame: 5 × 5</caption>\n",
       "<thead>\n",
       "\t<tr><th></th><th scope=col>Acomys_cahirinus</th><th scope=col>Allactaga_bullata</th><th scope=col>Aplodontia_rufa</th><th scope=col>Castor_canadensis</th><th scope=col>Catagonus_wagneri</th></tr>\n",
       "\t<tr><th></th><th scope=col>&lt;chr&gt;</th><th scope=col>&lt;chr&gt;</th><th scope=col>&lt;chr&gt;</th><th scope=col>&lt;chr&gt;</th><th scope=col>&lt;chr&gt;</th></tr>\n",
       "</thead>\n",
       "<tbody>\n",
       "\t<tr><th scope=row>rheMac10:chr3:155475508-155476008:250</th><td> 0.333577</td><td> 0.466885</td><td> 0.454568</td><td> 0.420941</td><td> 0.726793</td></tr>\n",
       "\t<tr><th scope=row>rheMac10:chr18:58133437-58133937:250</th><td>-1.000000</td><td> 0.336123</td><td> 0.819937</td><td>-1.000000</td><td> 0.546719</td></tr>\n",
       "\t<tr><th scope=row>mm10:chr2:60962973-60963474</th><td> 0.496151</td><td> 0.582556</td><td> 0.560527</td><td> 0.475063</td><td> 0.766712</td></tr>\n",
       "\t<tr><th scope=row>rn6:chr3:11382774-11383274:250</th><td>-1.000000</td><td> 0.679630</td><td> 0.519685</td><td> 0.499033</td><td> 0.653173</td></tr>\n",
       "\t<tr><th scope=row>rheMac10:chr10:10892176-10892676:250</th><td>-1.000000</td><td> 0.535001</td><td> 0.405925</td><td> 0.492735</td><td> 0.436828</td></tr>\n",
       "</tbody>\n",
       "</table>\n"
      ],
      "text/latex": [
       "A data.frame: 5 × 5\n",
       "\\begin{tabular}{r|lllll}\n",
       "  & Acomys\\_cahirinus & Allactaga\\_bullata & Aplodontia\\_rufa & Castor\\_canadensis & Catagonus\\_wagneri\\\\\n",
       "  & <chr> & <chr> & <chr> & <chr> & <chr>\\\\\n",
       "\\hline\n",
       "\trheMac10:chr3:155475508-155476008:250 &  0.333577 &  0.466885 &  0.454568 &  0.420941 &  0.726793\\\\\n",
       "\trheMac10:chr18:58133437-58133937:250 & -1.000000 &  0.336123 &  0.819937 & -1.000000 &  0.546719\\\\\n",
       "\tmm10:chr2:60962973-60963474 &  0.496151 &  0.582556 &  0.560527 &  0.475063 &  0.766712\\\\\n",
       "\trn6:chr3:11382774-11383274:250 & -1.000000 &  0.679630 &  0.519685 &  0.499033 &  0.653173\\\\\n",
       "\trheMac10:chr10:10892176-10892676:250 & -1.000000 &  0.535001 &  0.405925 &  0.492735 &  0.436828\\\\\n",
       "\\end{tabular}\n"
      ],
      "text/markdown": [
       "\n",
       "A data.frame: 5 × 5\n",
       "\n",
       "| <!--/--> | Acomys_cahirinus &lt;chr&gt; | Allactaga_bullata &lt;chr&gt; | Aplodontia_rufa &lt;chr&gt; | Castor_canadensis &lt;chr&gt; | Catagonus_wagneri &lt;chr&gt; |\n",
       "|---|---|---|---|---|---|\n",
       "| rheMac10:chr3:155475508-155476008:250 |  0.333577 |  0.466885 |  0.454568 |  0.420941 |  0.726793 |\n",
       "| rheMac10:chr18:58133437-58133937:250 | -1.000000 |  0.336123 |  0.819937 | -1.000000 |  0.546719 |\n",
       "| mm10:chr2:60962973-60963474 |  0.496151 |  0.582556 |  0.560527 |  0.475063 |  0.766712 |\n",
       "| rn6:chr3:11382774-11383274:250 | -1.000000 |  0.679630 |  0.519685 |  0.499033 |  0.653173 |\n",
       "| rheMac10:chr10:10892176-10892676:250 | -1.000000 |  0.535001 |  0.405925 |  0.492735 |  0.436828 |\n",
       "\n"
      ],
      "text/plain": [
       "                                      Acomys_cahirinus Allactaga_bullata\n",
       "rheMac10:chr3:155475508-155476008:250  0.333577         0.466885        \n",
       "rheMac10:chr18:58133437-58133937:250  -1.000000         0.336123        \n",
       "mm10:chr2:60962973-60963474            0.496151         0.582556        \n",
       "rn6:chr3:11382774-11383274:250        -1.000000         0.679630        \n",
       "rheMac10:chr10:10892176-10892676:250  -1.000000         0.535001        \n",
       "                                      Aplodontia_rufa Castor_canadensis\n",
       "rheMac10:chr3:155475508-155476008:250  0.454568        0.420941        \n",
       "rheMac10:chr18:58133437-58133937:250   0.819937       -1.000000        \n",
       "mm10:chr2:60962973-60963474            0.560527        0.475063        \n",
       "rn6:chr3:11382774-11383274:250         0.519685        0.499033        \n",
       "rheMac10:chr10:10892176-10892676:250   0.405925        0.492735        \n",
       "                                      Catagonus_wagneri\n",
       "rheMac10:chr3:155475508-155476008:250  0.726793        \n",
       "rheMac10:chr18:58133437-58133937:250   0.546719        \n",
       "mm10:chr2:60962973-60963474            0.766712        \n",
       "rn6:chr3:11382774-11383274:250         0.653173        \n",
       "rheMac10:chr10:10892176-10892676:250   0.436828        "
      ]
     },
     "metadata": {},
     "output_type": "display_data"
    },
    {
     "data": {
      "text/html": [
       "<style>\n",
       ".list-inline {list-style: none; margin:0; padding: 0}\n",
       ".list-inline>li {display: inline-block}\n",
       ".list-inline>li:not(:last-child)::after {content: \"\\00b7\"; padding: 0 .5ex}\n",
       "</style>\n",
       "<ol class=list-inline><li>10000</li><li>63</li></ol>\n"
      ],
      "text/latex": [
       "\\begin{enumerate*}\n",
       "\\item 10000\n",
       "\\item 63\n",
       "\\end{enumerate*}\n"
      ],
      "text/markdown": [
       "1. 10000\n",
       "2. 63\n",
       "\n",
       "\n"
      ],
      "text/plain": [
       "[1] 10000    63"
      ]
     },
     "metadata": {},
     "output_type": "display_data"
    }
   ],
   "source": [
    "rownames(hyps_opc_peaks) <- opc_peaks_randsamp[,\"Region\"]\n",
    "hyps_opc_peaks[1:5, 1:5]\n",
    "dim(hyps_opc_peaks)"
   ]
  },
  {
   "cell_type": "code",
   "execution_count": 10,
   "id": "bc50d422-d4a5-4c7c-bbb0-406e6ea6b419",
   "metadata": {},
   "outputs": [
    {
     "data": {
      "text/html": [
       "<table class=\"dataframe\">\n",
       "<caption>A data.frame: 5 × 5</caption>\n",
       "<thead>\n",
       "\t<tr><th></th><th scope=col>Acinonyx_jubatus</th><th scope=col>Ailuropoda_melanoleuca</th><th scope=col>Ailurus_fulgens</th><th scope=col>Alouatta_palliata</th><th scope=col>Ammotragus_lervia</th></tr>\n",
       "\t<tr><th></th><th scope=col>&lt;chr&gt;</th><th scope=col>&lt;chr&gt;</th><th scope=col>&lt;chr&gt;</th><th scope=col>&lt;chr&gt;</th><th scope=col>&lt;chr&gt;</th></tr>\n",
       "</thead>\n",
       "<tbody>\n",
       "\t<tr><th scope=row>rheMac10:chr3:155475508-155476008:250</th><td>-1.000000</td><td> 0.597921</td><td> 0.337647</td><td> 0.437756</td><td> 0.601379</td></tr>\n",
       "\t<tr><th scope=row>rheMac10:chr18:58133437-58133937:250</th><td> 0.504291</td><td> 0.789442</td><td> 0.632457</td><td> 0.695482</td><td> 0.725380</td></tr>\n",
       "\t<tr><th scope=row>mm10:chr2:60962973-60963474</th><td>-1.000000</td><td> 0.744965</td><td> 0.403380</td><td> 0.311648</td><td> 0.734923</td></tr>\n",
       "\t<tr><th scope=row>rn6:chr3:11382774-11383274:250</th><td> 0.413678</td><td>-1.000000</td><td> 0.700459</td><td> 0.576341</td><td>-1.000000</td></tr>\n",
       "\t<tr><th scope=row>rheMac10:chr10:10892176-10892676:250</th><td> 0.544576</td><td> 0.721769</td><td> 0.544420</td><td> 0.704795</td><td>-1.000000</td></tr>\n",
       "</tbody>\n",
       "</table>\n"
      ],
      "text/latex": [
       "A data.frame: 5 × 5\n",
       "\\begin{tabular}{r|lllll}\n",
       "  & Acinonyx\\_jubatus & Ailuropoda\\_melanoleuca & Ailurus\\_fulgens & Alouatta\\_palliata & Ammotragus\\_lervia\\\\\n",
       "  & <chr> & <chr> & <chr> & <chr> & <chr>\\\\\n",
       "\\hline\n",
       "\trheMac10:chr3:155475508-155476008:250 & -1.000000 &  0.597921 &  0.337647 &  0.437756 &  0.601379\\\\\n",
       "\trheMac10:chr18:58133437-58133937:250 &  0.504291 &  0.789442 &  0.632457 &  0.695482 &  0.725380\\\\\n",
       "\tmm10:chr2:60962973-60963474 & -1.000000 &  0.744965 &  0.403380 &  0.311648 &  0.734923\\\\\n",
       "\trn6:chr3:11382774-11383274:250 &  0.413678 & -1.000000 &  0.700459 &  0.576341 & -1.000000\\\\\n",
       "\trheMac10:chr10:10892176-10892676:250 &  0.544576 &  0.721769 &  0.544420 &  0.704795 & -1.000000\\\\\n",
       "\\end{tabular}\n"
      ],
      "text/markdown": [
       "\n",
       "A data.frame: 5 × 5\n",
       "\n",
       "| <!--/--> | Acinonyx_jubatus &lt;chr&gt; | Ailuropoda_melanoleuca &lt;chr&gt; | Ailurus_fulgens &lt;chr&gt; | Alouatta_palliata &lt;chr&gt; | Ammotragus_lervia &lt;chr&gt; |\n",
       "|---|---|---|---|---|---|\n",
       "| rheMac10:chr3:155475508-155476008:250 | -1.000000 |  0.597921 |  0.337647 |  0.437756 |  0.601379 |\n",
       "| rheMac10:chr18:58133437-58133937:250 |  0.504291 |  0.789442 |  0.632457 |  0.695482 |  0.725380 |\n",
       "| mm10:chr2:60962973-60963474 | -1.000000 |  0.744965 |  0.403380 |  0.311648 |  0.734923 |\n",
       "| rn6:chr3:11382774-11383274:250 |  0.413678 | -1.000000 |  0.700459 |  0.576341 | -1.000000 |\n",
       "| rheMac10:chr10:10892176-10892676:250 |  0.544576 |  0.721769 |  0.544420 |  0.704795 | -1.000000 |\n",
       "\n"
      ],
      "text/plain": [
       "                                      Acinonyx_jubatus Ailuropoda_melanoleuca\n",
       "rheMac10:chr3:155475508-155476008:250 -1.000000         0.597921             \n",
       "rheMac10:chr18:58133437-58133937:250   0.504291         0.789442             \n",
       "mm10:chr2:60962973-60963474           -1.000000         0.744965             \n",
       "rn6:chr3:11382774-11383274:250         0.413678        -1.000000             \n",
       "rheMac10:chr10:10892176-10892676:250   0.544576         0.721769             \n",
       "                                      Ailurus_fulgens Alouatta_palliata\n",
       "rheMac10:chr3:155475508-155476008:250  0.337647        0.437756        \n",
       "rheMac10:chr18:58133437-58133937:250   0.632457        0.695482        \n",
       "mm10:chr2:60962973-60963474            0.403380        0.311648        \n",
       "rn6:chr3:11382774-11383274:250         0.700459        0.576341        \n",
       "rheMac10:chr10:10892176-10892676:250   0.544420        0.704795        \n",
       "                                      Ammotragus_lervia\n",
       "rheMac10:chr3:155475508-155476008:250  0.601379        \n",
       "rheMac10:chr18:58133437-58133937:250   0.725380        \n",
       "mm10:chr2:60962973-60963474            0.734923        \n",
       "rn6:chr3:11382774-11383274:250        -1.000000        \n",
       "rheMac10:chr10:10892176-10892676:250  -1.000000        "
      ]
     },
     "metadata": {},
     "output_type": "display_data"
    },
    {
     "data": {
      "text/html": [
       "<style>\n",
       ".list-inline {list-style: none; margin:0; padding: 0}\n",
       ".list-inline>li {display: inline-block}\n",
       ".list-inline>li:not(:last-child)::after {content: \"\\00b7\"; padding: 0 .5ex}\n",
       "</style>\n",
       "<ol class=list-inline><li>10000</li><li>146</li></ol>\n"
      ],
      "text/latex": [
       "\\begin{enumerate*}\n",
       "\\item 10000\n",
       "\\item 146\n",
       "\\end{enumerate*}\n"
      ],
      "text/markdown": [
       "1. 10000\n",
       "2. 146\n",
       "\n",
       "\n"
      ],
      "text/plain": [
       "[1] 10000   146"
      ]
     },
     "metadata": {},
     "output_type": "display_data"
    }
   ],
   "source": [
    "nonhyps_opc_peaks <- as.data.frame(opc_peaks_randsamp) %>% select(any_of(nonhyps_names))\n",
    "rownames(nonhyps_opc_peaks) <- opc_peaks_randsamp[,\"Region\"]\n",
    "nonhyps_opc_peaks[1:5, 1:5]\n",
    "dim(nonhyps_opc_peaks)"
   ]
  },
  {
   "cell_type": "markdown",
   "id": "e08e9131-f84e-47b3-a8b9-5a456a20e4c1",
   "metadata": {},
   "source": [
    "### PART 2: OPEN CHROMATIN DIFFERENCES"
   ]
  },
  {
   "cell_type": "code",
   "execution_count": 11,
   "id": "ec9cdab0-a5c3-4044-b061-d3fdef61a5ba",
   "metadata": {},
   "outputs": [
    {
     "data": {
      "text/html": [
       "<table class=\"dataframe\">\n",
       "<caption>A data.frame: 10 × 4</caption>\n",
       "<thead>\n",
       "\t<tr><th></th><th scope=col>id</th><th scope=col>meanDiff</th><th scope=col>pvalue</th><th scope=col>padj</th></tr>\n",
       "\t<tr><th></th><th scope=col>&lt;chr&gt;</th><th scope=col>&lt;dbl&gt;</th><th scope=col>&lt;dbl&gt;</th><th scope=col>&lt;dbl&gt;</th></tr>\n",
       "</thead>\n",
       "<tbody>\n",
       "\t<tr><th scope=row>rheMac10:chr14:94018099-94018599:250</th><td>rheMac10:chr14:94018099-94018599:250</td><td>-1.166841</td><td>3.739627e-40</td><td>3.611358e-36</td></tr>\n",
       "\t<tr><th scope=row>rheMac10:chr7:14970683-14971183:250</th><td>rheMac10:chr7:14970683-14971183:250 </td><td>-1.156606</td><td>5.290916e-40</td><td>5.108908e-36</td></tr>\n",
       "\t<tr><th scope=row>rheMac10:chr13:83999136-83999636:250</th><td>rheMac10:chr13:83999136-83999636:250</td><td>-1.068573</td><td>7.480792e-39</td><td>7.222705e-35</td></tr>\n",
       "\t<tr><th scope=row>rheMac10:chr16:16917684-16918184:250</th><td>rheMac10:chr16:16917684-16918184:250</td><td>-1.041467</td><td>1.478127e-36</td><td>1.426984e-32</td></tr>\n",
       "\t<tr><th scope=row>rheMac10:chr2:2753620-2754120:250</th><td>rheMac10:chr2:2753620-2754120:250   </td><td>-1.226441</td><td>2.839644e-35</td><td>2.741108e-31</td></tr>\n",
       "\t<tr><th scope=row>hg38:chr6:109448294-109448795</th><td>hg38:chr6:109448294-109448795       </td><td>-1.209471</td><td>6.643296e-34</td><td>6.412110e-30</td></tr>\n",
       "\t<tr><th scope=row>rheMac10:chr20:11629969-11630469:250</th><td>rheMac10:chr20:11629969-11630469:250</td><td>-1.263702</td><td>6.831316e-33</td><td>6.592903e-29</td></tr>\n",
       "\t<tr><th scope=row>hg38:chr4:82900421-82900922</th><td>hg38:chr4:82900421-82900922         </td><td>-1.291502</td><td>9.475720e-33</td><td>9.144069e-29</td></tr>\n",
       "\t<tr><th scope=row>rheMac10:chr19:4974357-4974857:250</th><td>rheMac10:chr19:4974357-4974857:250  </td><td>-1.068616</td><td>1.409556e-32</td><td>1.360080e-28</td></tr>\n",
       "\t<tr><th scope=row>rheMac10:chr12:53536030-53536530:250</th><td>rheMac10:chr12:53536030-53536530:250</td><td>-0.952081</td><td>1.904616e-32</td><td>1.837573e-28</td></tr>\n",
       "</tbody>\n",
       "</table>\n"
      ],
      "text/latex": [
       "A data.frame: 10 × 4\n",
       "\\begin{tabular}{r|llll}\n",
       "  & id & meanDiff & pvalue & padj\\\\\n",
       "  & <chr> & <dbl> & <dbl> & <dbl>\\\\\n",
       "\\hline\n",
       "\trheMac10:chr14:94018099-94018599:250 & rheMac10:chr14:94018099-94018599:250 & -1.166841 & 3.739627e-40 & 3.611358e-36\\\\\n",
       "\trheMac10:chr7:14970683-14971183:250 & rheMac10:chr7:14970683-14971183:250  & -1.156606 & 5.290916e-40 & 5.108908e-36\\\\\n",
       "\trheMac10:chr13:83999136-83999636:250 & rheMac10:chr13:83999136-83999636:250 & -1.068573 & 7.480792e-39 & 7.222705e-35\\\\\n",
       "\trheMac10:chr16:16917684-16918184:250 & rheMac10:chr16:16917684-16918184:250 & -1.041467 & 1.478127e-36 & 1.426984e-32\\\\\n",
       "\trheMac10:chr2:2753620-2754120:250 & rheMac10:chr2:2753620-2754120:250    & -1.226441 & 2.839644e-35 & 2.741108e-31\\\\\n",
       "\thg38:chr6:109448294-109448795 & hg38:chr6:109448294-109448795        & -1.209471 & 6.643296e-34 & 6.412110e-30\\\\\n",
       "\trheMac10:chr20:11629969-11630469:250 & rheMac10:chr20:11629969-11630469:250 & -1.263702 & 6.831316e-33 & 6.592903e-29\\\\\n",
       "\thg38:chr4:82900421-82900922 & hg38:chr4:82900421-82900922          & -1.291502 & 9.475720e-33 & 9.144069e-29\\\\\n",
       "\trheMac10:chr19:4974357-4974857:250 & rheMac10:chr19:4974357-4974857:250   & -1.068616 & 1.409556e-32 & 1.360080e-28\\\\\n",
       "\trheMac10:chr12:53536030-53536530:250 & rheMac10:chr12:53536030-53536530:250 & -0.952081 & 1.904616e-32 & 1.837573e-28\\\\\n",
       "\\end{tabular}\n"
      ],
      "text/markdown": [
       "\n",
       "A data.frame: 10 × 4\n",
       "\n",
       "| <!--/--> | id &lt;chr&gt; | meanDiff &lt;dbl&gt; | pvalue &lt;dbl&gt; | padj &lt;dbl&gt; |\n",
       "|---|---|---|---|---|\n",
       "| rheMac10:chr14:94018099-94018599:250 | rheMac10:chr14:94018099-94018599:250 | -1.166841 | 3.739627e-40 | 3.611358e-36 |\n",
       "| rheMac10:chr7:14970683-14971183:250 | rheMac10:chr7:14970683-14971183:250  | -1.156606 | 5.290916e-40 | 5.108908e-36 |\n",
       "| rheMac10:chr13:83999136-83999636:250 | rheMac10:chr13:83999136-83999636:250 | -1.068573 | 7.480792e-39 | 7.222705e-35 |\n",
       "| rheMac10:chr16:16917684-16918184:250 | rheMac10:chr16:16917684-16918184:250 | -1.041467 | 1.478127e-36 | 1.426984e-32 |\n",
       "| rheMac10:chr2:2753620-2754120:250 | rheMac10:chr2:2753620-2754120:250    | -1.226441 | 2.839644e-35 | 2.741108e-31 |\n",
       "| hg38:chr6:109448294-109448795 | hg38:chr6:109448294-109448795        | -1.209471 | 6.643296e-34 | 6.412110e-30 |\n",
       "| rheMac10:chr20:11629969-11630469:250 | rheMac10:chr20:11629969-11630469:250 | -1.263702 | 6.831316e-33 | 6.592903e-29 |\n",
       "| hg38:chr4:82900421-82900922 | hg38:chr4:82900421-82900922          | -1.291502 | 9.475720e-33 | 9.144069e-29 |\n",
       "| rheMac10:chr19:4974357-4974857:250 | rheMac10:chr19:4974357-4974857:250   | -1.068616 | 1.409556e-32 | 1.360080e-28 |\n",
       "| rheMac10:chr12:53536030-53536530:250 | rheMac10:chr12:53536030-53536530:250 | -0.952081 | 1.904616e-32 | 1.837573e-28 |\n",
       "\n"
      ],
      "text/plain": [
       "                                     id                                  \n",
       "rheMac10:chr14:94018099-94018599:250 rheMac10:chr14:94018099-94018599:250\n",
       "rheMac10:chr7:14970683-14971183:250  rheMac10:chr7:14970683-14971183:250 \n",
       "rheMac10:chr13:83999136-83999636:250 rheMac10:chr13:83999136-83999636:250\n",
       "rheMac10:chr16:16917684-16918184:250 rheMac10:chr16:16917684-16918184:250\n",
       "rheMac10:chr2:2753620-2754120:250    rheMac10:chr2:2753620-2754120:250   \n",
       "hg38:chr6:109448294-109448795        hg38:chr6:109448294-109448795       \n",
       "rheMac10:chr20:11629969-11630469:250 rheMac10:chr20:11629969-11630469:250\n",
       "hg38:chr4:82900421-82900922          hg38:chr4:82900421-82900922         \n",
       "rheMac10:chr19:4974357-4974857:250   rheMac10:chr19:4974357-4974857:250  \n",
       "rheMac10:chr12:53536030-53536530:250 rheMac10:chr12:53536030-53536530:250\n",
       "                                     meanDiff  pvalue       padj        \n",
       "rheMac10:chr14:94018099-94018599:250 -1.166841 3.739627e-40 3.611358e-36\n",
       "rheMac10:chr7:14970683-14971183:250  -1.156606 5.290916e-40 5.108908e-36\n",
       "rheMac10:chr13:83999136-83999636:250 -1.068573 7.480792e-39 7.222705e-35\n",
       "rheMac10:chr16:16917684-16918184:250 -1.041467 1.478127e-36 1.426984e-32\n",
       "rheMac10:chr2:2753620-2754120:250    -1.226441 2.839644e-35 2.741108e-31\n",
       "hg38:chr6:109448294-109448795        -1.209471 6.643296e-34 6.412110e-30\n",
       "rheMac10:chr20:11629969-11630469:250 -1.263702 6.831316e-33 6.592903e-29\n",
       "hg38:chr4:82900421-82900922          -1.291502 9.475720e-33 9.144069e-29\n",
       "rheMac10:chr19:4974357-4974857:250   -1.068616 1.409556e-32 1.360080e-28\n",
       "rheMac10:chr12:53536030-53536530:250 -0.952081 1.904616e-32 1.837573e-28"
      ]
     },
     "metadata": {},
     "output_type": "display_data"
    }
   ],
   "source": [
    "#code to do this part borrowed from HW2\n",
    "diffPvaluesV <- rep(NA,nrow(hyps_opc_peaks)); #Create an empty vector to store the p-values per open chromatin region in\n",
    "names(diffPvaluesV) <- rownames(hyps_opc_peaks); #Name that vector with the peak names\n",
    "diffMeansV <- diffPvaluesV #Create a new vector, also empty, to store the differences across species\n",
    "\n",
    "#modified to do hypselodonts\n",
    "peak_ids <- rownames(hyps_opc_peaks)\n",
    "for(curPeak in peak_ids) { #Loop through each of the peaks\n",
    "  hypVals <- as.numeric(hyps_opc_peaks[curPeak,]); #For that peak get the HYPSELODONT predicitons\n",
    "  nonHypVals <- as.numeric(nonhyps_opc_peaks[curPeak,]); #For that peak get the NON-HYPSELODONT predicitons\n",
    "    if(sd(hypVals,na.rm=T) > 0 && sd(nonHypVals,na.rm=T) > 0) { #Ensure that standard deviation greater than 0\n",
    "      curTtest <- t.test(x=hypVals,y=nonHypVals);\n",
    "      diffPvaluesV[curPeak] <- curTtest$p.value\n",
    "      diffMeansV[curPeak] <- mean(hypVals,na.rm=T) - mean(nonHypVals,na.rm=T);\n",
    "    }\n",
    "}\n",
    "\n",
    "diffResultsF <- data.frame(id=peak_ids, meanDiff=diffMeansV, pvalue=diffPvaluesV, padj = p.adjust(diffPvaluesV))\n",
    "diffResultsSortF <- diffResultsF[order(diffResultsF$padj),]\n",
    "diffResultsSortF[1:10,]"
   ]
  },
  {
   "cell_type": "markdown",
   "id": "c263f709-c01d-4d5f-b651-dd1be15fe4be",
   "metadata": {},
   "source": [
    "#### USING PHYLOLM: REQUIRES NEW KERNEL WITHOUT DPLYR\n",
    "I honestly think the results are similar to using the t-test but we will do this anyway."
   ]
  },
  {
   "cell_type": "code",
   "execution_count": 10,
   "id": "efb6eb46-fde5-4096-98b9-32fc08672a12",
   "metadata": {},
   "outputs": [
    {
     "data": {
      "text/html": [
       "<table class=\"dataframe\">\n",
       "<caption>A data.frame: 5 × 5</caption>\n",
       "<thead>\n",
       "\t<tr><th></th><th scope=col>rheMac10:chr3:155475508-155476008:250</th><th scope=col>rheMac10:chr18:58133437-58133937:250</th><th scope=col>mm10:chr2:60962973-60963474</th><th scope=col>rn6:chr3:11382774-11383274:250</th><th scope=col>rheMac10:chr10:10892176-10892676:250</th></tr>\n",
       "\t<tr><th></th><th scope=col>&lt;chr&gt;</th><th scope=col>&lt;chr&gt;</th><th scope=col>&lt;chr&gt;</th><th scope=col>&lt;chr&gt;</th><th scope=col>&lt;chr&gt;</th></tr>\n",
       "</thead>\n",
       "<tbody>\n",
       "\t<tr><th scope=row>Acomys_cahirinus...1</th><td> 0.333577</td><td>-1.000000</td><td> 0.496151</td><td>-1.000000</td><td>-1.000000</td></tr>\n",
       "\t<tr><th scope=row>Allactaga_bullata...2</th><td> 0.466885</td><td> 0.336123</td><td> 0.582556</td><td> 0.679630</td><td> 0.535001</td></tr>\n",
       "\t<tr><th scope=row>Aplodontia_rufa...3</th><td> 0.454568</td><td> 0.819937</td><td> 0.560527</td><td> 0.519685</td><td> 0.405925</td></tr>\n",
       "\t<tr><th scope=row>Castor_canadensis...4</th><td> 0.420941</td><td>-1.000000</td><td> 0.475063</td><td> 0.499033</td><td> 0.492735</td></tr>\n",
       "\t<tr><th scope=row>Catagonus_wagneri...5</th><td> 0.726793</td><td> 0.546719</td><td> 0.766712</td><td> 0.653173</td><td> 0.436828</td></tr>\n",
       "</tbody>\n",
       "</table>\n"
      ],
      "text/latex": [
       "A data.frame: 5 × 5\n",
       "\\begin{tabular}{r|lllll}\n",
       "  & rheMac10:chr3:155475508-155476008:250 & rheMac10:chr18:58133437-58133937:250 & mm10:chr2:60962973-60963474 & rn6:chr3:11382774-11383274:250 & rheMac10:chr10:10892176-10892676:250\\\\\n",
       "  & <chr> & <chr> & <chr> & <chr> & <chr>\\\\\n",
       "\\hline\n",
       "\tAcomys\\_cahirinus...1 &  0.333577 & -1.000000 &  0.496151 & -1.000000 & -1.000000\\\\\n",
       "\tAllactaga\\_bullata...2 &  0.466885 &  0.336123 &  0.582556 &  0.679630 &  0.535001\\\\\n",
       "\tAplodontia\\_rufa...3 &  0.454568 &  0.819937 &  0.560527 &  0.519685 &  0.405925\\\\\n",
       "\tCastor\\_canadensis...4 &  0.420941 & -1.000000 &  0.475063 &  0.499033 &  0.492735\\\\\n",
       "\tCatagonus\\_wagneri...5 &  0.726793 &  0.546719 &  0.766712 &  0.653173 &  0.436828\\\\\n",
       "\\end{tabular}\n"
      ],
      "text/markdown": [
       "\n",
       "A data.frame: 5 × 5\n",
       "\n",
       "| <!--/--> | rheMac10:chr3:155475508-155476008:250 &lt;chr&gt; | rheMac10:chr18:58133437-58133937:250 &lt;chr&gt; | mm10:chr2:60962973-60963474 &lt;chr&gt; | rn6:chr3:11382774-11383274:250 &lt;chr&gt; | rheMac10:chr10:10892176-10892676:250 &lt;chr&gt; |\n",
       "|---|---|---|---|---|---|\n",
       "| Acomys_cahirinus...1 |  0.333577 | -1.000000 |  0.496151 | -1.000000 | -1.000000 |\n",
       "| Allactaga_bullata...2 |  0.466885 |  0.336123 |  0.582556 |  0.679630 |  0.535001 |\n",
       "| Aplodontia_rufa...3 |  0.454568 |  0.819937 |  0.560527 |  0.519685 |  0.405925 |\n",
       "| Castor_canadensis...4 |  0.420941 | -1.000000 |  0.475063 |  0.499033 |  0.492735 |\n",
       "| Catagonus_wagneri...5 |  0.726793 |  0.546719 |  0.766712 |  0.653173 |  0.436828 |\n",
       "\n"
      ],
      "text/plain": [
       "                      rheMac10:chr3:155475508-155476008:250\n",
       "Acomys_cahirinus...1   0.333577                            \n",
       "Allactaga_bullata...2  0.466885                            \n",
       "Aplodontia_rufa...3    0.454568                            \n",
       "Castor_canadensis...4  0.420941                            \n",
       "Catagonus_wagneri...5  0.726793                            \n",
       "                      rheMac10:chr18:58133437-58133937:250\n",
       "Acomys_cahirinus...1  -1.000000                           \n",
       "Allactaga_bullata...2  0.336123                           \n",
       "Aplodontia_rufa...3    0.819937                           \n",
       "Castor_canadensis...4 -1.000000                           \n",
       "Catagonus_wagneri...5  0.546719                           \n",
       "                      mm10:chr2:60962973-60963474\n",
       "Acomys_cahirinus...1   0.496151                  \n",
       "Allactaga_bullata...2  0.582556                  \n",
       "Aplodontia_rufa...3    0.560527                  \n",
       "Castor_canadensis...4  0.475063                  \n",
       "Catagonus_wagneri...5  0.766712                  \n",
       "                      rn6:chr3:11382774-11383274:250\n",
       "Acomys_cahirinus...1  -1.000000                     \n",
       "Allactaga_bullata...2  0.679630                     \n",
       "Aplodontia_rufa...3    0.519685                     \n",
       "Castor_canadensis...4  0.499033                     \n",
       "Catagonus_wagneri...5  0.653173                     \n",
       "                      rheMac10:chr10:10892176-10892676:250\n",
       "Acomys_cahirinus...1  -1.000000                           \n",
       "Allactaga_bullata...2  0.535001                           \n",
       "Aplodontia_rufa...3    0.405925                           \n",
       "Castor_canadensis...4  0.492735                           \n",
       "Catagonus_wagneri...5  0.436828                           "
      ]
     },
     "metadata": {},
     "output_type": "display_data"
    },
    {
     "data": {
      "text/html": [
       "<style>\n",
       ".list-inline {list-style: none; margin:0; padding: 0}\n",
       ".list-inline>li {display: inline-block}\n",
       ".list-inline>li:not(:last-child)::after {content: \"\\00b7\"; padding: 0 .5ex}\n",
       "</style>\n",
       "<ol class=list-inline><li>126</li><li>10001</li></ol>\n"
      ],
      "text/latex": [
       "\\begin{enumerate*}\n",
       "\\item 126\n",
       "\\item 10001\n",
       "\\end{enumerate*}\n"
      ],
      "text/markdown": [
       "1. 126\n",
       "2. 10001\n",
       "\n",
       "\n"
      ],
      "text/plain": [
       "[1]   126 10001"
      ]
     },
     "metadata": {},
     "output_type": "display_data"
    }
   ],
   "source": [
    "#modify the data so that the variables are on the top, animals on the side, add hypselodonty\n",
    "library(tidyr)\n",
    "hypsTemp <- t(hyps_opc_peaks)\n",
    "hypsTemp <- as.data.frame(hypsTemp)\n",
    "hypsTemp <- hypsTemp %>% mutate(Hypselodont = 1)\n",
    "\n",
    "nonhypsTemp <- t(nonhyps_opc_peaks)\n",
    "nonhypsTemp <- as.data.frame(nonhypsTemp)\n",
    "nonhypsTemp <- nonhypsTemp %>% mutate(Hypselodont = 0)\n",
    "\n",
    "combined_hyp_peaks <- bind_rows(hypsTemp, nonhypsTemp)\n",
    "combined_hyp_peaks[1:5, 1:5]\n",
    "dim(combined_hyp_peaks)\n",
    "\n",
    "#write this as csv so that we can read it in to do phylolm\n",
    "write.csv(combined_hyp_peaks, file=\"~/geb/data/hyps_opc_peaks.csv\")"
   ]
  },
  {
   "cell_type": "code",
   "execution_count": null,
   "id": "1a261790-4c22-442a-b28e-ea530d2f4730",
   "metadata": {},
   "outputs": [],
   "source": [
    "library(phylolm)\n",
    "library(janitor)\n",
    "zoonomiaTree <- read.tree(file = \"~/geb/data/Zoonomia_ChrX_lessGC40_241species_30Consensus.tree\")\n",
    "\n",
    "#load in data from earlier:\n",
    "combined_hyp_peaks <- clean_names(combined_hyp_peaks)\n",
    "peakNames <- colnames(combined_hyp_peaks)\n",
    "peakNames <- peakNames[! peakNames %in% c('hypselodont')]"
   ]
  },
  {
   "cell_type": "code",
   "execution_count": null,
   "id": "e9809d4d-70ed-4ccc-a3e5-b6b5c02e20e5",
   "metadata": {},
   "outputs": [],
   "source": [
    "PvaluesPHY <- rep(NA,nrow(hyps_opc_peaks))\n",
    "names(PvaluesPHY) <- rownames(hyps_opc_peaks)\n",
    "corrsPHY <- PvaluesPHY\n",
    "slopesPHY <- PvaluesPHY\n",
    "\n",
    "curIndex = 1\n",
    "\n",
    "for(curPeak in peakNames) {\n",
    "    peakLmFit <- phylolm(as.numeric(combined_hyp_peaks[,curIndex]) ~ hypselodont, \n",
    "                         data=combined_hyp_peaks, \n",
    "                         phy=zoonomiaTree, model=\"BM\")\n",
    "    peakLmFitSum <- summary(peakLmFit)\n",
    "    \n",
    "    PvaluesPHY[curPeak] <- peakLmFitSum$coefficients[8]\n",
    "    slopesPHY[curPeak] <- peakLmFitSum$coefficients[2]\n",
    "    #print(peakLmFitSum$coefficients[8])\n",
    "    corrsPHY[curPeak] <- peakLmFitSum$adj.r.squared\n",
    "    curIndex <- curIndex + 1\n",
    "}\n",
    "\n",
    "phyloRes <- data.frame(id=peakNames, r_squared_adj=corrsPHY,\n",
    "                       effect_size=slopesPHY,pvalue=PvaluesPHY, \n",
    "                       padj = p.adjust(PvaluesPHY))\n",
    "phyloRes <- phyloRes[order(phyloRes$padj),]\n",
    "\n",
    "write.csv(phyloRes, file=\"phyloRes.csv\")"
   ]
  },
  {
   "cell_type": "code",
   "execution_count": 12,
   "id": "68657a3f-b880-4687-9213-d2f8168d17dc",
   "metadata": {},
   "outputs": [
    {
     "data": {
      "text/html": [
       "78"
      ],
      "text/latex": [
       "78"
      ],
      "text/markdown": [
       "78"
      ],
      "text/plain": [
       "[1] 78"
      ]
     },
     "metadata": {},
     "output_type": "display_data"
    },
    {
     "data": {
      "text/html": [
       "1528"
      ],
      "text/latex": [
       "1528"
      ],
      "text/markdown": [
       "1528"
      ],
      "text/plain": [
       "[1] 1528"
      ]
     },
     "metadata": {},
     "output_type": "display_data"
    }
   ],
   "source": [
    "#reading in dataset of results: make this easier for all of us\n",
    "phyloRes <- read.csv(\"~/geb/data/phyloRes.csv\")\n",
    "\n",
    "#number with padj below 0.1\n",
    "nrow(phyloRes %>% filter(padj < 0.1)) #switch back to dplyr\n",
    "nrow(diffResultsSortF %>% filter(padj < 0.1))"
   ]
  },
  {
   "cell_type": "markdown",
   "id": "eaad9afc-6c05-4887-8276-58eb77975674",
   "metadata": {},
   "source": [
    "#### Plotting Histograms\n",
    "First, for the t-test:"
   ]
  },
  {
   "cell_type": "code",
   "execution_count": 62,
   "id": "dc69d139-85f2-45b5-9ecd-77792517d93e",
   "metadata": {},
   "outputs": [
    {
     "name": "stderr",
     "output_type": "stream",
     "text": [
      "\u001b[1m\u001b[22m`stat_bin()` using `bins = 30`. Pick better value with `binwidth`.\n",
      "Warning message:\n",
      "“\u001b[1m\u001b[22mRemoved 343 rows containing non-finite outside the scale range (`stat_bin()`).”\n"
     ]
    },
    {
     "data": {
      "image/png": "[encoded data removed]",
      "text/plain": [
       "plot without title"
      ]
     },
     "metadata": {
      "image/png": {
       "height": 420,
       "width": 420
      }
     },
     "output_type": "display_data"
    }
   ],
   "source": [
    "ggplot(data = diffResultsSortF, aes(x=pvalue)) +\n",
    "    geom_histogram() +\n",
    "    labs(x = \"Raw P-Value\",\n",
    "         y = \"Frequency\",\n",
    "         title = \"Histogram of t-Test P-Values\")"
   ]
  },
  {
   "cell_type": "code",
   "execution_count": 63,
   "id": "bfcdc706-fff6-48bb-9cb2-cf67feebcd8c",
   "metadata": {},
   "outputs": [
    {
     "name": "stderr",
     "output_type": "stream",
     "text": [
      "\u001b[1m\u001b[22m`stat_bin()` using `bins = 30`. Pick better value with `binwidth`.\n",
      "Warning message:\n",
      "“\u001b[1m\u001b[22mRemoved 343 rows containing non-finite outside the scale range (`stat_bin()`).”\n"
     ]
    },
    {
     "data": {
      "image/png": "[encoded data removed]",
      "text/plain": [
       "plot without title"
      ]
     },
     "metadata": {
      "image/png": {
       "height": 420,
       "width": 420
      }
     },
     "output_type": "display_data"
    }
   ],
   "source": [
    "ggplot(data = diffResultsSortF, aes(x=meanDiff)) +\n",
    "    geom_histogram() +\n",
    "    labs(x = \"Difference of Means\",\n",
    "         y = \"Frequency\",\n",
    "         title = \"Histogram of t-Test Mean Differences\")"
   ]
  },
  {
   "cell_type": "code",
   "execution_count": 13,
   "id": "6a656290-cf30-4a97-8865-eab6a94aab7e",
   "metadata": {},
   "outputs": [
    {
     "name": "stderr",
     "output_type": "stream",
     "text": [
      "\u001b[1m\u001b[22m`stat_bin()` using `bins = 30`. Pick better value with `binwidth`.\n",
      "Warning message:\n",
      "“\u001b[1m\u001b[22mRemoved 10000 rows containing non-finite outside the scale range\n",
      "(`stat_bin()`).”\n",
      "\u001b[1m\u001b[22m`stat_bin()` using `bins = 30`. Pick better value with `binwidth`.\n",
      "Warning message:\n",
      "“\u001b[1m\u001b[22mRemoved 10000 rows containing non-finite outside the scale range\n",
      "(`stat_bin()`).”\n"
     ]
    },
    {
     "data": {
      "image/png": "[encoded data removed]",
      "text/plain": [
       "plot without title"
      ]
     },
     "metadata": {
      "image/png": {
       "height": 420,
       "width": 420
      }
     },
     "output_type": "display_data"
    },
    {
     "data": {
      "image/png": "[encoded data removed]",
      "text/plain": [
       "plot without title"
      ]
     },
     "metadata": {
      "image/png": {
       "height": 420,
       "width": 420
      }
     },
     "output_type": "display_data"
    }
   ],
   "source": [
    "#phyloLM results\n",
    "ggplot(data = phyloRes, aes(x=pvalue)) +\n",
    "    geom_histogram() +\n",
    "    labs(x = \"Raw P-Value\",\n",
    "         y = \"Frequency\",\n",
    "         title = \"Histogram of PhyloLM P-Values\")\n",
    "\n",
    "ggplot(data = phyloRes, aes(x=effect_size)) +\n",
    "    geom_histogram() +\n",
    "    labs(x = \"Effect Size\",\n",
    "         y = \"Frequency\",\n",
    "         title = \"Histogram of t-Test Mean Differences\")"
   ]
  },
  {
   "cell_type": "code",
   "execution_count": 14,
   "id": "e1c274dc-0bf1-4768-983c-05e0ccf0349f",
   "metadata": {},
   "outputs": [
    {
     "data": {
      "text/html": [
       "<table class=\"dataframe\">\n",
       "<caption>A data.frame: 5210 × 5</caption>\n",
       "<thead>\n",
       "\t<tr><th scope=col>X</th><th scope=col>id</th><th scope=col>r_squared_adj</th><th scope=col>effect_size</th><th scope=col>pvalue</th></tr>\n",
       "\t<tr><th scope=col>&lt;chr&gt;</th><th scope=col>&lt;chr&gt;</th><th scope=col>&lt;dbl&gt;</th><th scope=col>&lt;dbl&gt;</th><th scope=col>&lt;dbl&gt;</th></tr>\n",
       "</thead>\n",
       "<tbody>\n",
       "\t<tr><td>rhe_mac10_chr1_207215838_207216338_250 </td><td>rhe_mac10_chr1_207215838_207216338_250 </td><td>0.14099222</td><td>0.7412123</td><td>1.268098e-08</td></tr>\n",
       "\t<tr><td>rn6_chr2_149430176_149430676_250       </td><td>rn6_chr2_149430176_149430676_250       </td><td>0.13333142</td><td>0.7915858</td><td>3.260346e-08</td></tr>\n",
       "\t<tr><td>rn6_chr4_136650730_136651230_250       </td><td>rn6_chr4_136650730_136651230_250       </td><td>0.13207253</td><td>0.9886597</td><td>3.805173e-08</td></tr>\n",
       "\t<tr><td>rn6_chr10_6009669_6010169_250          </td><td>rn6_chr10_6009669_6010169_250          </td><td>0.12941551</td><td>0.9055822</td><td>5.269401e-08</td></tr>\n",
       "\t<tr><td>rn6_chr19_30669236_30669736_250        </td><td>rn6_chr19_30669236_30669736_250        </td><td>0.12234846</td><td>0.6820978</td><td>1.247845e-07</td></tr>\n",
       "\t<tr><td>rn6_chr6_74415125_74415625_250         </td><td>rn6_chr6_74415125_74415625_250         </td><td>0.12201007</td><td>0.6888503</td><td>1.300255e-07</td></tr>\n",
       "\t<tr><td>rn6_chr9_93044990_93045490_250         </td><td>rn6_chr9_93044990_93045490_250         </td><td>0.11966662</td><td>0.9308011</td><td>1.728325e-07</td></tr>\n",
       "\t<tr><td>rhe_mac10_chr4_162002124_162002624_250 </td><td>rhe_mac10_chr4_162002124_162002624_250 </td><td>0.11155448</td><td>0.9388924</td><td>4.608473e-07</td></tr>\n",
       "\t<tr><td>rhe_mac10_chr_x_43664557_43665057_250  </td><td>rhe_mac10_chr_x_43664557_43665057_250  </td><td>0.10810859</td><td>0.8548935</td><td>6.976185e-07</td></tr>\n",
       "\t<tr><td>rhe_mac10_chr1_216866009_216866509_250 </td><td>rhe_mac10_chr1_216866009_216866509_250 </td><td>0.10686028</td><td>0.7931080</td><td>8.104457e-07</td></tr>\n",
       "\t<tr><td>rn6_chr12_24254217_24254717_250        </td><td>rn6_chr12_24254217_24254717_250        </td><td>0.10460305</td><td>0.8668595</td><td>1.062399e-06</td></tr>\n",
       "\t<tr><td>rhe_mac10_chr6_31575964_31576464_250   </td><td>rhe_mac10_chr6_31575964_31576464_250   </td><td>0.10198261</td><td>0.8172904</td><td>1.453818e-06</td></tr>\n",
       "\t<tr><td>hg38_chr17_71828125_71828626           </td><td>hg38_chr17_71828125_71828626           </td><td>0.09743713</td><td>0.5920528</td><td>2.501318e-06</td></tr>\n",
       "\t<tr><td>rn6_chr6_42163171_42163671_250         </td><td>rn6_chr6_42163171_42163671_250         </td><td>0.09314716</td><td>0.5840723</td><td>4.167459e-06</td></tr>\n",
       "\t<tr><td>rn6_chr8_23098746_23099246_250         </td><td>rn6_chr8_23098746_23099246_250         </td><td>0.09292333</td><td>0.7684203</td><td>4.279771e-06</td></tr>\n",
       "\t<tr><td>rn6_chr14_100628365_100628865_250      </td><td>rn6_chr14_100628365_100628865_250      </td><td>0.08915610</td><td>0.7061568</td><td>6.691765e-06</td></tr>\n",
       "\t<tr><td>rn6_chr4_64825333_64825833_250         </td><td>rn6_chr4_64825333_64825833_250         </td><td>0.08780768</td><td>0.8309013</td><td>7.850663e-06</td></tr>\n",
       "\t<tr><td>hg38_chr3_40664361_40664862            </td><td>hg38_chr3_40664361_40664862            </td><td>0.08659517</td><td>0.9962441</td><td>9.062117e-06</td></tr>\n",
       "\t<tr><td>hg38_chr12_6851735_6852236             </td><td>hg38_chr12_6851735_6852236             </td><td>0.08519799</td><td>0.7207276</td><td>1.069022e-05</td></tr>\n",
       "\t<tr><td>rhe_mac10_chr7_18389495_18389995_250   </td><td>rhe_mac10_chr7_18389495_18389995_250   </td><td>0.08358193</td><td>0.7346718</td><td>1.293927e-05</td></tr>\n",
       "\t<tr><td>rn6_chr15_56082594_56083094_250        </td><td>rn6_chr15_56082594_56083094_250        </td><td>0.08066417</td><td>0.8488022</td><td>1.825692e-05</td></tr>\n",
       "\t<tr><td>rhe_mac10_chr15_108090577_108091077_250</td><td>rhe_mac10_chr15_108090577_108091077_250</td><td>0.07895404</td><td>0.7036073</td><td>2.233304e-05</td></tr>\n",
       "\t<tr><td>rn6_chr1_167372530_167373030_250       </td><td>rn6_chr1_167372530_167373030_250       </td><td>0.07830643</td><td>0.7573001</td><td>2.410293e-05</td></tr>\n",
       "\t<tr><td>rn6_chr8_22967687_22968187_250         </td><td>rn6_chr8_22967687_22968187_250         </td><td>0.07819877</td><td>0.6991518</td><td>2.441041e-05</td></tr>\n",
       "\t<tr><td>rhe_mac10_chr10_10270451_10270951_250  </td><td>rhe_mac10_chr10_10270451_10270951_250  </td><td>0.07812552</td><td>0.6936601</td><td>2.462185e-05</td></tr>\n",
       "\t<tr><td>rhe_mac10_chr12_91048962_91049462_250  </td><td>rhe_mac10_chr12_91048962_91049462_250  </td><td>0.07756109</td><td>0.6107189</td><td>2.631339e-05</td></tr>\n",
       "\t<tr><td>rn6_chr5_159163793_159164293_250       </td><td>rn6_chr5_159163793_159164293_250       </td><td>0.07745774</td><td>0.6098003</td><td>2.663540e-05</td></tr>\n",
       "\t<tr><td>rn6_chr3_148926232_148926732_250       </td><td>rn6_chr3_148926232_148926732_250       </td><td>0.07378884</td><td>0.6287465</td><td>4.100355e-05</td></tr>\n",
       "\t<tr><td>rn6_chr15_87916660_87917160_250        </td><td>rn6_chr15_87916660_87917160_250        </td><td>0.07317537</td><td>0.7433830</td><td>4.406748e-05</td></tr>\n",
       "\t<tr><td>rn6_chr3_148942396_148942896_250       </td><td>rn6_chr3_148942396_148942896_250       </td><td>0.07246240</td><td>0.5859463</td><td>4.791594e-05</td></tr>\n",
       "\t<tr><td>⋮</td><td>⋮</td><td>⋮</td><td>⋮</td><td>⋮</td></tr>\n",
       "\t<tr><td>rn6_chr2_204523298_204523798_250       </td><td>rn6_chr2_204523298_204523798_250       </td><td> 0.0054705355</td><td>0.154578918</td><td>0.14463312</td></tr>\n",
       "\t<tr><td>rn6_chr4_146047327_146047827_250       </td><td>rn6_chr4_146047327_146047827_250       </td><td>-0.0047861011</td><td>0.013780947</td><td>0.92354369</td></tr>\n",
       "\t<tr><td>hg38_chr10_5889704_5890205             </td><td>hg38_chr10_5889704_5890205             </td><td>-0.0038632074</td><td>0.103849642</td><td>0.65555519</td></tr>\n",
       "\t<tr><td>rhe_mac10_chr7_135805186_135805686_250 </td><td>rhe_mac10_chr7_135805186_135805686_250 </td><td>-0.0031497404</td><td>0.066063108</td><td>0.55650913</td></tr>\n",
       "\t<tr><td>mm10_chr11_11102627_11103128           </td><td>mm10_chr11_11102627_11103128           </td><td>-0.0047279912</td><td>0.018622782</td><td>0.88436206</td></tr>\n",
       "\t<tr><td>rhe_mac10_chr5_84327037_84327537_250   </td><td>rhe_mac10_chr5_84327037_84327537_250   </td><td>-0.0047608381</td><td>0.022082236</td><td>0.90447505</td></tr>\n",
       "\t<tr><td>rhe_mac10_chr9_48378758_48379258_250   </td><td>rhe_mac10_chr9_48378758_48379258_250   </td><td>-0.0027704671</td><td>0.042221319</td><td>0.51501047</td></tr>\n",
       "\t<tr><td>rn6_chr7_114725057_114725557_250       </td><td>rn6_chr7_114725057_114725557_250       </td><td>-0.0042179244</td><td>0.043671594</td><td>0.72260183</td></tr>\n",
       "\t<tr><td>rhe_mac10_chr19_40516024_40516524_250  </td><td>rhe_mac10_chr19_40516024_40516524_250  </td><td>-0.0044835257</td><td>0.051506768</td><td>0.78930319</td></tr>\n",
       "\t<tr><td>rhe_mac10_chr2_146134557_146135057_250 </td><td>rhe_mac10_chr2_146134557_146135057_250 </td><td>-0.0030817348</td><td>0.061579245</td><td>0.54862613</td></tr>\n",
       "\t<tr><td>mm10_chr8_57436014_57436515            </td><td>mm10_chr8_57436014_57436515            </td><td> 0.0016185631</td><td>0.190344518</td><td>0.24885996</td></tr>\n",
       "\t<tr><td>rhe_mac10_chr10_73625734_73626234_250  </td><td>rhe_mac10_chr10_73625734_73626234_250  </td><td>-0.0040325039</td><td>0.083135589</td><td>0.68536813</td></tr>\n",
       "\t<tr><td>rn6_chr1_219862665_219863165_250       </td><td>rn6_chr1_219862665_219863165_250       </td><td> 0.0125091913</td><td>0.200149354</td><td>0.05796596</td></tr>\n",
       "\t<tr><td>rhe_mac10_chr4_135670747_135671247_250 </td><td>rhe_mac10_chr4_135670747_135671247_250 </td><td>-0.0026550357</td><td>0.093678762</td><td>0.50345504</td></tr>\n",
       "\t<tr><td>mm10_chr17_71965694_71966195           </td><td>mm10_chr17_71965694_71966195           </td><td> 0.0023908147</td><td>0.205686516</td><td>0.22229661</td></tr>\n",
       "\t<tr><td>rn6_chr1_101450850_101451350_250       </td><td>rn6_chr1_101450850_101451350_250       </td><td>-0.0002481877</td><td>0.261397583</td><td>0.33126615</td></tr>\n",
       "\t<tr><td>rhe_mac10_chr12_97491249_97491749_250  </td><td>rhe_mac10_chr12_97491249_97491749_250  </td><td>-0.0041065468</td><td>0.113833334</td><td>0.69957187</td></tr>\n",
       "\t<tr><td>hg38_chr10_95601049_95601550           </td><td>hg38_chr10_95601049_95601550           </td><td>-0.0022584627</td><td>0.088554905</td><td>0.46688541</td></tr>\n",
       "\t<tr><td>rhe_mac10_chr15_112797020_112797520_250</td><td>rhe_mac10_chr15_112797020_112797520_250</td><td>-0.0039719223</td><td>0.024764530</td><td>0.67430650</td></tr>\n",
       "\t<tr><td>rhe_mac10_chr11_117775980_117776480_250</td><td>rhe_mac10_chr11_117775980_117776480_250</td><td> 0.0084676798</td><td>0.169881536</td><td>0.09718030</td></tr>\n",
       "\t<tr><td>rhe_mac10_chr7_88524586_88525086_250   </td><td>rhe_mac10_chr7_88524586_88525086_250   </td><td> 0.0129728839</td><td>0.189554735</td><td>0.05468597</td></tr>\n",
       "\t<tr><td>rhe_mac10_chr4_130759483_130759983_250 </td><td>rhe_mac10_chr4_130759483_130759983_250 </td><td>-0.0047004671</td><td>0.039247640</td><td>0.86993679</td></tr>\n",
       "\t<tr><td>hg38_chr11_17806982_17807483           </td><td>hg38_chr11_17806982_17807483           </td><td>-0.0048221265</td><td>0.004367078</td><td>0.96609580</td></tr>\n",
       "\t<tr><td>rhe_mac10_chr2_99911644_99912144_250   </td><td>rhe_mac10_chr2_99911644_99912144_250   </td><td>-0.0031266720</td><td>0.186602592</td><td>0.55381139</td></tr>\n",
       "\t<tr><td>rn6_chr14_87386092_87386592_250        </td><td>rn6_chr14_87386092_87386592_250        </td><td>-0.0047952989</td><td>0.006077806</td><td>0.93181808</td></tr>\n",
       "\t<tr><td>hg38_chr19_2151386_2151887             </td><td>hg38_chr19_2151386_2151887             </td><td>-0.0035494765</td><td>0.089134109</td><td>0.60771597</td></tr>\n",
       "\t<tr><td>rhe_mac10_chr_x_39520864_39521364_250  </td><td>rhe_mac10_chr_x_39520864_39521364_250  </td><td>-0.0046840259</td><td>0.061545593</td><td>0.86206060</td></tr>\n",
       "\t<tr><td>hg38_chr3_153163356_153163857          </td><td>hg38_chr3_153163356_153163857          </td><td>-0.0022273741</td><td>0.157617470</td><td>0.46420224</td></tr>\n",
       "\t<tr><td>rhe_mac10_chr8_53895343_53895843_250   </td><td>rhe_mac10_chr8_53895343_53895843_250   </td><td>-0.0046432320</td><td>0.066677810</td><td>0.84429397</td></tr>\n",
       "\t<tr><td>rn6_chr10_10265614_10266114_250        </td><td>rn6_chr10_10265614_10266114_250        </td><td>-0.0039078550</td><td>0.024164127</td><td>0.66309658</td></tr>\n",
       "</tbody>\n",
       "</table>\n"
      ],
      "text/latex": [
       "A data.frame: 5210 × 5\n",
       "\\begin{tabular}{lllll}\n",
       " X & id & r\\_squared\\_adj & effect\\_size & pvalue\\\\\n",
       " <chr> & <chr> & <dbl> & <dbl> & <dbl>\\\\\n",
       "\\hline\n",
       "\t rhe\\_mac10\\_chr1\\_207215838\\_207216338\\_250  & rhe\\_mac10\\_chr1\\_207215838\\_207216338\\_250  & 0.14099222 & 0.7412123 & 1.268098e-08\\\\\n",
       "\t rn6\\_chr2\\_149430176\\_149430676\\_250        & rn6\\_chr2\\_149430176\\_149430676\\_250        & 0.13333142 & 0.7915858 & 3.260346e-08\\\\\n",
       "\t rn6\\_chr4\\_136650730\\_136651230\\_250        & rn6\\_chr4\\_136650730\\_136651230\\_250        & 0.13207253 & 0.9886597 & 3.805173e-08\\\\\n",
       "\t rn6\\_chr10\\_6009669\\_6010169\\_250           & rn6\\_chr10\\_6009669\\_6010169\\_250           & 0.12941551 & 0.9055822 & 5.269401e-08\\\\\n",
       "\t rn6\\_chr19\\_30669236\\_30669736\\_250         & rn6\\_chr19\\_30669236\\_30669736\\_250         & 0.12234846 & 0.6820978 & 1.247845e-07\\\\\n",
       "\t rn6\\_chr6\\_74415125\\_74415625\\_250          & rn6\\_chr6\\_74415125\\_74415625\\_250          & 0.12201007 & 0.6888503 & 1.300255e-07\\\\\n",
       "\t rn6\\_chr9\\_93044990\\_93045490\\_250          & rn6\\_chr9\\_93044990\\_93045490\\_250          & 0.11966662 & 0.9308011 & 1.728325e-07\\\\\n",
       "\t rhe\\_mac10\\_chr4\\_162002124\\_162002624\\_250  & rhe\\_mac10\\_chr4\\_162002124\\_162002624\\_250  & 0.11155448 & 0.9388924 & 4.608473e-07\\\\\n",
       "\t rhe\\_mac10\\_chr\\_x\\_43664557\\_43665057\\_250   & rhe\\_mac10\\_chr\\_x\\_43664557\\_43665057\\_250   & 0.10810859 & 0.8548935 & 6.976185e-07\\\\\n",
       "\t rhe\\_mac10\\_chr1\\_216866009\\_216866509\\_250  & rhe\\_mac10\\_chr1\\_216866009\\_216866509\\_250  & 0.10686028 & 0.7931080 & 8.104457e-07\\\\\n",
       "\t rn6\\_chr12\\_24254217\\_24254717\\_250         & rn6\\_chr12\\_24254217\\_24254717\\_250         & 0.10460305 & 0.8668595 & 1.062399e-06\\\\\n",
       "\t rhe\\_mac10\\_chr6\\_31575964\\_31576464\\_250    & rhe\\_mac10\\_chr6\\_31575964\\_31576464\\_250    & 0.10198261 & 0.8172904 & 1.453818e-06\\\\\n",
       "\t hg38\\_chr17\\_71828125\\_71828626            & hg38\\_chr17\\_71828125\\_71828626            & 0.09743713 & 0.5920528 & 2.501318e-06\\\\\n",
       "\t rn6\\_chr6\\_42163171\\_42163671\\_250          & rn6\\_chr6\\_42163171\\_42163671\\_250          & 0.09314716 & 0.5840723 & 4.167459e-06\\\\\n",
       "\t rn6\\_chr8\\_23098746\\_23099246\\_250          & rn6\\_chr8\\_23098746\\_23099246\\_250          & 0.09292333 & 0.7684203 & 4.279771e-06\\\\\n",
       "\t rn6\\_chr14\\_100628365\\_100628865\\_250       & rn6\\_chr14\\_100628365\\_100628865\\_250       & 0.08915610 & 0.7061568 & 6.691765e-06\\\\\n",
       "\t rn6\\_chr4\\_64825333\\_64825833\\_250          & rn6\\_chr4\\_64825333\\_64825833\\_250          & 0.08780768 & 0.8309013 & 7.850663e-06\\\\\n",
       "\t hg38\\_chr3\\_40664361\\_40664862             & hg38\\_chr3\\_40664361\\_40664862             & 0.08659517 & 0.9962441 & 9.062117e-06\\\\\n",
       "\t hg38\\_chr12\\_6851735\\_6852236              & hg38\\_chr12\\_6851735\\_6852236              & 0.08519799 & 0.7207276 & 1.069022e-05\\\\\n",
       "\t rhe\\_mac10\\_chr7\\_18389495\\_18389995\\_250    & rhe\\_mac10\\_chr7\\_18389495\\_18389995\\_250    & 0.08358193 & 0.7346718 & 1.293927e-05\\\\\n",
       "\t rn6\\_chr15\\_56082594\\_56083094\\_250         & rn6\\_chr15\\_56082594\\_56083094\\_250         & 0.08066417 & 0.8488022 & 1.825692e-05\\\\\n",
       "\t rhe\\_mac10\\_chr15\\_108090577\\_108091077\\_250 & rhe\\_mac10\\_chr15\\_108090577\\_108091077\\_250 & 0.07895404 & 0.7036073 & 2.233304e-05\\\\\n",
       "\t rn6\\_chr1\\_167372530\\_167373030\\_250        & rn6\\_chr1\\_167372530\\_167373030\\_250        & 0.07830643 & 0.7573001 & 2.410293e-05\\\\\n",
       "\t rn6\\_chr8\\_22967687\\_22968187\\_250          & rn6\\_chr8\\_22967687\\_22968187\\_250          & 0.07819877 & 0.6991518 & 2.441041e-05\\\\\n",
       "\t rhe\\_mac10\\_chr10\\_10270451\\_10270951\\_250   & rhe\\_mac10\\_chr10\\_10270451\\_10270951\\_250   & 0.07812552 & 0.6936601 & 2.462185e-05\\\\\n",
       "\t rhe\\_mac10\\_chr12\\_91048962\\_91049462\\_250   & rhe\\_mac10\\_chr12\\_91048962\\_91049462\\_250   & 0.07756109 & 0.6107189 & 2.631339e-05\\\\\n",
       "\t rn6\\_chr5\\_159163793\\_159164293\\_250        & rn6\\_chr5\\_159163793\\_159164293\\_250        & 0.07745774 & 0.6098003 & 2.663540e-05\\\\\n",
       "\t rn6\\_chr3\\_148926232\\_148926732\\_250        & rn6\\_chr3\\_148926232\\_148926732\\_250        & 0.07378884 & 0.6287465 & 4.100355e-05\\\\\n",
       "\t rn6\\_chr15\\_87916660\\_87917160\\_250         & rn6\\_chr15\\_87916660\\_87917160\\_250         & 0.07317537 & 0.7433830 & 4.406748e-05\\\\\n",
       "\t rn6\\_chr3\\_148942396\\_148942896\\_250        & rn6\\_chr3\\_148942396\\_148942896\\_250        & 0.07246240 & 0.5859463 & 4.791594e-05\\\\\n",
       "\t ⋮ & ⋮ & ⋮ & ⋮ & ⋮\\\\\n",
       "\t rn6\\_chr2\\_204523298\\_204523798\\_250        & rn6\\_chr2\\_204523298\\_204523798\\_250        &  0.0054705355 & 0.154578918 & 0.14463312\\\\\n",
       "\t rn6\\_chr4\\_146047327\\_146047827\\_250        & rn6\\_chr4\\_146047327\\_146047827\\_250        & -0.0047861011 & 0.013780947 & 0.92354369\\\\\n",
       "\t hg38\\_chr10\\_5889704\\_5890205              & hg38\\_chr10\\_5889704\\_5890205              & -0.0038632074 & 0.103849642 & 0.65555519\\\\\n",
       "\t rhe\\_mac10\\_chr7\\_135805186\\_135805686\\_250  & rhe\\_mac10\\_chr7\\_135805186\\_135805686\\_250  & -0.0031497404 & 0.066063108 & 0.55650913\\\\\n",
       "\t mm10\\_chr11\\_11102627\\_11103128            & mm10\\_chr11\\_11102627\\_11103128            & -0.0047279912 & 0.018622782 & 0.88436206\\\\\n",
       "\t rhe\\_mac10\\_chr5\\_84327037\\_84327537\\_250    & rhe\\_mac10\\_chr5\\_84327037\\_84327537\\_250    & -0.0047608381 & 0.022082236 & 0.90447505\\\\\n",
       "\t rhe\\_mac10\\_chr9\\_48378758\\_48379258\\_250    & rhe\\_mac10\\_chr9\\_48378758\\_48379258\\_250    & -0.0027704671 & 0.042221319 & 0.51501047\\\\\n",
       "\t rn6\\_chr7\\_114725057\\_114725557\\_250        & rn6\\_chr7\\_114725057\\_114725557\\_250        & -0.0042179244 & 0.043671594 & 0.72260183\\\\\n",
       "\t rhe\\_mac10\\_chr19\\_40516024\\_40516524\\_250   & rhe\\_mac10\\_chr19\\_40516024\\_40516524\\_250   & -0.0044835257 & 0.051506768 & 0.78930319\\\\\n",
       "\t rhe\\_mac10\\_chr2\\_146134557\\_146135057\\_250  & rhe\\_mac10\\_chr2\\_146134557\\_146135057\\_250  & -0.0030817348 & 0.061579245 & 0.54862613\\\\\n",
       "\t mm10\\_chr8\\_57436014\\_57436515             & mm10\\_chr8\\_57436014\\_57436515             &  0.0016185631 & 0.190344518 & 0.24885996\\\\\n",
       "\t rhe\\_mac10\\_chr10\\_73625734\\_73626234\\_250   & rhe\\_mac10\\_chr10\\_73625734\\_73626234\\_250   & -0.0040325039 & 0.083135589 & 0.68536813\\\\\n",
       "\t rn6\\_chr1\\_219862665\\_219863165\\_250        & rn6\\_chr1\\_219862665\\_219863165\\_250        &  0.0125091913 & 0.200149354 & 0.05796596\\\\\n",
       "\t rhe\\_mac10\\_chr4\\_135670747\\_135671247\\_250  & rhe\\_mac10\\_chr4\\_135670747\\_135671247\\_250  & -0.0026550357 & 0.093678762 & 0.50345504\\\\\n",
       "\t mm10\\_chr17\\_71965694\\_71966195            & mm10\\_chr17\\_71965694\\_71966195            &  0.0023908147 & 0.205686516 & 0.22229661\\\\\n",
       "\t rn6\\_chr1\\_101450850\\_101451350\\_250        & rn6\\_chr1\\_101450850\\_101451350\\_250        & -0.0002481877 & 0.261397583 & 0.33126615\\\\\n",
       "\t rhe\\_mac10\\_chr12\\_97491249\\_97491749\\_250   & rhe\\_mac10\\_chr12\\_97491249\\_97491749\\_250   & -0.0041065468 & 0.113833334 & 0.69957187\\\\\n",
       "\t hg38\\_chr10\\_95601049\\_95601550            & hg38\\_chr10\\_95601049\\_95601550            & -0.0022584627 & 0.088554905 & 0.46688541\\\\\n",
       "\t rhe\\_mac10\\_chr15\\_112797020\\_112797520\\_250 & rhe\\_mac10\\_chr15\\_112797020\\_112797520\\_250 & -0.0039719223 & 0.024764530 & 0.67430650\\\\\n",
       "\t rhe\\_mac10\\_chr11\\_117775980\\_117776480\\_250 & rhe\\_mac10\\_chr11\\_117775980\\_117776480\\_250 &  0.0084676798 & 0.169881536 & 0.09718030\\\\\n",
       "\t rhe\\_mac10\\_chr7\\_88524586\\_88525086\\_250    & rhe\\_mac10\\_chr7\\_88524586\\_88525086\\_250    &  0.0129728839 & 0.189554735 & 0.05468597\\\\\n",
       "\t rhe\\_mac10\\_chr4\\_130759483\\_130759983\\_250  & rhe\\_mac10\\_chr4\\_130759483\\_130759983\\_250  & -0.0047004671 & 0.039247640 & 0.86993679\\\\\n",
       "\t hg38\\_chr11\\_17806982\\_17807483            & hg38\\_chr11\\_17806982\\_17807483            & -0.0048221265 & 0.004367078 & 0.96609580\\\\\n",
       "\t rhe\\_mac10\\_chr2\\_99911644\\_99912144\\_250    & rhe\\_mac10\\_chr2\\_99911644\\_99912144\\_250    & -0.0031266720 & 0.186602592 & 0.55381139\\\\\n",
       "\t rn6\\_chr14\\_87386092\\_87386592\\_250         & rn6\\_chr14\\_87386092\\_87386592\\_250         & -0.0047952989 & 0.006077806 & 0.93181808\\\\\n",
       "\t hg38\\_chr19\\_2151386\\_2151887              & hg38\\_chr19\\_2151386\\_2151887              & -0.0035494765 & 0.089134109 & 0.60771597\\\\\n",
       "\t rhe\\_mac10\\_chr\\_x\\_39520864\\_39521364\\_250   & rhe\\_mac10\\_chr\\_x\\_39520864\\_39521364\\_250   & -0.0046840259 & 0.061545593 & 0.86206060\\\\\n",
       "\t hg38\\_chr3\\_153163356\\_153163857           & hg38\\_chr3\\_153163356\\_153163857           & -0.0022273741 & 0.157617470 & 0.46420224\\\\\n",
       "\t rhe\\_mac10\\_chr8\\_53895343\\_53895843\\_250    & rhe\\_mac10\\_chr8\\_53895343\\_53895843\\_250    & -0.0046432320 & 0.066677810 & 0.84429397\\\\\n",
       "\t rn6\\_chr10\\_10265614\\_10266114\\_250         & rn6\\_chr10\\_10265614\\_10266114\\_250         & -0.0039078550 & 0.024164127 & 0.66309658\\\\\n",
       "\\end{tabular}\n"
      ],
      "text/markdown": [
       "\n",
       "A data.frame: 5210 × 5\n",
       "\n",
       "| X &lt;chr&gt; | id &lt;chr&gt; | r_squared_adj &lt;dbl&gt; | effect_size &lt;dbl&gt; | pvalue &lt;dbl&gt; |\n",
       "|---|---|---|---|---|\n",
       "| rhe_mac10_chr1_207215838_207216338_250  | rhe_mac10_chr1_207215838_207216338_250  | 0.14099222 | 0.7412123 | 1.268098e-08 |\n",
       "| rn6_chr2_149430176_149430676_250        | rn6_chr2_149430176_149430676_250        | 0.13333142 | 0.7915858 | 3.260346e-08 |\n",
       "| rn6_chr4_136650730_136651230_250        | rn6_chr4_136650730_136651230_250        | 0.13207253 | 0.9886597 | 3.805173e-08 |\n",
       "| rn6_chr10_6009669_6010169_250           | rn6_chr10_6009669_6010169_250           | 0.12941551 | 0.9055822 | 5.269401e-08 |\n",
       "| rn6_chr19_30669236_30669736_250         | rn6_chr19_30669236_30669736_250         | 0.12234846 | 0.6820978 | 1.247845e-07 |\n",
       "| rn6_chr6_74415125_74415625_250          | rn6_chr6_74415125_74415625_250          | 0.12201007 | 0.6888503 | 1.300255e-07 |\n",
       "| rn6_chr9_93044990_93045490_250          | rn6_chr9_93044990_93045490_250          | 0.11966662 | 0.9308011 | 1.728325e-07 |\n",
       "| rhe_mac10_chr4_162002124_162002624_250  | rhe_mac10_chr4_162002124_162002624_250  | 0.11155448 | 0.9388924 | 4.608473e-07 |\n",
       "| rhe_mac10_chr_x_43664557_43665057_250   | rhe_mac10_chr_x_43664557_43665057_250   | 0.10810859 | 0.8548935 | 6.976185e-07 |\n",
       "| rhe_mac10_chr1_216866009_216866509_250  | rhe_mac10_chr1_216866009_216866509_250  | 0.10686028 | 0.7931080 | 8.104457e-07 |\n",
       "| rn6_chr12_24254217_24254717_250         | rn6_chr12_24254217_24254717_250         | 0.10460305 | 0.8668595 | 1.062399e-06 |\n",
       "| rhe_mac10_chr6_31575964_31576464_250    | rhe_mac10_chr6_31575964_31576464_250    | 0.10198261 | 0.8172904 | 1.453818e-06 |\n",
       "| hg38_chr17_71828125_71828626            | hg38_chr17_71828125_71828626            | 0.09743713 | 0.5920528 | 2.501318e-06 |\n",
       "| rn6_chr6_42163171_42163671_250          | rn6_chr6_42163171_42163671_250          | 0.09314716 | 0.5840723 | 4.167459e-06 |\n",
       "| rn6_chr8_23098746_23099246_250          | rn6_chr8_23098746_23099246_250          | 0.09292333 | 0.7684203 | 4.279771e-06 |\n",
       "| rn6_chr14_100628365_100628865_250       | rn6_chr14_100628365_100628865_250       | 0.08915610 | 0.7061568 | 6.691765e-06 |\n",
       "| rn6_chr4_64825333_64825833_250          | rn6_chr4_64825333_64825833_250          | 0.08780768 | 0.8309013 | 7.850663e-06 |\n",
       "| hg38_chr3_40664361_40664862             | hg38_chr3_40664361_40664862             | 0.08659517 | 0.9962441 | 9.062117e-06 |\n",
       "| hg38_chr12_6851735_6852236              | hg38_chr12_6851735_6852236              | 0.08519799 | 0.7207276 | 1.069022e-05 |\n",
       "| rhe_mac10_chr7_18389495_18389995_250    | rhe_mac10_chr7_18389495_18389995_250    | 0.08358193 | 0.7346718 | 1.293927e-05 |\n",
       "| rn6_chr15_56082594_56083094_250         | rn6_chr15_56082594_56083094_250         | 0.08066417 | 0.8488022 | 1.825692e-05 |\n",
       "| rhe_mac10_chr15_108090577_108091077_250 | rhe_mac10_chr15_108090577_108091077_250 | 0.07895404 | 0.7036073 | 2.233304e-05 |\n",
       "| rn6_chr1_167372530_167373030_250        | rn6_chr1_167372530_167373030_250        | 0.07830643 | 0.7573001 | 2.410293e-05 |\n",
       "| rn6_chr8_22967687_22968187_250          | rn6_chr8_22967687_22968187_250          | 0.07819877 | 0.6991518 | 2.441041e-05 |\n",
       "| rhe_mac10_chr10_10270451_10270951_250   | rhe_mac10_chr10_10270451_10270951_250   | 0.07812552 | 0.6936601 | 2.462185e-05 |\n",
       "| rhe_mac10_chr12_91048962_91049462_250   | rhe_mac10_chr12_91048962_91049462_250   | 0.07756109 | 0.6107189 | 2.631339e-05 |\n",
       "| rn6_chr5_159163793_159164293_250        | rn6_chr5_159163793_159164293_250        | 0.07745774 | 0.6098003 | 2.663540e-05 |\n",
       "| rn6_chr3_148926232_148926732_250        | rn6_chr3_148926232_148926732_250        | 0.07378884 | 0.6287465 | 4.100355e-05 |\n",
       "| rn6_chr15_87916660_87917160_250         | rn6_chr15_87916660_87917160_250         | 0.07317537 | 0.7433830 | 4.406748e-05 |\n",
       "| rn6_chr3_148942396_148942896_250        | rn6_chr3_148942396_148942896_250        | 0.07246240 | 0.5859463 | 4.791594e-05 |\n",
       "| ⋮ | ⋮ | ⋮ | ⋮ | ⋮ |\n",
       "| rn6_chr2_204523298_204523798_250        | rn6_chr2_204523298_204523798_250        |  0.0054705355 | 0.154578918 | 0.14463312 |\n",
       "| rn6_chr4_146047327_146047827_250        | rn6_chr4_146047327_146047827_250        | -0.0047861011 | 0.013780947 | 0.92354369 |\n",
       "| hg38_chr10_5889704_5890205              | hg38_chr10_5889704_5890205              | -0.0038632074 | 0.103849642 | 0.65555519 |\n",
       "| rhe_mac10_chr7_135805186_135805686_250  | rhe_mac10_chr7_135805186_135805686_250  | -0.0031497404 | 0.066063108 | 0.55650913 |\n",
       "| mm10_chr11_11102627_11103128            | mm10_chr11_11102627_11103128            | -0.0047279912 | 0.018622782 | 0.88436206 |\n",
       "| rhe_mac10_chr5_84327037_84327537_250    | rhe_mac10_chr5_84327037_84327537_250    | -0.0047608381 | 0.022082236 | 0.90447505 |\n",
       "| rhe_mac10_chr9_48378758_48379258_250    | rhe_mac10_chr9_48378758_48379258_250    | -0.0027704671 | 0.042221319 | 0.51501047 |\n",
       "| rn6_chr7_114725057_114725557_250        | rn6_chr7_114725057_114725557_250        | -0.0042179244 | 0.043671594 | 0.72260183 |\n",
       "| rhe_mac10_chr19_40516024_40516524_250   | rhe_mac10_chr19_40516024_40516524_250   | -0.0044835257 | 0.051506768 | 0.78930319 |\n",
       "| rhe_mac10_chr2_146134557_146135057_250  | rhe_mac10_chr2_146134557_146135057_250  | -0.0030817348 | 0.061579245 | 0.54862613 |\n",
       "| mm10_chr8_57436014_57436515             | mm10_chr8_57436014_57436515             |  0.0016185631 | 0.190344518 | 0.24885996 |\n",
       "| rhe_mac10_chr10_73625734_73626234_250   | rhe_mac10_chr10_73625734_73626234_250   | -0.0040325039 | 0.083135589 | 0.68536813 |\n",
       "| rn6_chr1_219862665_219863165_250        | rn6_chr1_219862665_219863165_250        |  0.0125091913 | 0.200149354 | 0.05796596 |\n",
       "| rhe_mac10_chr4_135670747_135671247_250  | rhe_mac10_chr4_135670747_135671247_250  | -0.0026550357 | 0.093678762 | 0.50345504 |\n",
       "| mm10_chr17_71965694_71966195            | mm10_chr17_71965694_71966195            |  0.0023908147 | 0.205686516 | 0.22229661 |\n",
       "| rn6_chr1_101450850_101451350_250        | rn6_chr1_101450850_101451350_250        | -0.0002481877 | 0.261397583 | 0.33126615 |\n",
       "| rhe_mac10_chr12_97491249_97491749_250   | rhe_mac10_chr12_97491249_97491749_250   | -0.0041065468 | 0.113833334 | 0.69957187 |\n",
       "| hg38_chr10_95601049_95601550            | hg38_chr10_95601049_95601550            | -0.0022584627 | 0.088554905 | 0.46688541 |\n",
       "| rhe_mac10_chr15_112797020_112797520_250 | rhe_mac10_chr15_112797020_112797520_250 | -0.0039719223 | 0.024764530 | 0.67430650 |\n",
       "| rhe_mac10_chr11_117775980_117776480_250 | rhe_mac10_chr11_117775980_117776480_250 |  0.0084676798 | 0.169881536 | 0.09718030 |\n",
       "| rhe_mac10_chr7_88524586_88525086_250    | rhe_mac10_chr7_88524586_88525086_250    |  0.0129728839 | 0.189554735 | 0.05468597 |\n",
       "| rhe_mac10_chr4_130759483_130759983_250  | rhe_mac10_chr4_130759483_130759983_250  | -0.0047004671 | 0.039247640 | 0.86993679 |\n",
       "| hg38_chr11_17806982_17807483            | hg38_chr11_17806982_17807483            | -0.0048221265 | 0.004367078 | 0.96609580 |\n",
       "| rhe_mac10_chr2_99911644_99912144_250    | rhe_mac10_chr2_99911644_99912144_250    | -0.0031266720 | 0.186602592 | 0.55381139 |\n",
       "| rn6_chr14_87386092_87386592_250         | rn6_chr14_87386092_87386592_250         | -0.0047952989 | 0.006077806 | 0.93181808 |\n",
       "| hg38_chr19_2151386_2151887              | hg38_chr19_2151386_2151887              | -0.0035494765 | 0.089134109 | 0.60771597 |\n",
       "| rhe_mac10_chr_x_39520864_39521364_250   | rhe_mac10_chr_x_39520864_39521364_250   | -0.0046840259 | 0.061545593 | 0.86206060 |\n",
       "| hg38_chr3_153163356_153163857           | hg38_chr3_153163356_153163857           | -0.0022273741 | 0.157617470 | 0.46420224 |\n",
       "| rhe_mac10_chr8_53895343_53895843_250    | rhe_mac10_chr8_53895343_53895843_250    | -0.0046432320 | 0.066677810 | 0.84429397 |\n",
       "| rn6_chr10_10265614_10266114_250         | rn6_chr10_10265614_10266114_250         | -0.0039078550 | 0.024164127 | 0.66309658 |\n",
       "\n"
      ],
      "text/plain": [
       "     X                                      \n",
       "1    rhe_mac10_chr1_207215838_207216338_250 \n",
       "2    rn6_chr2_149430176_149430676_250       \n",
       "3    rn6_chr4_136650730_136651230_250       \n",
       "4    rn6_chr10_6009669_6010169_250          \n",
       "5    rn6_chr19_30669236_30669736_250        \n",
       "6    rn6_chr6_74415125_74415625_250         \n",
       "7    rn6_chr9_93044990_93045490_250         \n",
       "8    rhe_mac10_chr4_162002124_162002624_250 \n",
       "9    rhe_mac10_chr_x_43664557_43665057_250  \n",
       "10   rhe_mac10_chr1_216866009_216866509_250 \n",
       "11   rn6_chr12_24254217_24254717_250        \n",
       "12   rhe_mac10_chr6_31575964_31576464_250   \n",
       "13   hg38_chr17_71828125_71828626           \n",
       "14   rn6_chr6_42163171_42163671_250         \n",
       "15   rn6_chr8_23098746_23099246_250         \n",
       "16   rn6_chr14_100628365_100628865_250      \n",
       "17   rn6_chr4_64825333_64825833_250         \n",
       "18   hg38_chr3_40664361_40664862            \n",
       "19   hg38_chr12_6851735_6852236             \n",
       "20   rhe_mac10_chr7_18389495_18389995_250   \n",
       "21   rn6_chr15_56082594_56083094_250        \n",
       "22   rhe_mac10_chr15_108090577_108091077_250\n",
       "23   rn6_chr1_167372530_167373030_250       \n",
       "24   rn6_chr8_22967687_22968187_250         \n",
       "25   rhe_mac10_chr10_10270451_10270951_250  \n",
       "26   rhe_mac10_chr12_91048962_91049462_250  \n",
       "27   rn6_chr5_159163793_159164293_250       \n",
       "28   rn6_chr3_148926232_148926732_250       \n",
       "29   rn6_chr15_87916660_87917160_250        \n",
       "30   rn6_chr3_148942396_148942896_250       \n",
       "⋮    ⋮                                      \n",
       "5181 rn6_chr2_204523298_204523798_250       \n",
       "5182 rn6_chr4_146047327_146047827_250       \n",
       "5183 hg38_chr10_5889704_5890205             \n",
       "5184 rhe_mac10_chr7_135805186_135805686_250 \n",
       "5185 mm10_chr11_11102627_11103128           \n",
       "5186 rhe_mac10_chr5_84327037_84327537_250   \n",
       "5187 rhe_mac10_chr9_48378758_48379258_250   \n",
       "5188 rn6_chr7_114725057_114725557_250       \n",
       "5189 rhe_mac10_chr19_40516024_40516524_250  \n",
       "5190 rhe_mac10_chr2_146134557_146135057_250 \n",
       "5191 mm10_chr8_57436014_57436515            \n",
       "5192 rhe_mac10_chr10_73625734_73626234_250  \n",
       "5193 rn6_chr1_219862665_219863165_250       \n",
       "5194 rhe_mac10_chr4_135670747_135671247_250 \n",
       "5195 mm10_chr17_71965694_71966195           \n",
       "5196 rn6_chr1_101450850_101451350_250       \n",
       "5197 rhe_mac10_chr12_97491249_97491749_250  \n",
       "5198 hg38_chr10_95601049_95601550           \n",
       "5199 rhe_mac10_chr15_112797020_112797520_250\n",
       "5200 rhe_mac10_chr11_117775980_117776480_250\n",
       "5201 rhe_mac10_chr7_88524586_88525086_250   \n",
       "5202 rhe_mac10_chr4_130759483_130759983_250 \n",
       "5203 hg38_chr11_17806982_17807483           \n",
       "5204 rhe_mac10_chr2_99911644_99912144_250   \n",
       "5205 rn6_chr14_87386092_87386592_250        \n",
       "5206 hg38_chr19_2151386_2151887             \n",
       "5207 rhe_mac10_chr_x_39520864_39521364_250  \n",
       "5208 hg38_chr3_153163356_153163857          \n",
       "5209 rhe_mac10_chr8_53895343_53895843_250   \n",
       "5210 rn6_chr10_10265614_10266114_250        \n",
       "     id                                      r_squared_adj effect_size\n",
       "1    rhe_mac10_chr1_207215838_207216338_250  0.14099222    0.7412123  \n",
       "2    rn6_chr2_149430176_149430676_250        0.13333142    0.7915858  \n",
       "3    rn6_chr4_136650730_136651230_250        0.13207253    0.9886597  \n",
       "4    rn6_chr10_6009669_6010169_250           0.12941551    0.9055822  \n",
       "5    rn6_chr19_30669236_30669736_250         0.12234846    0.6820978  \n",
       "6    rn6_chr6_74415125_74415625_250          0.12201007    0.6888503  \n",
       "7    rn6_chr9_93044990_93045490_250          0.11966662    0.9308011  \n",
       "8    rhe_mac10_chr4_162002124_162002624_250  0.11155448    0.9388924  \n",
       "9    rhe_mac10_chr_x_43664557_43665057_250   0.10810859    0.8548935  \n",
       "10   rhe_mac10_chr1_216866009_216866509_250  0.10686028    0.7931080  \n",
       "11   rn6_chr12_24254217_24254717_250         0.10460305    0.8668595  \n",
       "12   rhe_mac10_chr6_31575964_31576464_250    0.10198261    0.8172904  \n",
       "13   hg38_chr17_71828125_71828626            0.09743713    0.5920528  \n",
       "14   rn6_chr6_42163171_42163671_250          0.09314716    0.5840723  \n",
       "15   rn6_chr8_23098746_23099246_250          0.09292333    0.7684203  \n",
       "16   rn6_chr14_100628365_100628865_250       0.08915610    0.7061568  \n",
       "17   rn6_chr4_64825333_64825833_250          0.08780768    0.8309013  \n",
       "18   hg38_chr3_40664361_40664862             0.08659517    0.9962441  \n",
       "19   hg38_chr12_6851735_6852236              0.08519799    0.7207276  \n",
       "20   rhe_mac10_chr7_18389495_18389995_250    0.08358193    0.7346718  \n",
       "21   rn6_chr15_56082594_56083094_250         0.08066417    0.8488022  \n",
       "22   rhe_mac10_chr15_108090577_108091077_250 0.07895404    0.7036073  \n",
       "23   rn6_chr1_167372530_167373030_250        0.07830643    0.7573001  \n",
       "24   rn6_chr8_22967687_22968187_250          0.07819877    0.6991518  \n",
       "25   rhe_mac10_chr10_10270451_10270951_250   0.07812552    0.6936601  \n",
       "26   rhe_mac10_chr12_91048962_91049462_250   0.07756109    0.6107189  \n",
       "27   rn6_chr5_159163793_159164293_250        0.07745774    0.6098003  \n",
       "28   rn6_chr3_148926232_148926732_250        0.07378884    0.6287465  \n",
       "29   rn6_chr15_87916660_87917160_250         0.07317537    0.7433830  \n",
       "30   rn6_chr3_148942396_148942896_250        0.07246240    0.5859463  \n",
       "⋮    ⋮                                       ⋮             ⋮          \n",
       "5181 rn6_chr2_204523298_204523798_250         0.0054705355 0.154578918\n",
       "5182 rn6_chr4_146047327_146047827_250        -0.0047861011 0.013780947\n",
       "5183 hg38_chr10_5889704_5890205              -0.0038632074 0.103849642\n",
       "5184 rhe_mac10_chr7_135805186_135805686_250  -0.0031497404 0.066063108\n",
       "5185 mm10_chr11_11102627_11103128            -0.0047279912 0.018622782\n",
       "5186 rhe_mac10_chr5_84327037_84327537_250    -0.0047608381 0.022082236\n",
       "5187 rhe_mac10_chr9_48378758_48379258_250    -0.0027704671 0.042221319\n",
       "5188 rn6_chr7_114725057_114725557_250        -0.0042179244 0.043671594\n",
       "5189 rhe_mac10_chr19_40516024_40516524_250   -0.0044835257 0.051506768\n",
       "5190 rhe_mac10_chr2_146134557_146135057_250  -0.0030817348 0.061579245\n",
       "5191 mm10_chr8_57436014_57436515              0.0016185631 0.190344518\n",
       "5192 rhe_mac10_chr10_73625734_73626234_250   -0.0040325039 0.083135589\n",
       "5193 rn6_chr1_219862665_219863165_250         0.0125091913 0.200149354\n",
       "5194 rhe_mac10_chr4_135670747_135671247_250  -0.0026550357 0.093678762\n",
       "5195 mm10_chr17_71965694_71966195             0.0023908147 0.205686516\n",
       "5196 rn6_chr1_101450850_101451350_250        -0.0002481877 0.261397583\n",
       "5197 rhe_mac10_chr12_97491249_97491749_250   -0.0041065468 0.113833334\n",
       "5198 hg38_chr10_95601049_95601550            -0.0022584627 0.088554905\n",
       "5199 rhe_mac10_chr15_112797020_112797520_250 -0.0039719223 0.024764530\n",
       "5200 rhe_mac10_chr11_117775980_117776480_250  0.0084676798 0.169881536\n",
       "5201 rhe_mac10_chr7_88524586_88525086_250     0.0129728839 0.189554735\n",
       "5202 rhe_mac10_chr4_130759483_130759983_250  -0.0047004671 0.039247640\n",
       "5203 hg38_chr11_17806982_17807483            -0.0048221265 0.004367078\n",
       "5204 rhe_mac10_chr2_99911644_99912144_250    -0.0031266720 0.186602592\n",
       "5205 rn6_chr14_87386092_87386592_250         -0.0047952989 0.006077806\n",
       "5206 hg38_chr19_2151386_2151887              -0.0035494765 0.089134109\n",
       "5207 rhe_mac10_chr_x_39520864_39521364_250   -0.0046840259 0.061545593\n",
       "5208 hg38_chr3_153163356_153163857           -0.0022273741 0.157617470\n",
       "5209 rhe_mac10_chr8_53895343_53895843_250    -0.0046432320 0.066677810\n",
       "5210 rn6_chr10_10265614_10266114_250         -0.0039078550 0.024164127\n",
       "     pvalue      \n",
       "1    1.268098e-08\n",
       "2    3.260346e-08\n",
       "3    3.805173e-08\n",
       "4    5.269401e-08\n",
       "5    1.247845e-07\n",
       "6    1.300255e-07\n",
       "7    1.728325e-07\n",
       "8    4.608473e-07\n",
       "9    6.976185e-07\n",
       "10   8.104457e-07\n",
       "11   1.062399e-06\n",
       "12   1.453818e-06\n",
       "13   2.501318e-06\n",
       "14   4.167459e-06\n",
       "15   4.279771e-06\n",
       "16   6.691765e-06\n",
       "17   7.850663e-06\n",
       "18   9.062117e-06\n",
       "19   1.069022e-05\n",
       "20   1.293927e-05\n",
       "21   1.825692e-05\n",
       "22   2.233304e-05\n",
       "23   2.410293e-05\n",
       "24   2.441041e-05\n",
       "25   2.462185e-05\n",
       "26   2.631339e-05\n",
       "27   2.663540e-05\n",
       "28   4.100355e-05\n",
       "29   4.406748e-05\n",
       "30   4.791594e-05\n",
       "⋮    ⋮           \n",
       "5181 0.14463312  \n",
       "5182 0.92354369  \n",
       "5183 0.65555519  \n",
       "5184 0.55650913  \n",
       "5185 0.88436206  \n",
       "5186 0.90447505  \n",
       "5187 0.51501047  \n",
       "5188 0.72260183  \n",
       "5189 0.78930319  \n",
       "5190 0.54862613  \n",
       "5191 0.24885996  \n",
       "5192 0.68536813  \n",
       "5193 0.05796596  \n",
       "5194 0.50345504  \n",
       "5195 0.22229661  \n",
       "5196 0.33126615  \n",
       "5197 0.69957187  \n",
       "5198 0.46688541  \n",
       "5199 0.67430650  \n",
       "5200 0.09718030  \n",
       "5201 0.05468597  \n",
       "5202 0.86993679  \n",
       "5203 0.96609580  \n",
       "5204 0.55381139  \n",
       "5205 0.93181808  \n",
       "5206 0.60771597  \n",
       "5207 0.86206060  \n",
       "5208 0.46420224  \n",
       "5209 0.84429397  \n",
       "5210 0.66309658  "
      ]
     },
     "metadata": {},
     "output_type": "display_data"
    },
    {
     "data": {
      "text/html": [
       "<table class=\"dataframe\">\n",
       "<caption>A data.frame: 4790 × 5</caption>\n",
       "<thead>\n",
       "\t<tr><th scope=col>X</th><th scope=col>id</th><th scope=col>r_squared_adj</th><th scope=col>effect_size</th><th scope=col>pvalue</th></tr>\n",
       "\t<tr><th scope=col>&lt;chr&gt;</th><th scope=col>&lt;chr&gt;</th><th scope=col>&lt;dbl&gt;</th><th scope=col>&lt;dbl&gt;</th><th scope=col>&lt;dbl&gt;</th></tr>\n",
       "</thead>\n",
       "<tbody>\n",
       "\t<tr><td>mm10_chr4_111545923_111546424          </td><td>mm10_chr4_111545923_111546424          </td><td>0.2384567</td><td>-0.8767500</td><td>3.836234e-14</td></tr>\n",
       "\t<tr><td>rn6_chr11_64640798_64641298_250        </td><td>rn6_chr11_64640798_64641298_250        </td><td>0.2378756</td><td>-0.8960552</td><td>4.156142e-14</td></tr>\n",
       "\t<tr><td>hg38_chr7_107168424_107168925          </td><td>hg38_chr7_107168424_107168925          </td><td>0.2272678</td><td>-0.8646728</td><td>1.775626e-13</td></tr>\n",
       "\t<tr><td>rn6_chr9_29752547_29753047_250         </td><td>rn6_chr9_29752547_29753047_250         </td><td>0.2087134</td><td>-1.1062516</td><td>2.154106e-12</td></tr>\n",
       "\t<tr><td>rn6_chr5_133377255_133377755_250       </td><td>rn6_chr5_133377255_133377755_250       </td><td>0.2027579</td><td>-0.7811271</td><td>4.744511e-12</td></tr>\n",
       "\t<tr><td>rhe_mac10_chr13_54846823_54847323_250  </td><td>rhe_mac10_chr13_54846823_54847323_250  </td><td>0.1999146</td><td>-0.9408392</td><td>6.903729e-12</td></tr>\n",
       "\t<tr><td>rn6_chr1_141842205_141842705_250       </td><td>rn6_chr1_141842205_141842705_250       </td><td>0.1972817</td><td>-0.9000456</td><td>9.759962e-12</td></tr>\n",
       "\t<tr><td>hg38_chr1_101025840_101026341          </td><td>hg38_chr1_101025840_101026341          </td><td>0.1943420</td><td>-0.9355276</td><td>1.434826e-11</td></tr>\n",
       "\t<tr><td>rhe_mac10_chr8_33911702_33912202_250   </td><td>rhe_mac10_chr8_33911702_33912202_250   </td><td>0.1862287</td><td>-1.0309923</td><td>4.128784e-11</td></tr>\n",
       "\t<tr><td>rhe_mac10_chr9_116636625_116637125_250 </td><td>rhe_mac10_chr9_116636625_116637125_250 </td><td>0.1848302</td><td>-1.1036366</td><td>4.949075e-11</td></tr>\n",
       "\t<tr><td>rhe_mac10_chr1_108106593_108107093_250 </td><td>rhe_mac10_chr1_108106593_108107093_250 </td><td>0.1807463</td><td>-0.9219535</td><td>8.387955e-11</td></tr>\n",
       "\t<tr><td>rhe_mac10_chr15_13543339_13543839_250  </td><td>rhe_mac10_chr15_13543339_13543839_250  </td><td>0.1750952</td><td>-0.8525163</td><td>1.733970e-10</td></tr>\n",
       "\t<tr><td>hg38_chr12_2582966_2583467             </td><td>hg38_chr12_2582966_2583467             </td><td>0.1721619</td><td>-1.0441925</td><td>2.523427e-10</td></tr>\n",
       "\t<tr><td>hg38_chr15_48646350_48646851           </td><td>hg38_chr15_48646350_48646851           </td><td>0.1714907</td><td>-0.9815728</td><td>2.749205e-10</td></tr>\n",
       "\t<tr><td>rn6_chr10_62019973_62020473_250        </td><td>rn6_chr10_62019973_62020473_250        </td><td>0.1678684</td><td>-0.8718244</td><td>4.360957e-10</td></tr>\n",
       "\t<tr><td>rn6_chr3_160854612_160855112_250       </td><td>rn6_chr3_160854612_160855112_250       </td><td>0.1666138</td><td>-0.8022533</td><td>5.114504e-10</td></tr>\n",
       "\t<tr><td>rhe_mac10_chr9_58454651_58455151_250   </td><td>rhe_mac10_chr9_58454651_58455151_250   </td><td>0.1589308</td><td>-0.8205965</td><td>1.351271e-09</td></tr>\n",
       "\t<tr><td>hg38_chr12_50103672_50104173           </td><td>hg38_chr12_50103672_50104173           </td><td>0.1509320</td><td>-0.7318210</td><td>3.685439e-09</td></tr>\n",
       "\t<tr><td>rn6_chr6_45625388_45625888_250         </td><td>rn6_chr6_45625388_45625888_250         </td><td>0.1494380</td><td>-0.8870555</td><td>4.441105e-09</td></tr>\n",
       "\t<tr><td>rn6_chr2_210872814_210873314_250       </td><td>rn6_chr2_210872814_210873314_250       </td><td>0.1485727</td><td>-0.8475619</td><td>4.947089e-09</td></tr>\n",
       "\t<tr><td>rhe_mac10_chr18_65668650_65669150_250  </td><td>rhe_mac10_chr18_65668650_65669150_250  </td><td>0.1467761</td><td>-0.8619689</td><td>6.187491e-09</td></tr>\n",
       "\t<tr><td>rhe_mac10_chr17_28802152_28802652_250  </td><td>rhe_mac10_chr17_28802152_28802652_250  </td><td>0.1403992</td><td>-0.8022378</td><td>1.364602e-08</td></tr>\n",
       "\t<tr><td>rhe_mac10_chr8_90154069_90154569_250   </td><td>rhe_mac10_chr8_90154069_90154569_250   </td><td>0.1398758</td><td>-0.7125271</td><td>1.455816e-08</td></tr>\n",
       "\t<tr><td>rn6_chr7_141377617_141378117_250       </td><td>rn6_chr7_141377617_141378117_250       </td><td>0.1376052</td><td>-0.8429683</td><td>1.926816e-08</td></tr>\n",
       "\t<tr><td>rhe_mac10_chr20_995792_996292_250      </td><td>rhe_mac10_chr20_995792_996292_250      </td><td>0.1364557</td><td>-1.0111745</td><td>2.220093e-08</td></tr>\n",
       "\t<tr><td>rhe_mac10_chr11_56808618_56809118_250  </td><td>rhe_mac10_chr11_56808618_56809118_250  </td><td>0.1261520</td><td>-0.7152648</td><td>7.851508e-08</td></tr>\n",
       "\t<tr><td>rhe_mac10_chr14_115469924_115470424_250</td><td>rhe_mac10_chr14_115469924_115470424_250</td><td>0.1245171</td><td>-0.9853109</td><td>9.583419e-08</td></tr>\n",
       "\t<tr><td>rhe_mac10_chr1_89815598_89816098_250   </td><td>rhe_mac10_chr1_89815598_89816098_250   </td><td>0.1239186</td><td>-0.8356407</td><td>1.030822e-07</td></tr>\n",
       "\t<tr><td>rn6_chr8_111222943_111223443_250       </td><td>rn6_chr8_111222943_111223443_250       </td><td>0.1238558</td><td>-0.6957668</td><td>1.038725e-07</td></tr>\n",
       "\t<tr><td>rhe_mac10_chr_x_116962205_116962705_250</td><td>rhe_mac10_chr_x_116962205_116962705_250</td><td>0.1237797</td><td>-0.8212086</td><td>1.048399e-07</td></tr>\n",
       "\t<tr><td>⋮</td><td>⋮</td><td>⋮</td><td>⋮</td><td>⋮</td></tr>\n",
       "\t<tr><td>rhe_mac10_chr9_97478874_97479374_250  </td><td>rhe_mac10_chr9_97478874_97479374_250  </td><td> 6.780296e-03</td><td>-0.312097491</td><td>0.121327911</td></tr>\n",
       "\t<tr><td>mm10_chr17_45766790_45767291          </td><td>mm10_chr17_45766790_45767291          </td><td>-4.746801e-03</td><td>-0.016854709</td><td>0.895394432</td></tr>\n",
       "\t<tr><td>rn6_chr1_33806988_33807488_250        </td><td>rn6_chr1_33806988_33807488_250        </td><td>-2.172188e-03</td><td>-0.078053552</td><td>0.459499232</td></tr>\n",
       "\t<tr><td>rhe_mac10_chr20_62087257_62087757_250 </td><td>rhe_mac10_chr20_62087257_62087757_250 </td><td>-4.790955e-03</td><td>-0.010733227</td><td>0.927790587</td></tr>\n",
       "\t<tr><td>rhe_mac10_chr5_162769108_162769608_250</td><td>rhe_mac10_chr5_162769108_162769608_250</td><td> 1.103587e-03</td><td>-0.241335150</td><td>0.268732728</td></tr>\n",
       "\t<tr><td>hg38_chr2_144510492_144510993         </td><td>hg38_chr2_144510492_144510993         </td><td>-2.121768e-03</td><td>-0.085722952</td><td>0.455267813</td></tr>\n",
       "\t<tr><td>rhe_mac10_chr_x_13023102_13023602_250 </td><td>rhe_mac10_chr_x_13023102_13023602_250 </td><td>-4.463541e-03</td><td>-0.049924673</td><td>0.783473285</td></tr>\n",
       "\t<tr><td>hg38_chr20_21515123_21515624          </td><td>hg38_chr20_21515123_21515624          </td><td>-4.615919e-03</td><td>-0.029207974</td><td>0.833502986</td></tr>\n",
       "\t<tr><td>hg38_chr10_68406320_68406821          </td><td>hg38_chr10_68406320_68406821          </td><td>-4.829997e-03</td><td>-0.001052555</td><td>0.989023893</td></tr>\n",
       "\t<tr><td>rn6_chr9_74009656_74010156_250        </td><td>rn6_chr9_74009656_74010156_250        </td><td>-4.826047e-03</td><td>-0.007016483</td><td>0.974760197</td></tr>\n",
       "\t<tr><td>rhe_mac10_chr11_55300645_55301145_250 </td><td>rhe_mac10_chr11_55300645_55301145_250 </td><td>-3.826230e-03</td><td>-0.070526367</td><td>0.649465553</td></tr>\n",
       "\t<tr><td>hg38_chr9_136624966_136625467         </td><td>hg38_chr9_136624966_136625467         </td><td>-4.807501e-03</td><td>-0.008017738</td><td>0.944694041</td></tr>\n",
       "\t<tr><td>rn6_chr12_39098958_39099458_250       </td><td>rn6_chr12_39098958_39099458_250       </td><td>-3.816129e-03</td><td>-0.099174687</td><td>0.647825598</td></tr>\n",
       "\t<tr><td>rhe_mac10_chr8_133524726_133525226_250</td><td>rhe_mac10_chr8_133524726_133525226_250</td><td> 2.097655e-03</td><td>-0.222450234</td><td>0.231958827</td></tr>\n",
       "\t<tr><td>rhe_mac10_chr20_54714102_54714602_250 </td><td>rhe_mac10_chr20_54714102_54714602_250 </td><td>-2.186144e-03</td><td>-0.076664026</td><td>0.460681407</td></tr>\n",
       "\t<tr><td>hg38_chr9_88076342_88076843           </td><td>hg38_chr9_88076342_88076843           </td><td>-6.644134e-04</td><td>-0.091012317</td><td>0.354290546</td></tr>\n",
       "\t<tr><td>hg38_chr15_40160734_40161235          </td><td>hg38_chr15_40160734_40161235          </td><td> 6.383574e-03</td><td>-0.153110543</td><td>0.127914941</td></tr>\n",
       "\t<tr><td>hg38_chr5_78974018_78974519           </td><td>hg38_chr5_78974018_78974519           </td><td> 2.184947e-02</td><td>-0.260607355</td><td>0.018405176</td></tr>\n",
       "\t<tr><td>hg38_chr5_80255352_80255853           </td><td>hg38_chr5_80255352_80255853           </td><td> 1.263021e-02</td><td>-0.289417434</td><td>0.057090440</td></tr>\n",
       "\t<tr><td>mm10_chr1_165641379_165641880         </td><td>mm10_chr1_165641379_165641880         </td><td>-1.954445e-03</td><td>-0.144429452</td><td>0.441652258</td></tr>\n",
       "\t<tr><td>mm10_chr11_20400735_20401236          </td><td>mm10_chr11_20400735_20401236          </td><td>-3.096557e-03</td><td>-0.098742029</td><td>0.550326426</td></tr>\n",
       "\t<tr><td>mm10_chr19_51671508_51672009          </td><td>mm10_chr19_51671508_51672009          </td><td>-5.382452e-04</td><td>-0.166152844</td><td>0.347089830</td></tr>\n",
       "\t<tr><td>hg38_chr1_237556904_237557405         </td><td>hg38_chr1_237556904_237557405         </td><td>-4.720036e-03</td><td>-0.023497549</td><td>0.880008625</td></tr>\n",
       "\t<tr><td>hg38_chr12_38138403_38138904          </td><td>hg38_chr12_38138403_38138904          </td><td>-4.825820e-03</td><td>-0.005724135</td><td>0.974178920</td></tr>\n",
       "\t<tr><td>rn6_chr11_32186734_32187234_250       </td><td>rn6_chr11_32186734_32187234_250       </td><td>-2.373708e-03</td><td>-0.101841966</td><td>0.477052185</td></tr>\n",
       "\t<tr><td>mm10_chr18_50396988_50397489          </td><td>mm10_chr18_50396988_50397489          </td><td>-5.004471e-06</td><td>-0.202789900</td><td>0.318729433</td></tr>\n",
       "\t<tr><td>mm10_chr19_55756664_55757165          </td><td>mm10_chr19_55756664_55757165          </td><td>-3.602160e-03</td><td>-0.061545902</td><td>0.615198476</td></tr>\n",
       "\t<tr><td>rhe_mac10_chr2_102565290_102565790_250</td><td>rhe_mac10_chr2_102565290_102565790_250</td><td> 1.023815e-02</td><td>-0.184275639</td><td>0.077323687</td></tr>\n",
       "\t<tr><td>hg38_chr5_154313532_154314033         </td><td>hg38_chr5_154313532_154314033         </td><td>-3.720969e-03</td><td>-0.033656059</td><td>0.632839912</td></tr>\n",
       "\t<tr><td>rn6_chr4_131957144_131957644_250      </td><td>rn6_chr4_131957144_131957644_250      </td><td> 3.379593e-02</td><td>-0.813287991</td><td>0.004439281</td></tr>\n",
       "</tbody>\n",
       "</table>\n"
      ],
      "text/latex": [
       "A data.frame: 4790 × 5\n",
       "\\begin{tabular}{lllll}\n",
       " X & id & r\\_squared\\_adj & effect\\_size & pvalue\\\\\n",
       " <chr> & <chr> & <dbl> & <dbl> & <dbl>\\\\\n",
       "\\hline\n",
       "\t mm10\\_chr4\\_111545923\\_111546424           & mm10\\_chr4\\_111545923\\_111546424           & 0.2384567 & -0.8767500 & 3.836234e-14\\\\\n",
       "\t rn6\\_chr11\\_64640798\\_64641298\\_250         & rn6\\_chr11\\_64640798\\_64641298\\_250         & 0.2378756 & -0.8960552 & 4.156142e-14\\\\\n",
       "\t hg38\\_chr7\\_107168424\\_107168925           & hg38\\_chr7\\_107168424\\_107168925           & 0.2272678 & -0.8646728 & 1.775626e-13\\\\\n",
       "\t rn6\\_chr9\\_29752547\\_29753047\\_250          & rn6\\_chr9\\_29752547\\_29753047\\_250          & 0.2087134 & -1.1062516 & 2.154106e-12\\\\\n",
       "\t rn6\\_chr5\\_133377255\\_133377755\\_250        & rn6\\_chr5\\_133377255\\_133377755\\_250        & 0.2027579 & -0.7811271 & 4.744511e-12\\\\\n",
       "\t rhe\\_mac10\\_chr13\\_54846823\\_54847323\\_250   & rhe\\_mac10\\_chr13\\_54846823\\_54847323\\_250   & 0.1999146 & -0.9408392 & 6.903729e-12\\\\\n",
       "\t rn6\\_chr1\\_141842205\\_141842705\\_250        & rn6\\_chr1\\_141842205\\_141842705\\_250        & 0.1972817 & -0.9000456 & 9.759962e-12\\\\\n",
       "\t hg38\\_chr1\\_101025840\\_101026341           & hg38\\_chr1\\_101025840\\_101026341           & 0.1943420 & -0.9355276 & 1.434826e-11\\\\\n",
       "\t rhe\\_mac10\\_chr8\\_33911702\\_33912202\\_250    & rhe\\_mac10\\_chr8\\_33911702\\_33912202\\_250    & 0.1862287 & -1.0309923 & 4.128784e-11\\\\\n",
       "\t rhe\\_mac10\\_chr9\\_116636625\\_116637125\\_250  & rhe\\_mac10\\_chr9\\_116636625\\_116637125\\_250  & 0.1848302 & -1.1036366 & 4.949075e-11\\\\\n",
       "\t rhe\\_mac10\\_chr1\\_108106593\\_108107093\\_250  & rhe\\_mac10\\_chr1\\_108106593\\_108107093\\_250  & 0.1807463 & -0.9219535 & 8.387955e-11\\\\\n",
       "\t rhe\\_mac10\\_chr15\\_13543339\\_13543839\\_250   & rhe\\_mac10\\_chr15\\_13543339\\_13543839\\_250   & 0.1750952 & -0.8525163 & 1.733970e-10\\\\\n",
       "\t hg38\\_chr12\\_2582966\\_2583467              & hg38\\_chr12\\_2582966\\_2583467              & 0.1721619 & -1.0441925 & 2.523427e-10\\\\\n",
       "\t hg38\\_chr15\\_48646350\\_48646851            & hg38\\_chr15\\_48646350\\_48646851            & 0.1714907 & -0.9815728 & 2.749205e-10\\\\\n",
       "\t rn6\\_chr10\\_62019973\\_62020473\\_250         & rn6\\_chr10\\_62019973\\_62020473\\_250         & 0.1678684 & -0.8718244 & 4.360957e-10\\\\\n",
       "\t rn6\\_chr3\\_160854612\\_160855112\\_250        & rn6\\_chr3\\_160854612\\_160855112\\_250        & 0.1666138 & -0.8022533 & 5.114504e-10\\\\\n",
       "\t rhe\\_mac10\\_chr9\\_58454651\\_58455151\\_250    & rhe\\_mac10\\_chr9\\_58454651\\_58455151\\_250    & 0.1589308 & -0.8205965 & 1.351271e-09\\\\\n",
       "\t hg38\\_chr12\\_50103672\\_50104173            & hg38\\_chr12\\_50103672\\_50104173            & 0.1509320 & -0.7318210 & 3.685439e-09\\\\\n",
       "\t rn6\\_chr6\\_45625388\\_45625888\\_250          & rn6\\_chr6\\_45625388\\_45625888\\_250          & 0.1494380 & -0.8870555 & 4.441105e-09\\\\\n",
       "\t rn6\\_chr2\\_210872814\\_210873314\\_250        & rn6\\_chr2\\_210872814\\_210873314\\_250        & 0.1485727 & -0.8475619 & 4.947089e-09\\\\\n",
       "\t rhe\\_mac10\\_chr18\\_65668650\\_65669150\\_250   & rhe\\_mac10\\_chr18\\_65668650\\_65669150\\_250   & 0.1467761 & -0.8619689 & 6.187491e-09\\\\\n",
       "\t rhe\\_mac10\\_chr17\\_28802152\\_28802652\\_250   & rhe\\_mac10\\_chr17\\_28802152\\_28802652\\_250   & 0.1403992 & -0.8022378 & 1.364602e-08\\\\\n",
       "\t rhe\\_mac10\\_chr8\\_90154069\\_90154569\\_250    & rhe\\_mac10\\_chr8\\_90154069\\_90154569\\_250    & 0.1398758 & -0.7125271 & 1.455816e-08\\\\\n",
       "\t rn6\\_chr7\\_141377617\\_141378117\\_250        & rn6\\_chr7\\_141377617\\_141378117\\_250        & 0.1376052 & -0.8429683 & 1.926816e-08\\\\\n",
       "\t rhe\\_mac10\\_chr20\\_995792\\_996292\\_250       & rhe\\_mac10\\_chr20\\_995792\\_996292\\_250       & 0.1364557 & -1.0111745 & 2.220093e-08\\\\\n",
       "\t rhe\\_mac10\\_chr11\\_56808618\\_56809118\\_250   & rhe\\_mac10\\_chr11\\_56808618\\_56809118\\_250   & 0.1261520 & -0.7152648 & 7.851508e-08\\\\\n",
       "\t rhe\\_mac10\\_chr14\\_115469924\\_115470424\\_250 & rhe\\_mac10\\_chr14\\_115469924\\_115470424\\_250 & 0.1245171 & -0.9853109 & 9.583419e-08\\\\\n",
       "\t rhe\\_mac10\\_chr1\\_89815598\\_89816098\\_250    & rhe\\_mac10\\_chr1\\_89815598\\_89816098\\_250    & 0.1239186 & -0.8356407 & 1.030822e-07\\\\\n",
       "\t rn6\\_chr8\\_111222943\\_111223443\\_250        & rn6\\_chr8\\_111222943\\_111223443\\_250        & 0.1238558 & -0.6957668 & 1.038725e-07\\\\\n",
       "\t rhe\\_mac10\\_chr\\_x\\_116962205\\_116962705\\_250 & rhe\\_mac10\\_chr\\_x\\_116962205\\_116962705\\_250 & 0.1237797 & -0.8212086 & 1.048399e-07\\\\\n",
       "\t ⋮ & ⋮ & ⋮ & ⋮ & ⋮\\\\\n",
       "\t rhe\\_mac10\\_chr9\\_97478874\\_97479374\\_250   & rhe\\_mac10\\_chr9\\_97478874\\_97479374\\_250   &  6.780296e-03 & -0.312097491 & 0.121327911\\\\\n",
       "\t mm10\\_chr17\\_45766790\\_45767291           & mm10\\_chr17\\_45766790\\_45767291           & -4.746801e-03 & -0.016854709 & 0.895394432\\\\\n",
       "\t rn6\\_chr1\\_33806988\\_33807488\\_250         & rn6\\_chr1\\_33806988\\_33807488\\_250         & -2.172188e-03 & -0.078053552 & 0.459499232\\\\\n",
       "\t rhe\\_mac10\\_chr20\\_62087257\\_62087757\\_250  & rhe\\_mac10\\_chr20\\_62087257\\_62087757\\_250  & -4.790955e-03 & -0.010733227 & 0.927790587\\\\\n",
       "\t rhe\\_mac10\\_chr5\\_162769108\\_162769608\\_250 & rhe\\_mac10\\_chr5\\_162769108\\_162769608\\_250 &  1.103587e-03 & -0.241335150 & 0.268732728\\\\\n",
       "\t hg38\\_chr2\\_144510492\\_144510993          & hg38\\_chr2\\_144510492\\_144510993          & -2.121768e-03 & -0.085722952 & 0.455267813\\\\\n",
       "\t rhe\\_mac10\\_chr\\_x\\_13023102\\_13023602\\_250  & rhe\\_mac10\\_chr\\_x\\_13023102\\_13023602\\_250  & -4.463541e-03 & -0.049924673 & 0.783473285\\\\\n",
       "\t hg38\\_chr20\\_21515123\\_21515624           & hg38\\_chr20\\_21515123\\_21515624           & -4.615919e-03 & -0.029207974 & 0.833502986\\\\\n",
       "\t hg38\\_chr10\\_68406320\\_68406821           & hg38\\_chr10\\_68406320\\_68406821           & -4.829997e-03 & -0.001052555 & 0.989023893\\\\\n",
       "\t rn6\\_chr9\\_74009656\\_74010156\\_250         & rn6\\_chr9\\_74009656\\_74010156\\_250         & -4.826047e-03 & -0.007016483 & 0.974760197\\\\\n",
       "\t rhe\\_mac10\\_chr11\\_55300645\\_55301145\\_250  & rhe\\_mac10\\_chr11\\_55300645\\_55301145\\_250  & -3.826230e-03 & -0.070526367 & 0.649465553\\\\\n",
       "\t hg38\\_chr9\\_136624966\\_136625467          & hg38\\_chr9\\_136624966\\_136625467          & -4.807501e-03 & -0.008017738 & 0.944694041\\\\\n",
       "\t rn6\\_chr12\\_39098958\\_39099458\\_250        & rn6\\_chr12\\_39098958\\_39099458\\_250        & -3.816129e-03 & -0.099174687 & 0.647825598\\\\\n",
       "\t rhe\\_mac10\\_chr8\\_133524726\\_133525226\\_250 & rhe\\_mac10\\_chr8\\_133524726\\_133525226\\_250 &  2.097655e-03 & -0.222450234 & 0.231958827\\\\\n",
       "\t rhe\\_mac10\\_chr20\\_54714102\\_54714602\\_250  & rhe\\_mac10\\_chr20\\_54714102\\_54714602\\_250  & -2.186144e-03 & -0.076664026 & 0.460681407\\\\\n",
       "\t hg38\\_chr9\\_88076342\\_88076843            & hg38\\_chr9\\_88076342\\_88076843            & -6.644134e-04 & -0.091012317 & 0.354290546\\\\\n",
       "\t hg38\\_chr15\\_40160734\\_40161235           & hg38\\_chr15\\_40160734\\_40161235           &  6.383574e-03 & -0.153110543 & 0.127914941\\\\\n",
       "\t hg38\\_chr5\\_78974018\\_78974519            & hg38\\_chr5\\_78974018\\_78974519            &  2.184947e-02 & -0.260607355 & 0.018405176\\\\\n",
       "\t hg38\\_chr5\\_80255352\\_80255853            & hg38\\_chr5\\_80255352\\_80255853            &  1.263021e-02 & -0.289417434 & 0.057090440\\\\\n",
       "\t mm10\\_chr1\\_165641379\\_165641880          & mm10\\_chr1\\_165641379\\_165641880          & -1.954445e-03 & -0.144429452 & 0.441652258\\\\\n",
       "\t mm10\\_chr11\\_20400735\\_20401236           & mm10\\_chr11\\_20400735\\_20401236           & -3.096557e-03 & -0.098742029 & 0.550326426\\\\\n",
       "\t mm10\\_chr19\\_51671508\\_51672009           & mm10\\_chr19\\_51671508\\_51672009           & -5.382452e-04 & -0.166152844 & 0.347089830\\\\\n",
       "\t hg38\\_chr1\\_237556904\\_237557405          & hg38\\_chr1\\_237556904\\_237557405          & -4.720036e-03 & -0.023497549 & 0.880008625\\\\\n",
       "\t hg38\\_chr12\\_38138403\\_38138904           & hg38\\_chr12\\_38138403\\_38138904           & -4.825820e-03 & -0.005724135 & 0.974178920\\\\\n",
       "\t rn6\\_chr11\\_32186734\\_32187234\\_250        & rn6\\_chr11\\_32186734\\_32187234\\_250        & -2.373708e-03 & -0.101841966 & 0.477052185\\\\\n",
       "\t mm10\\_chr18\\_50396988\\_50397489           & mm10\\_chr18\\_50396988\\_50397489           & -5.004471e-06 & -0.202789900 & 0.318729433\\\\\n",
       "\t mm10\\_chr19\\_55756664\\_55757165           & mm10\\_chr19\\_55756664\\_55757165           & -3.602160e-03 & -0.061545902 & 0.615198476\\\\\n",
       "\t rhe\\_mac10\\_chr2\\_102565290\\_102565790\\_250 & rhe\\_mac10\\_chr2\\_102565290\\_102565790\\_250 &  1.023815e-02 & -0.184275639 & 0.077323687\\\\\n",
       "\t hg38\\_chr5\\_154313532\\_154314033          & hg38\\_chr5\\_154313532\\_154314033          & -3.720969e-03 & -0.033656059 & 0.632839912\\\\\n",
       "\t rn6\\_chr4\\_131957144\\_131957644\\_250       & rn6\\_chr4\\_131957144\\_131957644\\_250       &  3.379593e-02 & -0.813287991 & 0.004439281\\\\\n",
       "\\end{tabular}\n"
      ],
      "text/markdown": [
       "\n",
       "A data.frame: 4790 × 5\n",
       "\n",
       "| X &lt;chr&gt; | id &lt;chr&gt; | r_squared_adj &lt;dbl&gt; | effect_size &lt;dbl&gt; | pvalue &lt;dbl&gt; |\n",
       "|---|---|---|---|---|\n",
       "| mm10_chr4_111545923_111546424           | mm10_chr4_111545923_111546424           | 0.2384567 | -0.8767500 | 3.836234e-14 |\n",
       "| rn6_chr11_64640798_64641298_250         | rn6_chr11_64640798_64641298_250         | 0.2378756 | -0.8960552 | 4.156142e-14 |\n",
       "| hg38_chr7_107168424_107168925           | hg38_chr7_107168424_107168925           | 0.2272678 | -0.8646728 | 1.775626e-13 |\n",
       "| rn6_chr9_29752547_29753047_250          | rn6_chr9_29752547_29753047_250          | 0.2087134 | -1.1062516 | 2.154106e-12 |\n",
       "| rn6_chr5_133377255_133377755_250        | rn6_chr5_133377255_133377755_250        | 0.2027579 | -0.7811271 | 4.744511e-12 |\n",
       "| rhe_mac10_chr13_54846823_54847323_250   | rhe_mac10_chr13_54846823_54847323_250   | 0.1999146 | -0.9408392 | 6.903729e-12 |\n",
       "| rn6_chr1_141842205_141842705_250        | rn6_chr1_141842205_141842705_250        | 0.1972817 | -0.9000456 | 9.759962e-12 |\n",
       "| hg38_chr1_101025840_101026341           | hg38_chr1_101025840_101026341           | 0.1943420 | -0.9355276 | 1.434826e-11 |\n",
       "| rhe_mac10_chr8_33911702_33912202_250    | rhe_mac10_chr8_33911702_33912202_250    | 0.1862287 | -1.0309923 | 4.128784e-11 |\n",
       "| rhe_mac10_chr9_116636625_116637125_250  | rhe_mac10_chr9_116636625_116637125_250  | 0.1848302 | -1.1036366 | 4.949075e-11 |\n",
       "| rhe_mac10_chr1_108106593_108107093_250  | rhe_mac10_chr1_108106593_108107093_250  | 0.1807463 | -0.9219535 | 8.387955e-11 |\n",
       "| rhe_mac10_chr15_13543339_13543839_250   | rhe_mac10_chr15_13543339_13543839_250   | 0.1750952 | -0.8525163 | 1.733970e-10 |\n",
       "| hg38_chr12_2582966_2583467              | hg38_chr12_2582966_2583467              | 0.1721619 | -1.0441925 | 2.523427e-10 |\n",
       "| hg38_chr15_48646350_48646851            | hg38_chr15_48646350_48646851            | 0.1714907 | -0.9815728 | 2.749205e-10 |\n",
       "| rn6_chr10_62019973_62020473_250         | rn6_chr10_62019973_62020473_250         | 0.1678684 | -0.8718244 | 4.360957e-10 |\n",
       "| rn6_chr3_160854612_160855112_250        | rn6_chr3_160854612_160855112_250        | 0.1666138 | -0.8022533 | 5.114504e-10 |\n",
       "| rhe_mac10_chr9_58454651_58455151_250    | rhe_mac10_chr9_58454651_58455151_250    | 0.1589308 | -0.8205965 | 1.351271e-09 |\n",
       "| hg38_chr12_50103672_50104173            | hg38_chr12_50103672_50104173            | 0.1509320 | -0.7318210 | 3.685439e-09 |\n",
       "| rn6_chr6_45625388_45625888_250          | rn6_chr6_45625388_45625888_250          | 0.1494380 | -0.8870555 | 4.441105e-09 |\n",
       "| rn6_chr2_210872814_210873314_250        | rn6_chr2_210872814_210873314_250        | 0.1485727 | -0.8475619 | 4.947089e-09 |\n",
       "| rhe_mac10_chr18_65668650_65669150_250   | rhe_mac10_chr18_65668650_65669150_250   | 0.1467761 | -0.8619689 | 6.187491e-09 |\n",
       "| rhe_mac10_chr17_28802152_28802652_250   | rhe_mac10_chr17_28802152_28802652_250   | 0.1403992 | -0.8022378 | 1.364602e-08 |\n",
       "| rhe_mac10_chr8_90154069_90154569_250    | rhe_mac10_chr8_90154069_90154569_250    | 0.1398758 | -0.7125271 | 1.455816e-08 |\n",
       "| rn6_chr7_141377617_141378117_250        | rn6_chr7_141377617_141378117_250        | 0.1376052 | -0.8429683 | 1.926816e-08 |\n",
       "| rhe_mac10_chr20_995792_996292_250       | rhe_mac10_chr20_995792_996292_250       | 0.1364557 | -1.0111745 | 2.220093e-08 |\n",
       "| rhe_mac10_chr11_56808618_56809118_250   | rhe_mac10_chr11_56808618_56809118_250   | 0.1261520 | -0.7152648 | 7.851508e-08 |\n",
       "| rhe_mac10_chr14_115469924_115470424_250 | rhe_mac10_chr14_115469924_115470424_250 | 0.1245171 | -0.9853109 | 9.583419e-08 |\n",
       "| rhe_mac10_chr1_89815598_89816098_250    | rhe_mac10_chr1_89815598_89816098_250    | 0.1239186 | -0.8356407 | 1.030822e-07 |\n",
       "| rn6_chr8_111222943_111223443_250        | rn6_chr8_111222943_111223443_250        | 0.1238558 | -0.6957668 | 1.038725e-07 |\n",
       "| rhe_mac10_chr_x_116962205_116962705_250 | rhe_mac10_chr_x_116962205_116962705_250 | 0.1237797 | -0.8212086 | 1.048399e-07 |\n",
       "| ⋮ | ⋮ | ⋮ | ⋮ | ⋮ |\n",
       "| rhe_mac10_chr9_97478874_97479374_250   | rhe_mac10_chr9_97478874_97479374_250   |  6.780296e-03 | -0.312097491 | 0.121327911 |\n",
       "| mm10_chr17_45766790_45767291           | mm10_chr17_45766790_45767291           | -4.746801e-03 | -0.016854709 | 0.895394432 |\n",
       "| rn6_chr1_33806988_33807488_250         | rn6_chr1_33806988_33807488_250         | -2.172188e-03 | -0.078053552 | 0.459499232 |\n",
       "| rhe_mac10_chr20_62087257_62087757_250  | rhe_mac10_chr20_62087257_62087757_250  | -4.790955e-03 | -0.010733227 | 0.927790587 |\n",
       "| rhe_mac10_chr5_162769108_162769608_250 | rhe_mac10_chr5_162769108_162769608_250 |  1.103587e-03 | -0.241335150 | 0.268732728 |\n",
       "| hg38_chr2_144510492_144510993          | hg38_chr2_144510492_144510993          | -2.121768e-03 | -0.085722952 | 0.455267813 |\n",
       "| rhe_mac10_chr_x_13023102_13023602_250  | rhe_mac10_chr_x_13023102_13023602_250  | -4.463541e-03 | -0.049924673 | 0.783473285 |\n",
       "| hg38_chr20_21515123_21515624           | hg38_chr20_21515123_21515624           | -4.615919e-03 | -0.029207974 | 0.833502986 |\n",
       "| hg38_chr10_68406320_68406821           | hg38_chr10_68406320_68406821           | -4.829997e-03 | -0.001052555 | 0.989023893 |\n",
       "| rn6_chr9_74009656_74010156_250         | rn6_chr9_74009656_74010156_250         | -4.826047e-03 | -0.007016483 | 0.974760197 |\n",
       "| rhe_mac10_chr11_55300645_55301145_250  | rhe_mac10_chr11_55300645_55301145_250  | -3.826230e-03 | -0.070526367 | 0.649465553 |\n",
       "| hg38_chr9_136624966_136625467          | hg38_chr9_136624966_136625467          | -4.807501e-03 | -0.008017738 | 0.944694041 |\n",
       "| rn6_chr12_39098958_39099458_250        | rn6_chr12_39098958_39099458_250        | -3.816129e-03 | -0.099174687 | 0.647825598 |\n",
       "| rhe_mac10_chr8_133524726_133525226_250 | rhe_mac10_chr8_133524726_133525226_250 |  2.097655e-03 | -0.222450234 | 0.231958827 |\n",
       "| rhe_mac10_chr20_54714102_54714602_250  | rhe_mac10_chr20_54714102_54714602_250  | -2.186144e-03 | -0.076664026 | 0.460681407 |\n",
       "| hg38_chr9_88076342_88076843            | hg38_chr9_88076342_88076843            | -6.644134e-04 | -0.091012317 | 0.354290546 |\n",
       "| hg38_chr15_40160734_40161235           | hg38_chr15_40160734_40161235           |  6.383574e-03 | -0.153110543 | 0.127914941 |\n",
       "| hg38_chr5_78974018_78974519            | hg38_chr5_78974018_78974519            |  2.184947e-02 | -0.260607355 | 0.018405176 |\n",
       "| hg38_chr5_80255352_80255853            | hg38_chr5_80255352_80255853            |  1.263021e-02 | -0.289417434 | 0.057090440 |\n",
       "| mm10_chr1_165641379_165641880          | mm10_chr1_165641379_165641880          | -1.954445e-03 | -0.144429452 | 0.441652258 |\n",
       "| mm10_chr11_20400735_20401236           | mm10_chr11_20400735_20401236           | -3.096557e-03 | -0.098742029 | 0.550326426 |\n",
       "| mm10_chr19_51671508_51672009           | mm10_chr19_51671508_51672009           | -5.382452e-04 | -0.166152844 | 0.347089830 |\n",
       "| hg38_chr1_237556904_237557405          | hg38_chr1_237556904_237557405          | -4.720036e-03 | -0.023497549 | 0.880008625 |\n",
       "| hg38_chr12_38138403_38138904           | hg38_chr12_38138403_38138904           | -4.825820e-03 | -0.005724135 | 0.974178920 |\n",
       "| rn6_chr11_32186734_32187234_250        | rn6_chr11_32186734_32187234_250        | -2.373708e-03 | -0.101841966 | 0.477052185 |\n",
       "| mm10_chr18_50396988_50397489           | mm10_chr18_50396988_50397489           | -5.004471e-06 | -0.202789900 | 0.318729433 |\n",
       "| mm10_chr19_55756664_55757165           | mm10_chr19_55756664_55757165           | -3.602160e-03 | -0.061545902 | 0.615198476 |\n",
       "| rhe_mac10_chr2_102565290_102565790_250 | rhe_mac10_chr2_102565290_102565790_250 |  1.023815e-02 | -0.184275639 | 0.077323687 |\n",
       "| hg38_chr5_154313532_154314033          | hg38_chr5_154313532_154314033          | -3.720969e-03 | -0.033656059 | 0.632839912 |\n",
       "| rn6_chr4_131957144_131957644_250       | rn6_chr4_131957144_131957644_250       |  3.379593e-02 | -0.813287991 | 0.004439281 |\n",
       "\n"
      ],
      "text/plain": [
       "     X                                      \n",
       "1    mm10_chr4_111545923_111546424          \n",
       "2    rn6_chr11_64640798_64641298_250        \n",
       "3    hg38_chr7_107168424_107168925          \n",
       "4    rn6_chr9_29752547_29753047_250         \n",
       "5    rn6_chr5_133377255_133377755_250       \n",
       "6    rhe_mac10_chr13_54846823_54847323_250  \n",
       "7    rn6_chr1_141842205_141842705_250       \n",
       "8    hg38_chr1_101025840_101026341          \n",
       "9    rhe_mac10_chr8_33911702_33912202_250   \n",
       "10   rhe_mac10_chr9_116636625_116637125_250 \n",
       "11   rhe_mac10_chr1_108106593_108107093_250 \n",
       "12   rhe_mac10_chr15_13543339_13543839_250  \n",
       "13   hg38_chr12_2582966_2583467             \n",
       "14   hg38_chr15_48646350_48646851           \n",
       "15   rn6_chr10_62019973_62020473_250        \n",
       "16   rn6_chr3_160854612_160855112_250       \n",
       "17   rhe_mac10_chr9_58454651_58455151_250   \n",
       "18   hg38_chr12_50103672_50104173           \n",
       "19   rn6_chr6_45625388_45625888_250         \n",
       "20   rn6_chr2_210872814_210873314_250       \n",
       "21   rhe_mac10_chr18_65668650_65669150_250  \n",
       "22   rhe_mac10_chr17_28802152_28802652_250  \n",
       "23   rhe_mac10_chr8_90154069_90154569_250   \n",
       "24   rn6_chr7_141377617_141378117_250       \n",
       "25   rhe_mac10_chr20_995792_996292_250      \n",
       "26   rhe_mac10_chr11_56808618_56809118_250  \n",
       "27   rhe_mac10_chr14_115469924_115470424_250\n",
       "28   rhe_mac10_chr1_89815598_89816098_250   \n",
       "29   rn6_chr8_111222943_111223443_250       \n",
       "30   rhe_mac10_chr_x_116962205_116962705_250\n",
       "⋮    ⋮                                      \n",
       "4761 rhe_mac10_chr9_97478874_97479374_250   \n",
       "4762 mm10_chr17_45766790_45767291           \n",
       "4763 rn6_chr1_33806988_33807488_250         \n",
       "4764 rhe_mac10_chr20_62087257_62087757_250  \n",
       "4765 rhe_mac10_chr5_162769108_162769608_250 \n",
       "4766 hg38_chr2_144510492_144510993          \n",
       "4767 rhe_mac10_chr_x_13023102_13023602_250  \n",
       "4768 hg38_chr20_21515123_21515624           \n",
       "4769 hg38_chr10_68406320_68406821           \n",
       "4770 rn6_chr9_74009656_74010156_250         \n",
       "4771 rhe_mac10_chr11_55300645_55301145_250  \n",
       "4772 hg38_chr9_136624966_136625467          \n",
       "4773 rn6_chr12_39098958_39099458_250        \n",
       "4774 rhe_mac10_chr8_133524726_133525226_250 \n",
       "4775 rhe_mac10_chr20_54714102_54714602_250  \n",
       "4776 hg38_chr9_88076342_88076843            \n",
       "4777 hg38_chr15_40160734_40161235           \n",
       "4778 hg38_chr5_78974018_78974519            \n",
       "4779 hg38_chr5_80255352_80255853            \n",
       "4780 mm10_chr1_165641379_165641880          \n",
       "4781 mm10_chr11_20400735_20401236           \n",
       "4782 mm10_chr19_51671508_51672009           \n",
       "4783 hg38_chr1_237556904_237557405          \n",
       "4784 hg38_chr12_38138403_38138904           \n",
       "4785 rn6_chr11_32186734_32187234_250        \n",
       "4786 mm10_chr18_50396988_50397489           \n",
       "4787 mm10_chr19_55756664_55757165           \n",
       "4788 rhe_mac10_chr2_102565290_102565790_250 \n",
       "4789 hg38_chr5_154313532_154314033          \n",
       "4790 rn6_chr4_131957144_131957644_250       \n",
       "     id                                      r_squared_adj effect_size \n",
       "1    mm10_chr4_111545923_111546424           0.2384567     -0.8767500  \n",
       "2    rn6_chr11_64640798_64641298_250         0.2378756     -0.8960552  \n",
       "3    hg38_chr7_107168424_107168925           0.2272678     -0.8646728  \n",
       "4    rn6_chr9_29752547_29753047_250          0.2087134     -1.1062516  \n",
       "5    rn6_chr5_133377255_133377755_250        0.2027579     -0.7811271  \n",
       "6    rhe_mac10_chr13_54846823_54847323_250   0.1999146     -0.9408392  \n",
       "7    rn6_chr1_141842205_141842705_250        0.1972817     -0.9000456  \n",
       "8    hg38_chr1_101025840_101026341           0.1943420     -0.9355276  \n",
       "9    rhe_mac10_chr8_33911702_33912202_250    0.1862287     -1.0309923  \n",
       "10   rhe_mac10_chr9_116636625_116637125_250  0.1848302     -1.1036366  \n",
       "11   rhe_mac10_chr1_108106593_108107093_250  0.1807463     -0.9219535  \n",
       "12   rhe_mac10_chr15_13543339_13543839_250   0.1750952     -0.8525163  \n",
       "13   hg38_chr12_2582966_2583467              0.1721619     -1.0441925  \n",
       "14   hg38_chr15_48646350_48646851            0.1714907     -0.9815728  \n",
       "15   rn6_chr10_62019973_62020473_250         0.1678684     -0.8718244  \n",
       "16   rn6_chr3_160854612_160855112_250        0.1666138     -0.8022533  \n",
       "17   rhe_mac10_chr9_58454651_58455151_250    0.1589308     -0.8205965  \n",
       "18   hg38_chr12_50103672_50104173            0.1509320     -0.7318210  \n",
       "19   rn6_chr6_45625388_45625888_250          0.1494380     -0.8870555  \n",
       "20   rn6_chr2_210872814_210873314_250        0.1485727     -0.8475619  \n",
       "21   rhe_mac10_chr18_65668650_65669150_250   0.1467761     -0.8619689  \n",
       "22   rhe_mac10_chr17_28802152_28802652_250   0.1403992     -0.8022378  \n",
       "23   rhe_mac10_chr8_90154069_90154569_250    0.1398758     -0.7125271  \n",
       "24   rn6_chr7_141377617_141378117_250        0.1376052     -0.8429683  \n",
       "25   rhe_mac10_chr20_995792_996292_250       0.1364557     -1.0111745  \n",
       "26   rhe_mac10_chr11_56808618_56809118_250   0.1261520     -0.7152648  \n",
       "27   rhe_mac10_chr14_115469924_115470424_250 0.1245171     -0.9853109  \n",
       "28   rhe_mac10_chr1_89815598_89816098_250    0.1239186     -0.8356407  \n",
       "29   rn6_chr8_111222943_111223443_250        0.1238558     -0.6957668  \n",
       "30   rhe_mac10_chr_x_116962205_116962705_250 0.1237797     -0.8212086  \n",
       "⋮    ⋮                                       ⋮             ⋮           \n",
       "4761 rhe_mac10_chr9_97478874_97479374_250     6.780296e-03 -0.312097491\n",
       "4762 mm10_chr17_45766790_45767291            -4.746801e-03 -0.016854709\n",
       "4763 rn6_chr1_33806988_33807488_250          -2.172188e-03 -0.078053552\n",
       "4764 rhe_mac10_chr20_62087257_62087757_250   -4.790955e-03 -0.010733227\n",
       "4765 rhe_mac10_chr5_162769108_162769608_250   1.103587e-03 -0.241335150\n",
       "4766 hg38_chr2_144510492_144510993           -2.121768e-03 -0.085722952\n",
       "4767 rhe_mac10_chr_x_13023102_13023602_250   -4.463541e-03 -0.049924673\n",
       "4768 hg38_chr20_21515123_21515624            -4.615919e-03 -0.029207974\n",
       "4769 hg38_chr10_68406320_68406821            -4.829997e-03 -0.001052555\n",
       "4770 rn6_chr9_74009656_74010156_250          -4.826047e-03 -0.007016483\n",
       "4771 rhe_mac10_chr11_55300645_55301145_250   -3.826230e-03 -0.070526367\n",
       "4772 hg38_chr9_136624966_136625467           -4.807501e-03 -0.008017738\n",
       "4773 rn6_chr12_39098958_39099458_250         -3.816129e-03 -0.099174687\n",
       "4774 rhe_mac10_chr8_133524726_133525226_250   2.097655e-03 -0.222450234\n",
       "4775 rhe_mac10_chr20_54714102_54714602_250   -2.186144e-03 -0.076664026\n",
       "4776 hg38_chr9_88076342_88076843             -6.644134e-04 -0.091012317\n",
       "4777 hg38_chr15_40160734_40161235             6.383574e-03 -0.153110543\n",
       "4778 hg38_chr5_78974018_78974519              2.184947e-02 -0.260607355\n",
       "4779 hg38_chr5_80255352_80255853              1.263021e-02 -0.289417434\n",
       "4780 mm10_chr1_165641379_165641880           -1.954445e-03 -0.144429452\n",
       "4781 mm10_chr11_20400735_20401236            -3.096557e-03 -0.098742029\n",
       "4782 mm10_chr19_51671508_51672009            -5.382452e-04 -0.166152844\n",
       "4783 hg38_chr1_237556904_237557405           -4.720036e-03 -0.023497549\n",
       "4784 hg38_chr12_38138403_38138904            -4.825820e-03 -0.005724135\n",
       "4785 rn6_chr11_32186734_32187234_250         -2.373708e-03 -0.101841966\n",
       "4786 mm10_chr18_50396988_50397489            -5.004471e-06 -0.202789900\n",
       "4787 mm10_chr19_55756664_55757165            -3.602160e-03 -0.061545902\n",
       "4788 rhe_mac10_chr2_102565290_102565790_250   1.023815e-02 -0.184275639\n",
       "4789 hg38_chr5_154313532_154314033           -3.720969e-03 -0.033656059\n",
       "4790 rn6_chr4_131957144_131957644_250         3.379593e-02 -0.813287991\n",
       "     pvalue      \n",
       "1    3.836234e-14\n",
       "2    4.156142e-14\n",
       "3    1.775626e-13\n",
       "4    2.154106e-12\n",
       "5    4.744511e-12\n",
       "6    6.903729e-12\n",
       "7    9.759962e-12\n",
       "8    1.434826e-11\n",
       "9    4.128784e-11\n",
       "10   4.949075e-11\n",
       "11   8.387955e-11\n",
       "12   1.733970e-10\n",
       "13   2.523427e-10\n",
       "14   2.749205e-10\n",
       "15   4.360957e-10\n",
       "16   5.114504e-10\n",
       "17   1.351271e-09\n",
       "18   3.685439e-09\n",
       "19   4.441105e-09\n",
       "20   4.947089e-09\n",
       "21   6.187491e-09\n",
       "22   1.364602e-08\n",
       "23   1.455816e-08\n",
       "24   1.926816e-08\n",
       "25   2.220093e-08\n",
       "26   7.851508e-08\n",
       "27   9.583419e-08\n",
       "28   1.030822e-07\n",
       "29   1.038725e-07\n",
       "30   1.048399e-07\n",
       "⋮    ⋮           \n",
       "4761 0.121327911 \n",
       "4762 0.895394432 \n",
       "4763 0.459499232 \n",
       "4764 0.927790587 \n",
       "4765 0.268732728 \n",
       "4766 0.455267813 \n",
       "4767 0.783473285 \n",
       "4768 0.833502986 \n",
       "4769 0.989023893 \n",
       "4770 0.974760197 \n",
       "4771 0.649465553 \n",
       "4772 0.944694041 \n",
       "4773 0.647825598 \n",
       "4774 0.231958827 \n",
       "4775 0.460681407 \n",
       "4776 0.354290546 \n",
       "4777 0.127914941 \n",
       "4778 0.018405176 \n",
       "4779 0.057090440 \n",
       "4780 0.441652258 \n",
       "4781 0.550326426 \n",
       "4782 0.347089830 \n",
       "4783 0.880008625 \n",
       "4784 0.974178920 \n",
       "4785 0.477052185 \n",
       "4786 0.318729433 \n",
       "4787 0.615198476 \n",
       "4788 0.077323687 \n",
       "4789 0.632839912 \n",
       "4790 0.004439281 "
      ]
     },
     "metadata": {},
     "output_type": "display_data"
    }
   ],
   "source": [
    "#finding most positively and negatively associated peak\n",
    "#first with PhyloLM, using pos/neg slope. \n",
    "phyloResPos <- phyloRes %>% filter(effect_size > 0)\n",
    "phyloResNeg <- phyloRes %>% filter(effect_size < 0)\n",
    "phyloResPos[1:5]\n",
    "phyloResNeg[1:5]"
   ]
  },
  {
   "cell_type": "code",
   "execution_count": 15,
   "id": "365fe80f-c980-4989-8121-dca7af37c080",
   "metadata": {},
   "outputs": [
    {
     "data": {
      "text/html": [
       "<table class=\"dataframe\">\n",
       "<caption>A data.frame: 5 × 4</caption>\n",
       "<thead>\n",
       "\t<tr><th></th><th scope=col>id</th><th scope=col>meanDiff</th><th scope=col>pvalue</th><th scope=col>padj</th></tr>\n",
       "\t<tr><th></th><th scope=col>&lt;chr&gt;</th><th scope=col>&lt;dbl&gt;</th><th scope=col>&lt;dbl&gt;</th><th scope=col>&lt;dbl&gt;</th></tr>\n",
       "</thead>\n",
       "<tbody>\n",
       "\t<tr><th scope=row>rheMac10:chr14:94018099-94018599:250</th><td>rheMac10:chr14:94018099-94018599:250</td><td>-1.166841</td><td>3.739627e-40</td><td>3.611358e-36</td></tr>\n",
       "\t<tr><th scope=row>rheMac10:chr7:14970683-14971183:250</th><td>rheMac10:chr7:14970683-14971183:250 </td><td>-1.156606</td><td>5.290916e-40</td><td>5.108908e-36</td></tr>\n",
       "\t<tr><th scope=row>rheMac10:chr13:83999136-83999636:250</th><td>rheMac10:chr13:83999136-83999636:250</td><td>-1.068573</td><td>7.480792e-39</td><td>7.222705e-35</td></tr>\n",
       "\t<tr><th scope=row>rheMac10:chr16:16917684-16918184:250</th><td>rheMac10:chr16:16917684-16918184:250</td><td>-1.041467</td><td>1.478127e-36</td><td>1.426984e-32</td></tr>\n",
       "\t<tr><th scope=row>rheMac10:chr2:2753620-2754120:250</th><td>rheMac10:chr2:2753620-2754120:250   </td><td>-1.226441</td><td>2.839644e-35</td><td>2.741108e-31</td></tr>\n",
       "</tbody>\n",
       "</table>\n"
      ],
      "text/latex": [
       "A data.frame: 5 × 4\n",
       "\\begin{tabular}{r|llll}\n",
       "  & id & meanDiff & pvalue & padj\\\\\n",
       "  & <chr> & <dbl> & <dbl> & <dbl>\\\\\n",
       "\\hline\n",
       "\trheMac10:chr14:94018099-94018599:250 & rheMac10:chr14:94018099-94018599:250 & -1.166841 & 3.739627e-40 & 3.611358e-36\\\\\n",
       "\trheMac10:chr7:14970683-14971183:250 & rheMac10:chr7:14970683-14971183:250  & -1.156606 & 5.290916e-40 & 5.108908e-36\\\\\n",
       "\trheMac10:chr13:83999136-83999636:250 & rheMac10:chr13:83999136-83999636:250 & -1.068573 & 7.480792e-39 & 7.222705e-35\\\\\n",
       "\trheMac10:chr16:16917684-16918184:250 & rheMac10:chr16:16917684-16918184:250 & -1.041467 & 1.478127e-36 & 1.426984e-32\\\\\n",
       "\trheMac10:chr2:2753620-2754120:250 & rheMac10:chr2:2753620-2754120:250    & -1.226441 & 2.839644e-35 & 2.741108e-31\\\\\n",
       "\\end{tabular}\n"
      ],
      "text/markdown": [
       "\n",
       "A data.frame: 5 × 4\n",
       "\n",
       "| <!--/--> | id &lt;chr&gt; | meanDiff &lt;dbl&gt; | pvalue &lt;dbl&gt; | padj &lt;dbl&gt; |\n",
       "|---|---|---|---|---|\n",
       "| rheMac10:chr14:94018099-94018599:250 | rheMac10:chr14:94018099-94018599:250 | -1.166841 | 3.739627e-40 | 3.611358e-36 |\n",
       "| rheMac10:chr7:14970683-14971183:250 | rheMac10:chr7:14970683-14971183:250  | -1.156606 | 5.290916e-40 | 5.108908e-36 |\n",
       "| rheMac10:chr13:83999136-83999636:250 | rheMac10:chr13:83999136-83999636:250 | -1.068573 | 7.480792e-39 | 7.222705e-35 |\n",
       "| rheMac10:chr16:16917684-16918184:250 | rheMac10:chr16:16917684-16918184:250 | -1.041467 | 1.478127e-36 | 1.426984e-32 |\n",
       "| rheMac10:chr2:2753620-2754120:250 | rheMac10:chr2:2753620-2754120:250    | -1.226441 | 2.839644e-35 | 2.741108e-31 |\n",
       "\n"
      ],
      "text/plain": [
       "                                     id                                  \n",
       "rheMac10:chr14:94018099-94018599:250 rheMac10:chr14:94018099-94018599:250\n",
       "rheMac10:chr7:14970683-14971183:250  rheMac10:chr7:14970683-14971183:250 \n",
       "rheMac10:chr13:83999136-83999636:250 rheMac10:chr13:83999136-83999636:250\n",
       "rheMac10:chr16:16917684-16918184:250 rheMac10:chr16:16917684-16918184:250\n",
       "rheMac10:chr2:2753620-2754120:250    rheMac10:chr2:2753620-2754120:250   \n",
       "                                     meanDiff  pvalue       padj        \n",
       "rheMac10:chr14:94018099-94018599:250 -1.166841 3.739627e-40 3.611358e-36\n",
       "rheMac10:chr7:14970683-14971183:250  -1.156606 5.290916e-40 5.108908e-36\n",
       "rheMac10:chr13:83999136-83999636:250 -1.068573 7.480792e-39 7.222705e-35\n",
       "rheMac10:chr16:16917684-16918184:250 -1.041467 1.478127e-36 1.426984e-32\n",
       "rheMac10:chr2:2753620-2754120:250    -1.226441 2.839644e-35 2.741108e-31"
      ]
     },
     "metadata": {},
     "output_type": "display_data"
    },
    {
     "data": {
      "text/html": [
       "<table class=\"dataframe\">\n",
       "<caption>A data.frame: 5 × 4</caption>\n",
       "<thead>\n",
       "\t<tr><th></th><th scope=col>id</th><th scope=col>meanDiff</th><th scope=col>pvalue</th><th scope=col>padj</th></tr>\n",
       "\t<tr><th></th><th scope=col>&lt;chr&gt;</th><th scope=col>&lt;dbl&gt;</th><th scope=col>&lt;dbl&gt;</th><th scope=col>&lt;dbl&gt;</th></tr>\n",
       "</thead>\n",
       "<tbody>\n",
       "\t<tr><th scope=row>hg38:chr9:132192625-132193126</th><td>hg38:chr9:132192625-132193126     </td><td>0.9862388</td><td>1.535586e-18</td><td>1.444833e-14</td></tr>\n",
       "\t<tr><th scope=row>rn6:chr18:4130584-4131084:250</th><td>rn6:chr18:4130584-4131084:250     </td><td>0.9344181</td><td>3.768093e-18</td><td>3.542007e-14</td></tr>\n",
       "\t<tr><th scope=row>hg38:chr10:133162494-133162995</th><td>hg38:chr10:133162494-133162995    </td><td>0.9228186</td><td>4.254946e-18</td><td>3.999223e-14</td></tr>\n",
       "\t<tr><th scope=row>rheMac10:chr11:6360240-6360740:250</th><td>rheMac10:chr11:6360240-6360740:250</td><td>0.9652879</td><td>8.425580e-18</td><td>7.909935e-14</td></tr>\n",
       "\t<tr><th scope=row>rn6:chr7:130083139-130083639:250</th><td>rn6:chr7:130083139-130083639:250  </td><td>0.9036107</td><td>1.576267e-17</td><td>1.479484e-13</td></tr>\n",
       "</tbody>\n",
       "</table>\n"
      ],
      "text/latex": [
       "A data.frame: 5 × 4\n",
       "\\begin{tabular}{r|llll}\n",
       "  & id & meanDiff & pvalue & padj\\\\\n",
       "  & <chr> & <dbl> & <dbl> & <dbl>\\\\\n",
       "\\hline\n",
       "\thg38:chr9:132192625-132193126 & hg38:chr9:132192625-132193126      & 0.9862388 & 1.535586e-18 & 1.444833e-14\\\\\n",
       "\trn6:chr18:4130584-4131084:250 & rn6:chr18:4130584-4131084:250      & 0.9344181 & 3.768093e-18 & 3.542007e-14\\\\\n",
       "\thg38:chr10:133162494-133162995 & hg38:chr10:133162494-133162995     & 0.9228186 & 4.254946e-18 & 3.999223e-14\\\\\n",
       "\trheMac10:chr11:6360240-6360740:250 & rheMac10:chr11:6360240-6360740:250 & 0.9652879 & 8.425580e-18 & 7.909935e-14\\\\\n",
       "\trn6:chr7:130083139-130083639:250 & rn6:chr7:130083139-130083639:250   & 0.9036107 & 1.576267e-17 & 1.479484e-13\\\\\n",
       "\\end{tabular}\n"
      ],
      "text/markdown": [
       "\n",
       "A data.frame: 5 × 4\n",
       "\n",
       "| <!--/--> | id &lt;chr&gt; | meanDiff &lt;dbl&gt; | pvalue &lt;dbl&gt; | padj &lt;dbl&gt; |\n",
       "|---|---|---|---|---|\n",
       "| hg38:chr9:132192625-132193126 | hg38:chr9:132192625-132193126      | 0.9862388 | 1.535586e-18 | 1.444833e-14 |\n",
       "| rn6:chr18:4130584-4131084:250 | rn6:chr18:4130584-4131084:250      | 0.9344181 | 3.768093e-18 | 3.542007e-14 |\n",
       "| hg38:chr10:133162494-133162995 | hg38:chr10:133162494-133162995     | 0.9228186 | 4.254946e-18 | 3.999223e-14 |\n",
       "| rheMac10:chr11:6360240-6360740:250 | rheMac10:chr11:6360240-6360740:250 | 0.9652879 | 8.425580e-18 | 7.909935e-14 |\n",
       "| rn6:chr7:130083139-130083639:250 | rn6:chr7:130083139-130083639:250   | 0.9036107 | 1.576267e-17 | 1.479484e-13 |\n",
       "\n"
      ],
      "text/plain": [
       "                                   id                                 meanDiff \n",
       "hg38:chr9:132192625-132193126      hg38:chr9:132192625-132193126      0.9862388\n",
       "rn6:chr18:4130584-4131084:250      rn6:chr18:4130584-4131084:250      0.9344181\n",
       "hg38:chr10:133162494-133162995     hg38:chr10:133162494-133162995     0.9228186\n",
       "rheMac10:chr11:6360240-6360740:250 rheMac10:chr11:6360240-6360740:250 0.9652879\n",
       "rn6:chr7:130083139-130083639:250   rn6:chr7:130083139-130083639:250   0.9036107\n",
       "                                   pvalue       padj        \n",
       "hg38:chr9:132192625-132193126      1.535586e-18 1.444833e-14\n",
       "rn6:chr18:4130584-4131084:250      3.768093e-18 3.542007e-14\n",
       "hg38:chr10:133162494-133162995     4.254946e-18 3.999223e-14\n",
       "rheMac10:chr11:6360240-6360740:250 8.425580e-18 7.909935e-14\n",
       "rn6:chr7:130083139-130083639:250   1.576267e-17 1.479484e-13"
      ]
     },
     "metadata": {},
     "output_type": "display_data"
    }
   ],
   "source": [
    "#t-tests now\n",
    "tResPos <- diffResultsSortF %>% filter(meanDiff > 0)\n",
    "tResNeg <- diffResultsSortF %>% filter(meanDiff < 0)\n",
    "tResNeg[1:5,]\n",
    "tResPos[1:5,]"
   ]
  },
  {
   "cell_type": "code",
   "execution_count": 18,
   "id": "2982505f-6eef-46ba-a579-ece3af7cabc0",
   "metadata": {},
   "outputs": [
    {
     "data": {
      "image/png": "[encoded data removed]",
      "text/plain": [
       "plot without title"
      ]
     },
     "metadata": {
      "image/png": {
       "height": 420,
       "width": 420
      }
     },
     "output_type": "display_data"
    },
    {
     "data": {
      "image/png": "[encoded data removed]",
      "text/plain": [
       "plot without title"
      ]
     },
     "metadata": {
      "image/png": {
       "height": 420,
       "width": 420
      }
     },
     "output_type": "display_data"
    },
    {
     "data": {
      "image/png": "[encoded data removed]",
      "text/plain": [
       "plot without title"
      ]
     },
     "metadata": {
      "image/png": {
       "height": 420,
       "width": 420
      }
     },
     "output_type": "display_data"
    },
    {
     "data": {
      "image/png": "[encoded data removed]",
      "text/plain": [
       "plot without title"
      ]
     },
     "metadata": {
      "image/png": {
       "height": 420,
       "width": 420
      }
     },
     "output_type": "display_data"
    }
   ],
   "source": [
    "#barplots\n",
    "combined_hyp_peaks <- read.csv(\"~/geb/data/hyps_opc_peaks_clean.csv\")\n",
    "ggplot(data = combined_hyp_peaks, aes(x = as.factor(hypselodont),\n",
    "                                      y = as.numeric(rhe_mac10_chr1_207215838_207216338_250))) +\n",
    "  geom_boxplot() +\n",
    "  labs(x = \"Hypselodonty Status\",\n",
    "       y = \"Peak Value of Interest\",\n",
    "       title = \"rhe_mac10_chr1_207215838_207216338_250\")\n",
    "\n",
    "ggplot(data = combined_hyp_peaks, aes(x = as.factor(hypselodont),\n",
    "                                      y = as.numeric(mm10_chr4_111545923_111546424))) +\n",
    "  geom_boxplot() +\n",
    "  labs(x = \"Hypselodonty Status\",\n",
    "       y = \"Peak Value of Interest\",\n",
    "       title = \"mm10_chr4_111545923_111546424\")\n",
    "\n",
    "ggplot(data = combined_hyp_peaks, aes(x = as.factor(hypselodont),\n",
    "                                      y = as.numeric(hg38_chr9_132192625_132193126))) +\n",
    "  geom_boxplot() +\n",
    "  labs(x = \"Hypselodonty Status\",\n",
    "       y = \"Peak Value of Interest\",\n",
    "       title = \"hg38_chr9_132192625_132193126\")\n",
    "\n",
    "ggplot(data = combined_hyp_peaks, aes(x = as.factor(hypselodont),\n",
    "                                      y = as.numeric(rhe_mac10_chr14_94018099_94018599_250))) +\n",
    "  geom_boxplot() +\n",
    "  labs(x = \"Hypselodonty Status\",\n",
    "       y = \"Peak Value of Interest\",\n",
    "       title = \"rheMac10_chr14_94018099_94018599_250\")\n",
    "\n",
    "#get the top 200 entries of phyloResPos and Neg\n",
    "phyloResPosTop <- phyloResPos[1:200,]\n",
    "phyloResNegTop <- phyloResNeg[1:200,]\n",
    "\n",
    "#prepare to write to a bed file\n",
    "#editing of the bed file into proper format is done in a separate Jupyter notebook with python\n",
    "write.table(phyloResPos$id, file=\"phyloResPosTop.bed\", sep=\"\\t\", row.names=FALSE, col.names=FALSE)\n",
    "write.table(phyloResNeg$id, file=\"phyloResNegTop.bed\", sep=\"\\t\", row.names=FALSE, col.names=FALSE)\n",
    "write.table(phyloRes[1:10000,]$id, file=\"phyloResAll.bed\", sep=\"\\t\", row.names=FALSE, col.names=FALSE)"
   ]
  },
  {
   "cell_type": "code",
   "execution_count": null,
   "id": "8d0701a0-c293-4636-a9df-fe14099534d1",
   "metadata": {},
   "outputs": [],
   "source": [
    "#code for cleaning BED files\n",
    "#USE PYTHON KERNEL FOR THIS\n",
    "import sys\n",
    "import re\n",
    "\n",
    "filename = \"phyloResNegTop.bed\"\n",
    "with open(filename, \"r\") as f:\n",
    "    lines = f.readlines()\n",
    "\n",
    "new_lines = []\n",
    "for l in lines:\n",
    "    l = l.strip()\n",
    "    #remove quotes\n",
    "    l = re.sub(r'\\\"', \"\", l)\n",
    "    print(l)\n",
    "\n",
    "    l = l.split(\"_\")\n",
    "\n",
    "    #ALSO SUBSET: IS THE FIRST ENTRY hg38?\n",
    "    #if not, skip\n",
    "    if l[0] != \"hg38\":\n",
    "        continue\n",
    "    if \"250\" in l:\n",
    "        l=l[-4:-1]\n",
    "            #if we see x, we turn it into chrx\n",
    "        if l[0] == \"x\":\n",
    "            l[0] = \"chrX\"\n",
    "        #if we see y, we turn it into chry\n",
    "        if l[0] == \"y\":\n",
    "            l[0] = \"chrY\"\n",
    "        new_lines.append(\"\\t\".join(l))\n",
    "    else:\n",
    "        l=l[-3:]\n",
    "            #if we see x, we turn it into chrx\n",
    "        if l[0] == \"x\":\n",
    "            l[0] = \"chrX\"\n",
    "        #if we see y, we turn it into chry\n",
    "        if l[0] == \"y\":\n",
    "            l[0] = \"chrY\"\n",
    "        new_lines.append(\"\\t\".join(l))\n",
    "\n",
    "with open(filename, \"w\") as f:\n",
    "    #write only first 200 lines\n",
    "    f.write(\"\\n\".join(new_lines[:200]))\n",
    "    #f.write(\"\\n\".join(new_lines))"
   ]
  }
 ],
 "metadata": {
  "kernelspec": {
   "display_name": "R",
   "language": "R",
   "name": "ir"
  },
  "language_info": {
   "codemirror_mode": "r",
   "file_extension": ".r",
   "mimetype": "text/x-r-source",
   "name": "R",
   "pygments_lexer": "r",
   "version": "4.4.1"
  }
 },
 "nbformat": 4,
 "nbformat_minor": 5
}

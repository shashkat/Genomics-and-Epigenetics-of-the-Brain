{
 "cells": [
  {
   "cell_type": "code",
   "execution_count": 32,
   "id": "a6359cdc-eace-42ad-8cc1-aa2fe886f459",
   "metadata": {},
   "outputs": [
    {
     "ename": "ERROR",
     "evalue": "Error in library(dplyr): there is no package called ‘dplyr’\n",
     "output_type": "error",
     "traceback": [
      "Error in library(dplyr): there is no package called ‘dplyr’\nTraceback:\n",
      "1. library(dplyr)"
     ]
    }
   ],
   "source": [
    "library(gplots);\n",
    "library(ggplot2);\n",
    "#library(dplyr) #ONLY USABLE ON KERNEL THAT HAS NO PHYLOLM"
   ]
  },
  {
   "cell_type": "markdown",
   "id": "4ee71c3a-ddd9-4bf5-bc38-37ffe888e37f",
   "metadata": {
    "jp-MarkdownHeadingCollapsed": true
   },
   "source": [
    "### BELOW: load raw data and take sample"
   ]
  },
  {
   "cell_type": "code",
   "execution_count": 6,
   "id": "79315302-09f6-46ab-a90c-cfaa30e1159d",
   "metadata": {},
   "outputs": [
    {
     "data": {
      "text/html": [
       "<table class=\"dataframe\">\n",
       "<caption>A matrix: 5 × 5 of type chr</caption>\n",
       "<thead>\n",
       "\t<tr><th scope=col>hg38.chr1.827355.827856</th><th scope=col>X.1.0</th><th scope=col>X.1.0.1</th><th scope=col>X.1.0.2</th><th scope=col>X.1.0.3</th></tr>\n",
       "</thead>\n",
       "<tbody>\n",
       "\t<tr><td>hg38:chr1:1024878-1025379  </td><td> 0.514973</td><td> 0.540576</td><td> 0.725553</td><td> 0.7387150</td></tr>\n",
       "\t<tr><td>hg38:chr1:2547946-2548447  </td><td> 0.708904</td><td>-1.000000</td><td> 0.478504</td><td> 0.7080290</td></tr>\n",
       "\t<tr><td>hg38:chr1:37554079-37554580</td><td> 0.682599</td><td>-1.000000</td><td> 0.656187</td><td> 0.6956410</td></tr>\n",
       "\t<tr><td>hg38:chr4:77819335-77819836</td><td>-1.000000</td><td> 0.476115</td><td> 0.578943</td><td> 0.5108150</td></tr>\n",
       "\t<tr><td>hg38:chr4:77820049-77820550</td><td> 0.534672</td><td> 0.801998</td><td> 0.724545</td><td> 0.6905950</td></tr>\n",
       "</tbody>\n",
       "</table>\n"
      ],
      "text/latex": [
       "A matrix: 5 × 5 of type chr\n",
       "\\begin{tabular}{lllll}\n",
       " hg38.chr1.827355.827856 & X.1.0 & X.1.0.1 & X.1.0.2 & X.1.0.3\\\\\n",
       "\\hline\n",
       "\t hg38:chr1:1024878-1025379   &  0.514973 &  0.540576 &  0.725553 &  0.7387150\\\\\n",
       "\t hg38:chr1:2547946-2548447   &  0.708904 & -1.000000 &  0.478504 &  0.7080290\\\\\n",
       "\t hg38:chr1:37554079-37554580 &  0.682599 & -1.000000 &  0.656187 &  0.6956410\\\\\n",
       "\t hg38:chr4:77819335-77819836 & -1.000000 &  0.476115 &  0.578943 &  0.5108150\\\\\n",
       "\t hg38:chr4:77820049-77820550 &  0.534672 &  0.801998 &  0.724545 &  0.6905950\\\\\n",
       "\\end{tabular}\n"
      ],
      "text/markdown": [
       "\n",
       "A matrix: 5 × 5 of type chr\n",
       "\n",
       "| hg38.chr1.827355.827856 | X.1.0 | X.1.0.1 | X.1.0.2 | X.1.0.3 |\n",
       "|---|---|---|---|---|\n",
       "| hg38:chr1:1024878-1025379   |  0.514973 |  0.540576 |  0.725553 |  0.7387150 |\n",
       "| hg38:chr1:2547946-2548447   |  0.708904 | -1.000000 |  0.478504 |  0.7080290 |\n",
       "| hg38:chr1:37554079-37554580 |  0.682599 | -1.000000 |  0.656187 |  0.6956410 |\n",
       "| hg38:chr4:77819335-77819836 | -1.000000 |  0.476115 |  0.578943 |  0.5108150 |\n",
       "| hg38:chr4:77820049-77820550 |  0.534672 |  0.801998 |  0.724545 |  0.6905950 |\n",
       "\n"
      ],
      "text/plain": [
       "     hg38.chr1.827355.827856     X.1.0     X.1.0.1   X.1.0.2   X.1.0.3   \n",
       "[1,] hg38:chr1:1024878-1025379    0.514973  0.540576  0.725553  0.7387150\n",
       "[2,] hg38:chr1:2547946-2548447    0.708904 -1.000000  0.478504  0.7080290\n",
       "[3,] hg38:chr1:37554079-37554580  0.682599 -1.000000  0.656187  0.6956410\n",
       "[4,] hg38:chr4:77819335-77819836 -1.000000  0.476115  0.578943  0.5108150\n",
       "[5,] hg38:chr4:77820049-77820550  0.534672  0.801998  0.724545  0.6905950"
      ]
     },
     "metadata": {},
     "output_type": "display_data"
    },
    {
     "data": {
      "text/html": [
       "<style>\n",
       ".list-inline {list-style: none; margin:0; padding: 0}\n",
       ".list-inline>li {display: inline-block}\n",
       ".list-inline>li:not(:last-child)::after {content: \"\\00b7\"; padding: 0 .5ex}\n",
       "</style>\n",
       "<ol class=list-inline><li>183244</li><li>242</li></ol>\n"
      ],
      "text/latex": [
       "\\begin{enumerate*}\n",
       "\\item 183244\n",
       "\\item 242\n",
       "\\end{enumerate*}\n"
      ],
      "text/markdown": [
       "1. 183244\n",
       "2. 242\n",
       "\n",
       "\n"
      ],
      "text/plain": [
       "[1] 183244    242"
      ]
     },
     "metadata": {},
     "output_type": "display_data"
    }
   ],
   "source": [
    "opc_dir <- \"~/geb/data/240_predictions_MatrixStacked.tsv\"\n",
    "#olig_dir <- \"/ocean/projects/bio240054p/shared/project/240_predictions_matrix_celltypes/Oligo/\"\n",
    "opc_peaks <- as.matrix(read.csv(file = opc_dir, sep=\"\\t\", stringsAsFactors=F, header=T))\n",
    "opc_peaks[1:5,1:5]\n",
    "dim(opc_peaks)"
   ]
  },
  {
   "cell_type": "code",
   "execution_count": 10,
   "id": "9f25f66d-bdd6-4b3b-bd90-5312cd7401b9",
   "metadata": {},
   "outputs": [
    {
     "data": {
      "text/html": [
       "<table class=\"dataframe\">\n",
       "<caption>A matrix: 5 × 5 of type chr</caption>\n",
       "<thead>\n",
       "\t<tr><th scope=col>hg38.chr1.827355.827856</th><th scope=col>X.1.0</th><th scope=col>X.1.0.1</th><th scope=col>X.1.0.2</th><th scope=col>X.1.0.3</th></tr>\n",
       "</thead>\n",
       "<tbody>\n",
       "\t<tr><td>rheMac10:chr3:155475508-155476008:250</td><td>-1.000000</td><td> 0.333577</td><td> 0.597921</td><td> 0.3376470</td></tr>\n",
       "\t<tr><td>rheMac10:chr18:58133437-58133937:250 </td><td> 0.504291</td><td>-1.000000</td><td> 0.789442</td><td> 0.6324570</td></tr>\n",
       "\t<tr><td>mm10:chr2:60962973-60963474          </td><td>-1.000000</td><td> 0.496151</td><td> 0.744965</td><td> 0.4033800</td></tr>\n",
       "\t<tr><td>rn6:chr3:11382774-11383274:250       </td><td> 0.413678</td><td>-1.000000</td><td>-1.000000</td><td> 0.7004590</td></tr>\n",
       "\t<tr><td>rheMac10:chr10:10892176-10892676:250 </td><td> 0.544576</td><td>-1.000000</td><td> 0.721769</td><td> 0.5444200</td></tr>\n",
       "</tbody>\n",
       "</table>\n"
      ],
      "text/latex": [
       "A matrix: 5 × 5 of type chr\n",
       "\\begin{tabular}{lllll}\n",
       " hg38.chr1.827355.827856 & X.1.0 & X.1.0.1 & X.1.0.2 & X.1.0.3\\\\\n",
       "\\hline\n",
       "\t rheMac10:chr3:155475508-155476008:250 & -1.000000 &  0.333577 &  0.597921 &  0.3376470\\\\\n",
       "\t rheMac10:chr18:58133437-58133937:250  &  0.504291 & -1.000000 &  0.789442 &  0.6324570\\\\\n",
       "\t mm10:chr2:60962973-60963474           & -1.000000 &  0.496151 &  0.744965 &  0.4033800\\\\\n",
       "\t rn6:chr3:11382774-11383274:250        &  0.413678 & -1.000000 & -1.000000 &  0.7004590\\\\\n",
       "\t rheMac10:chr10:10892176-10892676:250  &  0.544576 & -1.000000 &  0.721769 &  0.5444200\\\\\n",
       "\\end{tabular}\n"
      ],
      "text/markdown": [
       "\n",
       "A matrix: 5 × 5 of type chr\n",
       "\n",
       "| hg38.chr1.827355.827856 | X.1.0 | X.1.0.1 | X.1.0.2 | X.1.0.3 |\n",
       "|---|---|---|---|---|\n",
       "| rheMac10:chr3:155475508-155476008:250 | -1.000000 |  0.333577 |  0.597921 |  0.3376470 |\n",
       "| rheMac10:chr18:58133437-58133937:250  |  0.504291 | -1.000000 |  0.789442 |  0.6324570 |\n",
       "| mm10:chr2:60962973-60963474           | -1.000000 |  0.496151 |  0.744965 |  0.4033800 |\n",
       "| rn6:chr3:11382774-11383274:250        |  0.413678 | -1.000000 | -1.000000 |  0.7004590 |\n",
       "| rheMac10:chr10:10892176-10892676:250  |  0.544576 | -1.000000 |  0.721769 |  0.5444200 |\n",
       "\n"
      ],
      "text/plain": [
       "     hg38.chr1.827355.827856               X.1.0     X.1.0.1   X.1.0.2  \n",
       "[1,] rheMac10:chr3:155475508-155476008:250 -1.000000  0.333577  0.597921\n",
       "[2,] rheMac10:chr18:58133437-58133937:250   0.504291 -1.000000  0.789442\n",
       "[3,] mm10:chr2:60962973-60963474           -1.000000  0.496151  0.744965\n",
       "[4,] rn6:chr3:11382774-11383274:250         0.413678 -1.000000 -1.000000\n",
       "[5,] rheMac10:chr10:10892176-10892676:250   0.544576 -1.000000  0.721769\n",
       "     X.1.0.3   \n",
       "[1,]  0.3376470\n",
       "[2,]  0.6324570\n",
       "[3,]  0.4033800\n",
       "[4,]  0.7004590\n",
       "[5,]  0.5444200"
      ]
     },
     "metadata": {},
     "output_type": "display_data"
    },
    {
     "data": {
      "text/html": [
       "<style>\n",
       ".list-inline {list-style: none; margin:0; padding: 0}\n",
       ".list-inline>li {display: inline-block}\n",
       ".list-inline>li:not(:last-child)::after {content: \"\\00b7\"; padding: 0 .5ex}\n",
       "</style>\n",
       "<ol class=list-inline><li>10000</li><li>242</li></ol>\n"
      ],
      "text/latex": [
       "\\begin{enumerate*}\n",
       "\\item 10000\n",
       "\\item 242\n",
       "\\end{enumerate*}\n"
      ],
      "text/markdown": [
       "1. 10000\n",
       "2. 242\n",
       "\n",
       "\n"
      ],
      "text/plain": [
       "[1] 10000   242"
      ]
     },
     "metadata": {},
     "output_type": "display_data"
    }
   ],
   "source": [
    "#take a random sample of 10000\n",
    "opc_peaks_randsamp <- opc_peaks[sample(nrow(opc_peaks), 10000),]\n",
    "opc_peaks_randsamp[1:5,1:5]\n",
    "dim(opc_peaks_randsamp)\n",
    "\n",
    "#save this sample for later to make loading easier\n",
    "write.csv(opc_peaks_randsamp, file=\"~/geb/data/opc_randsamp.csv\")"
   ]
  },
  {
   "cell_type": "markdown",
   "id": "bad41043-2ab5-4079-9980-79961c6c0ba1",
   "metadata": {},
   "source": [
    "### DATA PROCESSING: USES DPLYR"
   ]
  },
  {
   "cell_type": "code",
   "execution_count": 2,
   "id": "faa716e5-f93b-46f2-9538-bf89268e21c1",
   "metadata": {},
   "outputs": [],
   "source": [
    "#load random sample back in for future runs\n",
    "opc_peaks_randsamp <- as.matrix(read.csv(\"~/geb/data/opc_randsamp.csv\"))"
   ]
  },
  {
   "cell_type": "code",
   "execution_count": 3,
   "id": "a9dd869c-bbeb-41ce-bc3f-724e5db064d5",
   "metadata": {},
   "outputs": [
    {
     "data": {
      "text/html": [
       "<style>\n",
       ".list-inline {list-style: none; margin:0; padding: 0}\n",
       ".list-inline>li {display: inline-block}\n",
       ".list-inline>li:not(:last-child)::after {content: \"\\00b7\"; padding: 0 .5ex}\n",
       "</style>\n",
       "<ol class=list-inline><li>''</li><li>'Region'</li><li>'Acinonyx_jubatus'</li><li>'Acomys_cahirinus'</li><li>'Ailuropoda_melanoleuca'</li></ol>\n"
      ],
      "text/latex": [
       "\\begin{enumerate*}\n",
       "\\item ''\n",
       "\\item 'Region'\n",
       "\\item 'Acinonyx\\_jubatus'\n",
       "\\item 'Acomys\\_cahirinus'\n",
       "\\item 'Ailuropoda\\_melanoleuca'\n",
       "\\end{enumerate*}\n"
      ],
      "text/markdown": [
       "1. ''\n",
       "2. 'Region'\n",
       "3. 'Acinonyx_jubatus'\n",
       "4. 'Acomys_cahirinus'\n",
       "5. 'Ailuropoda_melanoleuca'\n",
       "\n",
       "\n"
      ],
      "text/plain": [
       "[1] \"\"                       \"Region\"                 \"Acinonyx_jubatus\"      \n",
       "[4] \"Acomys_cahirinus\"       \"Ailuropoda_melanoleuca\""
      ]
     },
     "metadata": {},
     "output_type": "display_data"
    },
    {
     "data": {
      "text/html": [
       "<table class=\"dataframe\">\n",
       "<caption>A matrix: 5 × 5 of type chr</caption>\n",
       "<thead>\n",
       "\t<tr><th scope=col></th><th scope=col>Region</th><th scope=col>Acinonyx_jubatus</th><th scope=col>Acomys_cahirinus</th><th scope=col>Ailuropoda_melanoleuca</th></tr>\n",
       "</thead>\n",
       "<tbody>\n",
       "\t<tr><td>    1</td><td>rheMac10:chr3:155475508-155476008:250</td><td>-1.000000</td><td> 0.333577</td><td> 0.597921</td></tr>\n",
       "\t<tr><td>    2</td><td>rheMac10:chr18:58133437-58133937:250 </td><td> 0.504291</td><td>-1.000000</td><td> 0.789442</td></tr>\n",
       "\t<tr><td>    3</td><td>mm10:chr2:60962973-60963474          </td><td>-1.000000</td><td> 0.496151</td><td> 0.744965</td></tr>\n",
       "\t<tr><td>    4</td><td>rn6:chr3:11382774-11383274:250       </td><td> 0.413678</td><td>-1.000000</td><td>-1.000000</td></tr>\n",
       "\t<tr><td>    5</td><td>rheMac10:chr10:10892176-10892676:250 </td><td> 0.544576</td><td>-1.000000</td><td> 0.721769</td></tr>\n",
       "</tbody>\n",
       "</table>\n"
      ],
      "text/latex": [
       "A matrix: 5 × 5 of type chr\n",
       "\\begin{tabular}{lllll}\n",
       "  & Region & Acinonyx\\_jubatus & Acomys\\_cahirinus & Ailuropoda\\_melanoleuca\\\\\n",
       "\\hline\n",
       "\t     1 & rheMac10:chr3:155475508-155476008:250 & -1.000000 &  0.333577 &  0.597921\\\\\n",
       "\t     2 & rheMac10:chr18:58133437-58133937:250  &  0.504291 & -1.000000 &  0.789442\\\\\n",
       "\t     3 & mm10:chr2:60962973-60963474           & -1.000000 &  0.496151 &  0.744965\\\\\n",
       "\t     4 & rn6:chr3:11382774-11383274:250        &  0.413678 & -1.000000 & -1.000000\\\\\n",
       "\t     5 & rheMac10:chr10:10892176-10892676:250  &  0.544576 & -1.000000 &  0.721769\\\\\n",
       "\\end{tabular}\n"
      ],
      "text/markdown": [
       "\n",
       "A matrix: 5 × 5 of type chr\n",
       "\n",
       "| <!----> | Region | Acinonyx_jubatus | Acomys_cahirinus | Ailuropoda_melanoleuca |\n",
       "|---|---|---|---|---|\n",
       "|     1 | rheMac10:chr3:155475508-155476008:250 | -1.000000 |  0.333577 |  0.597921 |\n",
       "|     2 | rheMac10:chr18:58133437-58133937:250  |  0.504291 | -1.000000 |  0.789442 |\n",
       "|     3 | mm10:chr2:60962973-60963474           | -1.000000 |  0.496151 |  0.744965 |\n",
       "|     4 | rn6:chr3:11382774-11383274:250        |  0.413678 | -1.000000 | -1.000000 |\n",
       "|     5 | rheMac10:chr10:10892176-10892676:250  |  0.544576 | -1.000000 |  0.721769 |\n",
       "\n"
      ],
      "text/plain": [
       "           Region                                Acinonyx_jubatus\n",
       "[1,]     1 rheMac10:chr3:155475508-155476008:250 -1.000000       \n",
       "[2,]     2 rheMac10:chr18:58133437-58133937:250   0.504291       \n",
       "[3,]     3 mm10:chr2:60962973-60963474           -1.000000       \n",
       "[4,]     4 rn6:chr3:11382774-11383274:250         0.413678       \n",
       "[5,]     5 rheMac10:chr10:10892176-10892676:250   0.544576       \n",
       "     Acomys_cahirinus Ailuropoda_melanoleuca\n",
       "[1,]  0.333577         0.597921             \n",
       "[2,] -1.000000         0.789442             \n",
       "[3,]  0.496151         0.744965             \n",
       "[4,] -1.000000        -1.000000             \n",
       "[5,] -1.000000         0.721769             "
      ]
     },
     "metadata": {},
     "output_type": "display_data"
    }
   ],
   "source": [
    "#split by species of interest: hypselodonts vs non-hypselodonts\n",
    "#first rename the columns to the species given in the text file\n",
    "names <- readLines(con = \"~/geb/data/240_predictions_NamesList.txt\")\n",
    "names <- c(\"\", \"Region\", names)\n",
    "names[1:5]\n",
    "\n",
    "colnames(opc_peaks_randsamp) <- names\n",
    "opc_peaks_randsamp[1:5, 1:5]"
   ]
  },
  {
   "cell_type": "code",
   "execution_count": 4,
   "id": "043d1bc0-6084-4f92-8a5c-8050d5e2bab5",
   "metadata": {},
   "outputs": [],
   "source": [
    "#first get list of hypselodonts\n",
    "#this dataframe was made using the phenotype information data\n",
    "hyps_data <- read.csv(\"~/geb/data/hypselodonts_known.csv\")\n",
    "\n",
    "library(dplyr)\n",
    "hyps <- hyps_data %>% filter(Hypselodonty == 1)\n",
    "nonhyps <- hyps_data %>% filter(Hypselodonty == 0)\n",
    "\n",
    "hyps_names <- hyps$Name\n",
    "nonhyps_names <- nonhyps$Name"
   ]
  },
  {
   "cell_type": "code",
   "execution_count": 5,
   "id": "c67a40cb-f2d1-45a7-9bb8-497abbf95c5d",
   "metadata": {},
   "outputs": [
    {
     "data": {
      "text/html": [
       "<style>\n",
       ".list-inline {list-style: none; margin:0; padding: 0}\n",
       ".list-inline>li {display: inline-block}\n",
       ".list-inline>li:not(:last-child)::after {content: \"\\00b7\"; padding: 0 .5ex}\n",
       "</style>\n",
       "<ol class=list-inline><li>'Acomys_cahirinus'</li><li>'Allactaga_bullata'</li><li>'Aplodontia_rufa'</li><li>'Castor_canadensis'</li><li>'Catagonus_wagneri'</li><li>'Cavia_aperea'</li><li>'Cavia_porcellus'</li><li>'Cavia_tschudii'</li><li>'Chinchilla_lanigera'</li><li>'Cricetomys_gambianus'</li><li>'Cricetulus_griseus'</li><li>'Ctenodactylus_gundi'</li><li>'Ctenomys_sociabilis'</li><li>'Dasyprocta_punctata'</li><li>'Daubentonia_madagascariensis'</li><li>'Dinomys_branickii'</li><li>'Dipodomys_ordii'</li><li>'Dipodomys_stephensi'</li><li>'Dolichotis_patagonum'</li><li>'Elaphurus_davidianus'</li><li>'Ellobius_lutescens'</li><li>'Ellobius_talpinus'</li><li>'Fukomys_damarensis'</li><li>'Glis_glis'</li><li>'Graphiurus_murinus'</li><li>'Heterocephalus_glaber'</li><li>'Hydrochoerus_hydrochaeris'</li><li>'Hystrix_cristata'</li><li>'Ictidomys_tridecemlineatus'</li><li>'Jaculus_jaculus'</li><li>'Lepus_americanus'</li><li>'Marmota_marmota'</li><li>'Meriones_unguiculatus'</li><li>'Mesocricetus_auratus'</li><li>'Mesoplodon_bidens'</li><li>'Microtus_ochrogaster'</li><li>'Monodon_monoceros'</li><li>'Moschus_moschiferus'</li><li>'Mus_caroli'</li><li>'Mus_musculus'</li><li>'Mus_pahari'</li><li>'Mus_spretus'</li><li>'Muscardinus_avellanarius'</li><li>'Myocastor_coypus'</li><li>'Nannospalax_galili'</li><li>'Ochotona_princeps'</li><li>'Octodon_degus'</li><li>'Ondatra_zibethicus'</li><li>'Onychomys_torridus'</li><li>'Oryctolagus_cuniculus'</li><li>'Perognathus_longimembris'</li><li>'Peromyscus_maniculatus'</li><li>'Petromus_typicus'</li><li>'Psammomys_obesus'</li><li>'Rattus_norvegicus'</li><li>'Sigmodon_hispidus'</li><li>'Spermophilus_dauricus'</li><li>'Sus_scrofa'</li><li>'Thryonomys_swinderianus'</li><li>'Tragulus_javanicus'</li><li>'Xerus_inauris'</li><li>'Zapus_hudsonius'</li><li>'Ziphius_cavirostris'</li></ol>\n"
      ],
      "text/latex": [
       "\\begin{enumerate*}\n",
       "\\item 'Acomys\\_cahirinus'\n",
       "\\item 'Allactaga\\_bullata'\n",
       "\\item 'Aplodontia\\_rufa'\n",
       "\\item 'Castor\\_canadensis'\n",
       "\\item 'Catagonus\\_wagneri'\n",
       "\\item 'Cavia\\_aperea'\n",
       "\\item 'Cavia\\_porcellus'\n",
       "\\item 'Cavia\\_tschudii'\n",
       "\\item 'Chinchilla\\_lanigera'\n",
       "\\item 'Cricetomys\\_gambianus'\n",
       "\\item 'Cricetulus\\_griseus'\n",
       "\\item 'Ctenodactylus\\_gundi'\n",
       "\\item 'Ctenomys\\_sociabilis'\n",
       "\\item 'Dasyprocta\\_punctata'\n",
       "\\item 'Daubentonia\\_madagascariensis'\n",
       "\\item 'Dinomys\\_branickii'\n",
       "\\item 'Dipodomys\\_ordii'\n",
       "\\item 'Dipodomys\\_stephensi'\n",
       "\\item 'Dolichotis\\_patagonum'\n",
       "\\item 'Elaphurus\\_davidianus'\n",
       "\\item 'Ellobius\\_lutescens'\n",
       "\\item 'Ellobius\\_talpinus'\n",
       "\\item 'Fukomys\\_damarensis'\n",
       "\\item 'Glis\\_glis'\n",
       "\\item 'Graphiurus\\_murinus'\n",
       "\\item 'Heterocephalus\\_glaber'\n",
       "\\item 'Hydrochoerus\\_hydrochaeris'\n",
       "\\item 'Hystrix\\_cristata'\n",
       "\\item 'Ictidomys\\_tridecemlineatus'\n",
       "\\item 'Jaculus\\_jaculus'\n",
       "\\item 'Lepus\\_americanus'\n",
       "\\item 'Marmota\\_marmota'\n",
       "\\item 'Meriones\\_unguiculatus'\n",
       "\\item 'Mesocricetus\\_auratus'\n",
       "\\item 'Mesoplodon\\_bidens'\n",
       "\\item 'Microtus\\_ochrogaster'\n",
       "\\item 'Monodon\\_monoceros'\n",
       "\\item 'Moschus\\_moschiferus'\n",
       "\\item 'Mus\\_caroli'\n",
       "\\item 'Mus\\_musculus'\n",
       "\\item 'Mus\\_pahari'\n",
       "\\item 'Mus\\_spretus'\n",
       "\\item 'Muscardinus\\_avellanarius'\n",
       "\\item 'Myocastor\\_coypus'\n",
       "\\item 'Nannospalax\\_galili'\n",
       "\\item 'Ochotona\\_princeps'\n",
       "\\item 'Octodon\\_degus'\n",
       "\\item 'Ondatra\\_zibethicus'\n",
       "\\item 'Onychomys\\_torridus'\n",
       "\\item 'Oryctolagus\\_cuniculus'\n",
       "\\item 'Perognathus\\_longimembris'\n",
       "\\item 'Peromyscus\\_maniculatus'\n",
       "\\item 'Petromus\\_typicus'\n",
       "\\item 'Psammomys\\_obesus'\n",
       "\\item 'Rattus\\_norvegicus'\n",
       "\\item 'Sigmodon\\_hispidus'\n",
       "\\item 'Spermophilus\\_dauricus'\n",
       "\\item 'Sus\\_scrofa'\n",
       "\\item 'Thryonomys\\_swinderianus'\n",
       "\\item 'Tragulus\\_javanicus'\n",
       "\\item 'Xerus\\_inauris'\n",
       "\\item 'Zapus\\_hudsonius'\n",
       "\\item 'Ziphius\\_cavirostris'\n",
       "\\end{enumerate*}\n"
      ],
      "text/markdown": [
       "1. 'Acomys_cahirinus'\n",
       "2. 'Allactaga_bullata'\n",
       "3. 'Aplodontia_rufa'\n",
       "4. 'Castor_canadensis'\n",
       "5. 'Catagonus_wagneri'\n",
       "6. 'Cavia_aperea'\n",
       "7. 'Cavia_porcellus'\n",
       "8. 'Cavia_tschudii'\n",
       "9. 'Chinchilla_lanigera'\n",
       "10. 'Cricetomys_gambianus'\n",
       "11. 'Cricetulus_griseus'\n",
       "12. 'Ctenodactylus_gundi'\n",
       "13. 'Ctenomys_sociabilis'\n",
       "14. 'Dasyprocta_punctata'\n",
       "15. 'Daubentonia_madagascariensis'\n",
       "16. 'Dinomys_branickii'\n",
       "17. 'Dipodomys_ordii'\n",
       "18. 'Dipodomys_stephensi'\n",
       "19. 'Dolichotis_patagonum'\n",
       "20. 'Elaphurus_davidianus'\n",
       "21. 'Ellobius_lutescens'\n",
       "22. 'Ellobius_talpinus'\n",
       "23. 'Fukomys_damarensis'\n",
       "24. 'Glis_glis'\n",
       "25. 'Graphiurus_murinus'\n",
       "26. 'Heterocephalus_glaber'\n",
       "27. 'Hydrochoerus_hydrochaeris'\n",
       "28. 'Hystrix_cristata'\n",
       "29. 'Ictidomys_tridecemlineatus'\n",
       "30. 'Jaculus_jaculus'\n",
       "31. 'Lepus_americanus'\n",
       "32. 'Marmota_marmota'\n",
       "33. 'Meriones_unguiculatus'\n",
       "34. 'Mesocricetus_auratus'\n",
       "35. 'Mesoplodon_bidens'\n",
       "36. 'Microtus_ochrogaster'\n",
       "37. 'Monodon_monoceros'\n",
       "38. 'Moschus_moschiferus'\n",
       "39. 'Mus_caroli'\n",
       "40. 'Mus_musculus'\n",
       "41. 'Mus_pahari'\n",
       "42. 'Mus_spretus'\n",
       "43. 'Muscardinus_avellanarius'\n",
       "44. 'Myocastor_coypus'\n",
       "45. 'Nannospalax_galili'\n",
       "46. 'Ochotona_princeps'\n",
       "47. 'Octodon_degus'\n",
       "48. 'Ondatra_zibethicus'\n",
       "49. 'Onychomys_torridus'\n",
       "50. 'Oryctolagus_cuniculus'\n",
       "51. 'Perognathus_longimembris'\n",
       "52. 'Peromyscus_maniculatus'\n",
       "53. 'Petromus_typicus'\n",
       "54. 'Psammomys_obesus'\n",
       "55. 'Rattus_norvegicus'\n",
       "56. 'Sigmodon_hispidus'\n",
       "57. 'Spermophilus_dauricus'\n",
       "58. 'Sus_scrofa'\n",
       "59. 'Thryonomys_swinderianus'\n",
       "60. 'Tragulus_javanicus'\n",
       "61. 'Xerus_inauris'\n",
       "62. 'Zapus_hudsonius'\n",
       "63. 'Ziphius_cavirostris'\n",
       "\n",
       "\n"
      ],
      "text/plain": [
       " [1] \"Acomys_cahirinus\"             \"Allactaga_bullata\"           \n",
       " [3] \"Aplodontia_rufa\"              \"Castor_canadensis\"           \n",
       " [5] \"Catagonus_wagneri\"            \"Cavia_aperea\"                \n",
       " [7] \"Cavia_porcellus\"              \"Cavia_tschudii\"              \n",
       " [9] \"Chinchilla_lanigera\"          \"Cricetomys_gambianus\"        \n",
       "[11] \"Cricetulus_griseus\"           \"Ctenodactylus_gundi\"         \n",
       "[13] \"Ctenomys_sociabilis\"          \"Dasyprocta_punctata\"         \n",
       "[15] \"Daubentonia_madagascariensis\" \"Dinomys_branickii\"           \n",
       "[17] \"Dipodomys_ordii\"              \"Dipodomys_stephensi\"         \n",
       "[19] \"Dolichotis_patagonum\"         \"Elaphurus_davidianus\"        \n",
       "[21] \"Ellobius_lutescens\"           \"Ellobius_talpinus\"           \n",
       "[23] \"Fukomys_damarensis\"           \"Glis_glis\"                   \n",
       "[25] \"Graphiurus_murinus\"           \"Heterocephalus_glaber\"       \n",
       "[27] \"Hydrochoerus_hydrochaeris\"    \"Hystrix_cristata\"            \n",
       "[29] \"Ictidomys_tridecemlineatus\"   \"Jaculus_jaculus\"             \n",
       "[31] \"Lepus_americanus\"             \"Marmota_marmota\"             \n",
       "[33] \"Meriones_unguiculatus\"        \"Mesocricetus_auratus\"        \n",
       "[35] \"Mesoplodon_bidens\"            \"Microtus_ochrogaster\"        \n",
       "[37] \"Monodon_monoceros\"            \"Moschus_moschiferus\"         \n",
       "[39] \"Mus_caroli\"                   \"Mus_musculus\"                \n",
       "[41] \"Mus_pahari\"                   \"Mus_spretus\"                 \n",
       "[43] \"Muscardinus_avellanarius\"     \"Myocastor_coypus\"            \n",
       "[45] \"Nannospalax_galili\"           \"Ochotona_princeps\"           \n",
       "[47] \"Octodon_degus\"                \"Ondatra_zibethicus\"          \n",
       "[49] \"Onychomys_torridus\"           \"Oryctolagus_cuniculus\"       \n",
       "[51] \"Perognathus_longimembris\"     \"Peromyscus_maniculatus\"      \n",
       "[53] \"Petromus_typicus\"             \"Psammomys_obesus\"            \n",
       "[55] \"Rattus_norvegicus\"            \"Sigmodon_hispidus\"           \n",
       "[57] \"Spermophilus_dauricus\"        \"Sus_scrofa\"                  \n",
       "[59] \"Thryonomys_swinderianus\"      \"Tragulus_javanicus\"          \n",
       "[61] \"Xerus_inauris\"                \"Zapus_hudsonius\"             \n",
       "[63] \"Ziphius_cavirostris\"         "
      ]
     },
     "metadata": {},
     "output_type": "display_data"
    }
   ],
   "source": [
    "hyps_names"
   ]
  },
  {
   "cell_type": "code",
   "execution_count": 6,
   "id": "08732615-08e0-410c-9070-bd16476e116d",
   "metadata": {},
   "outputs": [
    {
     "data": {
      "text/html": [
       "<table class=\"dataframe\">\n",
       "<caption>A data.frame: 5 × 5</caption>\n",
       "<thead>\n",
       "\t<tr><th></th><th scope=col>Acomys_cahirinus</th><th scope=col>Allactaga_bullata</th><th scope=col>Aplodontia_rufa</th><th scope=col>Castor_canadensis</th><th scope=col>Catagonus_wagneri</th></tr>\n",
       "\t<tr><th></th><th scope=col>&lt;chr&gt;</th><th scope=col>&lt;chr&gt;</th><th scope=col>&lt;chr&gt;</th><th scope=col>&lt;chr&gt;</th><th scope=col>&lt;chr&gt;</th></tr>\n",
       "</thead>\n",
       "<tbody>\n",
       "\t<tr><th scope=row>1</th><td> 0.333577</td><td> 0.466885</td><td> 0.454568</td><td> 0.420941</td><td> 0.726793</td></tr>\n",
       "\t<tr><th scope=row>2</th><td>-1.000000</td><td> 0.336123</td><td> 0.819937</td><td>-1.000000</td><td> 0.546719</td></tr>\n",
       "\t<tr><th scope=row>3</th><td> 0.496151</td><td> 0.582556</td><td> 0.560527</td><td> 0.475063</td><td> 0.766712</td></tr>\n",
       "\t<tr><th scope=row>4</th><td>-1.000000</td><td> 0.679630</td><td> 0.519685</td><td> 0.499033</td><td> 0.653173</td></tr>\n",
       "\t<tr><th scope=row>5</th><td>-1.000000</td><td> 0.535001</td><td> 0.405925</td><td> 0.492735</td><td> 0.436828</td></tr>\n",
       "</tbody>\n",
       "</table>\n"
      ],
      "text/latex": [
       "A data.frame: 5 × 5\n",
       "\\begin{tabular}{r|lllll}\n",
       "  & Acomys\\_cahirinus & Allactaga\\_bullata & Aplodontia\\_rufa & Castor\\_canadensis & Catagonus\\_wagneri\\\\\n",
       "  & <chr> & <chr> & <chr> & <chr> & <chr>\\\\\n",
       "\\hline\n",
       "\t1 &  0.333577 &  0.466885 &  0.454568 &  0.420941 &  0.726793\\\\\n",
       "\t2 & -1.000000 &  0.336123 &  0.819937 & -1.000000 &  0.546719\\\\\n",
       "\t3 &  0.496151 &  0.582556 &  0.560527 &  0.475063 &  0.766712\\\\\n",
       "\t4 & -1.000000 &  0.679630 &  0.519685 &  0.499033 &  0.653173\\\\\n",
       "\t5 & -1.000000 &  0.535001 &  0.405925 &  0.492735 &  0.436828\\\\\n",
       "\\end{tabular}\n"
      ],
      "text/markdown": [
       "\n",
       "A data.frame: 5 × 5\n",
       "\n",
       "| <!--/--> | Acomys_cahirinus &lt;chr&gt; | Allactaga_bullata &lt;chr&gt; | Aplodontia_rufa &lt;chr&gt; | Castor_canadensis &lt;chr&gt; | Catagonus_wagneri &lt;chr&gt; |\n",
       "|---|---|---|---|---|---|\n",
       "| 1 |  0.333577 |  0.466885 |  0.454568 |  0.420941 |  0.726793 |\n",
       "| 2 | -1.000000 |  0.336123 |  0.819937 | -1.000000 |  0.546719 |\n",
       "| 3 |  0.496151 |  0.582556 |  0.560527 |  0.475063 |  0.766712 |\n",
       "| 4 | -1.000000 |  0.679630 |  0.519685 |  0.499033 |  0.653173 |\n",
       "| 5 | -1.000000 |  0.535001 |  0.405925 |  0.492735 |  0.436828 |\n",
       "\n"
      ],
      "text/plain": [
       "  Acomys_cahirinus Allactaga_bullata Aplodontia_rufa Castor_canadensis\n",
       "1  0.333577         0.466885          0.454568        0.420941        \n",
       "2 -1.000000         0.336123          0.819937       -1.000000        \n",
       "3  0.496151         0.582556          0.560527        0.475063        \n",
       "4 -1.000000         0.679630          0.519685        0.499033        \n",
       "5 -1.000000         0.535001          0.405925        0.492735        \n",
       "  Catagonus_wagneri\n",
       "1  0.726793        \n",
       "2  0.546719        \n",
       "3  0.766712        \n",
       "4  0.653173        \n",
       "5  0.436828        "
      ]
     },
     "metadata": {},
     "output_type": "display_data"
    }
   ],
   "source": [
    "#now we can select hypselodonts\n",
    "hyps_opc_peaks <- as.data.frame(opc_peaks_randsamp) %>% select(any_of(hyps_names))\n",
    "hyps_opc_peaks[1:5, 1:5]"
   ]
  },
  {
   "cell_type": "code",
   "execution_count": 7,
   "id": "cc73be34-87f5-4197-963a-66269c862c91",
   "metadata": {},
   "outputs": [
    {
     "data": {
      "text/html": [
       "<table class=\"dataframe\">\n",
       "<caption>A data.frame: 5 × 5</caption>\n",
       "<thead>\n",
       "\t<tr><th></th><th scope=col>Acomys_cahirinus</th><th scope=col>Allactaga_bullata</th><th scope=col>Aplodontia_rufa</th><th scope=col>Castor_canadensis</th><th scope=col>Catagonus_wagneri</th></tr>\n",
       "\t<tr><th></th><th scope=col>&lt;chr&gt;</th><th scope=col>&lt;chr&gt;</th><th scope=col>&lt;chr&gt;</th><th scope=col>&lt;chr&gt;</th><th scope=col>&lt;chr&gt;</th></tr>\n",
       "</thead>\n",
       "<tbody>\n",
       "\t<tr><th scope=row>rheMac10:chr3:155475508-155476008:250</th><td> 0.333577</td><td> 0.466885</td><td> 0.454568</td><td> 0.420941</td><td> 0.726793</td></tr>\n",
       "\t<tr><th scope=row>rheMac10:chr18:58133437-58133937:250</th><td>-1.000000</td><td> 0.336123</td><td> 0.819937</td><td>-1.000000</td><td> 0.546719</td></tr>\n",
       "\t<tr><th scope=row>mm10:chr2:60962973-60963474</th><td> 0.496151</td><td> 0.582556</td><td> 0.560527</td><td> 0.475063</td><td> 0.766712</td></tr>\n",
       "\t<tr><th scope=row>rn6:chr3:11382774-11383274:250</th><td>-1.000000</td><td> 0.679630</td><td> 0.519685</td><td> 0.499033</td><td> 0.653173</td></tr>\n",
       "\t<tr><th scope=row>rheMac10:chr10:10892176-10892676:250</th><td>-1.000000</td><td> 0.535001</td><td> 0.405925</td><td> 0.492735</td><td> 0.436828</td></tr>\n",
       "</tbody>\n",
       "</table>\n"
      ],
      "text/latex": [
       "A data.frame: 5 × 5\n",
       "\\begin{tabular}{r|lllll}\n",
       "  & Acomys\\_cahirinus & Allactaga\\_bullata & Aplodontia\\_rufa & Castor\\_canadensis & Catagonus\\_wagneri\\\\\n",
       "  & <chr> & <chr> & <chr> & <chr> & <chr>\\\\\n",
       "\\hline\n",
       "\trheMac10:chr3:155475508-155476008:250 &  0.333577 &  0.466885 &  0.454568 &  0.420941 &  0.726793\\\\\n",
       "\trheMac10:chr18:58133437-58133937:250 & -1.000000 &  0.336123 &  0.819937 & -1.000000 &  0.546719\\\\\n",
       "\tmm10:chr2:60962973-60963474 &  0.496151 &  0.582556 &  0.560527 &  0.475063 &  0.766712\\\\\n",
       "\trn6:chr3:11382774-11383274:250 & -1.000000 &  0.679630 &  0.519685 &  0.499033 &  0.653173\\\\\n",
       "\trheMac10:chr10:10892176-10892676:250 & -1.000000 &  0.535001 &  0.405925 &  0.492735 &  0.436828\\\\\n",
       "\\end{tabular}\n"
      ],
      "text/markdown": [
       "\n",
       "A data.frame: 5 × 5\n",
       "\n",
       "| <!--/--> | Acomys_cahirinus &lt;chr&gt; | Allactaga_bullata &lt;chr&gt; | Aplodontia_rufa &lt;chr&gt; | Castor_canadensis &lt;chr&gt; | Catagonus_wagneri &lt;chr&gt; |\n",
       "|---|---|---|---|---|---|\n",
       "| rheMac10:chr3:155475508-155476008:250 |  0.333577 |  0.466885 |  0.454568 |  0.420941 |  0.726793 |\n",
       "| rheMac10:chr18:58133437-58133937:250 | -1.000000 |  0.336123 |  0.819937 | -1.000000 |  0.546719 |\n",
       "| mm10:chr2:60962973-60963474 |  0.496151 |  0.582556 |  0.560527 |  0.475063 |  0.766712 |\n",
       "| rn6:chr3:11382774-11383274:250 | -1.000000 |  0.679630 |  0.519685 |  0.499033 |  0.653173 |\n",
       "| rheMac10:chr10:10892176-10892676:250 | -1.000000 |  0.535001 |  0.405925 |  0.492735 |  0.436828 |\n",
       "\n"
      ],
      "text/plain": [
       "                                      Acomys_cahirinus Allactaga_bullata\n",
       "rheMac10:chr3:155475508-155476008:250  0.333577         0.466885        \n",
       "rheMac10:chr18:58133437-58133937:250  -1.000000         0.336123        \n",
       "mm10:chr2:60962973-60963474            0.496151         0.582556        \n",
       "rn6:chr3:11382774-11383274:250        -1.000000         0.679630        \n",
       "rheMac10:chr10:10892176-10892676:250  -1.000000         0.535001        \n",
       "                                      Aplodontia_rufa Castor_canadensis\n",
       "rheMac10:chr3:155475508-155476008:250  0.454568        0.420941        \n",
       "rheMac10:chr18:58133437-58133937:250   0.819937       -1.000000        \n",
       "mm10:chr2:60962973-60963474            0.560527        0.475063        \n",
       "rn6:chr3:11382774-11383274:250         0.519685        0.499033        \n",
       "rheMac10:chr10:10892176-10892676:250   0.405925        0.492735        \n",
       "                                      Catagonus_wagneri\n",
       "rheMac10:chr3:155475508-155476008:250  0.726793        \n",
       "rheMac10:chr18:58133437-58133937:250   0.546719        \n",
       "mm10:chr2:60962973-60963474            0.766712        \n",
       "rn6:chr3:11382774-11383274:250         0.653173        \n",
       "rheMac10:chr10:10892176-10892676:250   0.436828        "
      ]
     },
     "metadata": {},
     "output_type": "display_data"
    },
    {
     "data": {
      "text/html": [
       "<style>\n",
       ".list-inline {list-style: none; margin:0; padding: 0}\n",
       ".list-inline>li {display: inline-block}\n",
       ".list-inline>li:not(:last-child)::after {content: \"\\00b7\"; padding: 0 .5ex}\n",
       "</style>\n",
       "<ol class=list-inline><li>10000</li><li>63</li></ol>\n"
      ],
      "text/latex": [
       "\\begin{enumerate*}\n",
       "\\item 10000\n",
       "\\item 63\n",
       "\\end{enumerate*}\n"
      ],
      "text/markdown": [
       "1. 10000\n",
       "2. 63\n",
       "\n",
       "\n"
      ],
      "text/plain": [
       "[1] 10000    63"
      ]
     },
     "metadata": {},
     "output_type": "display_data"
    }
   ],
   "source": [
    "rownames(hyps_opc_peaks) <- opc_peaks_randsamp[,\"Region\"]\n",
    "hyps_opc_peaks[1:5, 1:5]\n",
    "dim(hyps_opc_peaks)"
   ]
  },
  {
   "cell_type": "code",
   "execution_count": 8,
   "id": "bc50d422-d4a5-4c7c-bbb0-406e6ea6b419",
   "metadata": {},
   "outputs": [
    {
     "data": {
      "text/html": [
       "<table class=\"dataframe\">\n",
       "<caption>A data.frame: 5 × 5</caption>\n",
       "<thead>\n",
       "\t<tr><th></th><th scope=col>Acinonyx_jubatus</th><th scope=col>Ailuropoda_melanoleuca</th><th scope=col>Ailurus_fulgens</th><th scope=col>Alouatta_palliata</th><th scope=col>Ammotragus_lervia</th></tr>\n",
       "\t<tr><th></th><th scope=col>&lt;chr&gt;</th><th scope=col>&lt;chr&gt;</th><th scope=col>&lt;chr&gt;</th><th scope=col>&lt;chr&gt;</th><th scope=col>&lt;chr&gt;</th></tr>\n",
       "</thead>\n",
       "<tbody>\n",
       "\t<tr><th scope=row>rheMac10:chr3:155475508-155476008:250</th><td>-1.000000</td><td> 0.597921</td><td> 0.337647</td><td> 0.437756</td><td> 0.601379</td></tr>\n",
       "\t<tr><th scope=row>rheMac10:chr18:58133437-58133937:250</th><td> 0.504291</td><td> 0.789442</td><td> 0.632457</td><td> 0.695482</td><td> 0.725380</td></tr>\n",
       "\t<tr><th scope=row>mm10:chr2:60962973-60963474</th><td>-1.000000</td><td> 0.744965</td><td> 0.403380</td><td> 0.311648</td><td> 0.734923</td></tr>\n",
       "\t<tr><th scope=row>rn6:chr3:11382774-11383274:250</th><td> 0.413678</td><td>-1.000000</td><td> 0.700459</td><td> 0.576341</td><td>-1.000000</td></tr>\n",
       "\t<tr><th scope=row>rheMac10:chr10:10892176-10892676:250</th><td> 0.544576</td><td> 0.721769</td><td> 0.544420</td><td> 0.704795</td><td>-1.000000</td></tr>\n",
       "</tbody>\n",
       "</table>\n"
      ],
      "text/latex": [
       "A data.frame: 5 × 5\n",
       "\\begin{tabular}{r|lllll}\n",
       "  & Acinonyx\\_jubatus & Ailuropoda\\_melanoleuca & Ailurus\\_fulgens & Alouatta\\_palliata & Ammotragus\\_lervia\\\\\n",
       "  & <chr> & <chr> & <chr> & <chr> & <chr>\\\\\n",
       "\\hline\n",
       "\trheMac10:chr3:155475508-155476008:250 & -1.000000 &  0.597921 &  0.337647 &  0.437756 &  0.601379\\\\\n",
       "\trheMac10:chr18:58133437-58133937:250 &  0.504291 &  0.789442 &  0.632457 &  0.695482 &  0.725380\\\\\n",
       "\tmm10:chr2:60962973-60963474 & -1.000000 &  0.744965 &  0.403380 &  0.311648 &  0.734923\\\\\n",
       "\trn6:chr3:11382774-11383274:250 &  0.413678 & -1.000000 &  0.700459 &  0.576341 & -1.000000\\\\\n",
       "\trheMac10:chr10:10892176-10892676:250 &  0.544576 &  0.721769 &  0.544420 &  0.704795 & -1.000000\\\\\n",
       "\\end{tabular}\n"
      ],
      "text/markdown": [
       "\n",
       "A data.frame: 5 × 5\n",
       "\n",
       "| <!--/--> | Acinonyx_jubatus &lt;chr&gt; | Ailuropoda_melanoleuca &lt;chr&gt; | Ailurus_fulgens &lt;chr&gt; | Alouatta_palliata &lt;chr&gt; | Ammotragus_lervia &lt;chr&gt; |\n",
       "|---|---|---|---|---|---|\n",
       "| rheMac10:chr3:155475508-155476008:250 | -1.000000 |  0.597921 |  0.337647 |  0.437756 |  0.601379 |\n",
       "| rheMac10:chr18:58133437-58133937:250 |  0.504291 |  0.789442 |  0.632457 |  0.695482 |  0.725380 |\n",
       "| mm10:chr2:60962973-60963474 | -1.000000 |  0.744965 |  0.403380 |  0.311648 |  0.734923 |\n",
       "| rn6:chr3:11382774-11383274:250 |  0.413678 | -1.000000 |  0.700459 |  0.576341 | -1.000000 |\n",
       "| rheMac10:chr10:10892176-10892676:250 |  0.544576 |  0.721769 |  0.544420 |  0.704795 | -1.000000 |\n",
       "\n"
      ],
      "text/plain": [
       "                                      Acinonyx_jubatus Ailuropoda_melanoleuca\n",
       "rheMac10:chr3:155475508-155476008:250 -1.000000         0.597921             \n",
       "rheMac10:chr18:58133437-58133937:250   0.504291         0.789442             \n",
       "mm10:chr2:60962973-60963474           -1.000000         0.744965             \n",
       "rn6:chr3:11382774-11383274:250         0.413678        -1.000000             \n",
       "rheMac10:chr10:10892176-10892676:250   0.544576         0.721769             \n",
       "                                      Ailurus_fulgens Alouatta_palliata\n",
       "rheMac10:chr3:155475508-155476008:250  0.337647        0.437756        \n",
       "rheMac10:chr18:58133437-58133937:250   0.632457        0.695482        \n",
       "mm10:chr2:60962973-60963474            0.403380        0.311648        \n",
       "rn6:chr3:11382774-11383274:250         0.700459        0.576341        \n",
       "rheMac10:chr10:10892176-10892676:250   0.544420        0.704795        \n",
       "                                      Ammotragus_lervia\n",
       "rheMac10:chr3:155475508-155476008:250  0.601379        \n",
       "rheMac10:chr18:58133437-58133937:250   0.725380        \n",
       "mm10:chr2:60962973-60963474            0.734923        \n",
       "rn6:chr3:11382774-11383274:250        -1.000000        \n",
       "rheMac10:chr10:10892176-10892676:250  -1.000000        "
      ]
     },
     "metadata": {},
     "output_type": "display_data"
    },
    {
     "data": {
      "text/html": [
       "<style>\n",
       ".list-inline {list-style: none; margin:0; padding: 0}\n",
       ".list-inline>li {display: inline-block}\n",
       ".list-inline>li:not(:last-child)::after {content: \"\\00b7\"; padding: 0 .5ex}\n",
       "</style>\n",
       "<ol class=list-inline><li>10000</li><li>146</li></ol>\n"
      ],
      "text/latex": [
       "\\begin{enumerate*}\n",
       "\\item 10000\n",
       "\\item 146\n",
       "\\end{enumerate*}\n"
      ],
      "text/markdown": [
       "1. 10000\n",
       "2. 146\n",
       "\n",
       "\n"
      ],
      "text/plain": [
       "[1] 10000   146"
      ]
     },
     "metadata": {},
     "output_type": "display_data"
    }
   ],
   "source": [
    "nonhyps_opc_peaks <- as.data.frame(opc_peaks_randsamp) %>% select(any_of(nonhyps_names))\n",
    "rownames(nonhyps_opc_peaks) <- opc_peaks_randsamp[,\"Region\"]\n",
    "nonhyps_opc_peaks[1:5, 1:5]\n",
    "dim(nonhyps_opc_peaks)"
   ]
  },
  {
   "cell_type": "markdown",
   "id": "e08e9131-f84e-47b3-a8b9-5a456a20e4c1",
   "metadata": {},
   "source": [
    "### PART 2: OPEN CHROMATIN DIFFERENCES"
   ]
  },
  {
   "cell_type": "code",
   "execution_count": 17,
   "id": "ec9cdab0-a5c3-4044-b061-d3fdef61a5ba",
   "metadata": {},
   "outputs": [
    {
     "data": {
      "text/html": [
       "<table class=\"dataframe\">\n",
       "<caption>A data.frame: 10 × 4</caption>\n",
       "<thead>\n",
       "\t<tr><th></th><th scope=col>id</th><th scope=col>meanDiff</th><th scope=col>pvalue</th><th scope=col>padj</th></tr>\n",
       "\t<tr><th></th><th scope=col>&lt;chr&gt;</th><th scope=col>&lt;dbl&gt;</th><th scope=col>&lt;dbl&gt;</th><th scope=col>&lt;dbl&gt;</th></tr>\n",
       "</thead>\n",
       "<tbody>\n",
       "\t<tr><th scope=row>rheMac10:chr14:94018099-94018599:250</th><td>rheMac10:chr14:94018099-94018599:250</td><td>-1.166841</td><td>3.739627e-40</td><td>3.611358e-36</td></tr>\n",
       "\t<tr><th scope=row>rheMac10:chr7:14970683-14971183:250</th><td>rheMac10:chr7:14970683-14971183:250 </td><td>-1.156606</td><td>5.290916e-40</td><td>5.108908e-36</td></tr>\n",
       "\t<tr><th scope=row>rheMac10:chr13:83999136-83999636:250</th><td>rheMac10:chr13:83999136-83999636:250</td><td>-1.068573</td><td>7.480792e-39</td><td>7.222705e-35</td></tr>\n",
       "\t<tr><th scope=row>rheMac10:chr16:16917684-16918184:250</th><td>rheMac10:chr16:16917684-16918184:250</td><td>-1.041467</td><td>1.478127e-36</td><td>1.426984e-32</td></tr>\n",
       "\t<tr><th scope=row>rheMac10:chr2:2753620-2754120:250</th><td>rheMac10:chr2:2753620-2754120:250   </td><td>-1.226441</td><td>2.839644e-35</td><td>2.741108e-31</td></tr>\n",
       "\t<tr><th scope=row>hg38:chr6:109448294-109448795</th><td>hg38:chr6:109448294-109448795       </td><td>-1.209471</td><td>6.643296e-34</td><td>6.412110e-30</td></tr>\n",
       "\t<tr><th scope=row>rheMac10:chr20:11629969-11630469:250</th><td>rheMac10:chr20:11629969-11630469:250</td><td>-1.263702</td><td>6.831316e-33</td><td>6.592903e-29</td></tr>\n",
       "\t<tr><th scope=row>hg38:chr4:82900421-82900922</th><td>hg38:chr4:82900421-82900922         </td><td>-1.291502</td><td>9.475720e-33</td><td>9.144069e-29</td></tr>\n",
       "\t<tr><th scope=row>rheMac10:chr19:4974357-4974857:250</th><td>rheMac10:chr19:4974357-4974857:250  </td><td>-1.068616</td><td>1.409556e-32</td><td>1.360080e-28</td></tr>\n",
       "\t<tr><th scope=row>rheMac10:chr12:53536030-53536530:250</th><td>rheMac10:chr12:53536030-53536530:250</td><td>-0.952081</td><td>1.904616e-32</td><td>1.837573e-28</td></tr>\n",
       "</tbody>\n",
       "</table>\n"
      ],
      "text/latex": [
       "A data.frame: 10 × 4\n",
       "\\begin{tabular}{r|llll}\n",
       "  & id & meanDiff & pvalue & padj\\\\\n",
       "  & <chr> & <dbl> & <dbl> & <dbl>\\\\\n",
       "\\hline\n",
       "\trheMac10:chr14:94018099-94018599:250 & rheMac10:chr14:94018099-94018599:250 & -1.166841 & 3.739627e-40 & 3.611358e-36\\\\\n",
       "\trheMac10:chr7:14970683-14971183:250 & rheMac10:chr7:14970683-14971183:250  & -1.156606 & 5.290916e-40 & 5.108908e-36\\\\\n",
       "\trheMac10:chr13:83999136-83999636:250 & rheMac10:chr13:83999136-83999636:250 & -1.068573 & 7.480792e-39 & 7.222705e-35\\\\\n",
       "\trheMac10:chr16:16917684-16918184:250 & rheMac10:chr16:16917684-16918184:250 & -1.041467 & 1.478127e-36 & 1.426984e-32\\\\\n",
       "\trheMac10:chr2:2753620-2754120:250 & rheMac10:chr2:2753620-2754120:250    & -1.226441 & 2.839644e-35 & 2.741108e-31\\\\\n",
       "\thg38:chr6:109448294-109448795 & hg38:chr6:109448294-109448795        & -1.209471 & 6.643296e-34 & 6.412110e-30\\\\\n",
       "\trheMac10:chr20:11629969-11630469:250 & rheMac10:chr20:11629969-11630469:250 & -1.263702 & 6.831316e-33 & 6.592903e-29\\\\\n",
       "\thg38:chr4:82900421-82900922 & hg38:chr4:82900421-82900922          & -1.291502 & 9.475720e-33 & 9.144069e-29\\\\\n",
       "\trheMac10:chr19:4974357-4974857:250 & rheMac10:chr19:4974357-4974857:250   & -1.068616 & 1.409556e-32 & 1.360080e-28\\\\\n",
       "\trheMac10:chr12:53536030-53536530:250 & rheMac10:chr12:53536030-53536530:250 & -0.952081 & 1.904616e-32 & 1.837573e-28\\\\\n",
       "\\end{tabular}\n"
      ],
      "text/markdown": [
       "\n",
       "A data.frame: 10 × 4\n",
       "\n",
       "| <!--/--> | id &lt;chr&gt; | meanDiff &lt;dbl&gt; | pvalue &lt;dbl&gt; | padj &lt;dbl&gt; |\n",
       "|---|---|---|---|---|\n",
       "| rheMac10:chr14:94018099-94018599:250 | rheMac10:chr14:94018099-94018599:250 | -1.166841 | 3.739627e-40 | 3.611358e-36 |\n",
       "| rheMac10:chr7:14970683-14971183:250 | rheMac10:chr7:14970683-14971183:250  | -1.156606 | 5.290916e-40 | 5.108908e-36 |\n",
       "| rheMac10:chr13:83999136-83999636:250 | rheMac10:chr13:83999136-83999636:250 | -1.068573 | 7.480792e-39 | 7.222705e-35 |\n",
       "| rheMac10:chr16:16917684-16918184:250 | rheMac10:chr16:16917684-16918184:250 | -1.041467 | 1.478127e-36 | 1.426984e-32 |\n",
       "| rheMac10:chr2:2753620-2754120:250 | rheMac10:chr2:2753620-2754120:250    | -1.226441 | 2.839644e-35 | 2.741108e-31 |\n",
       "| hg38:chr6:109448294-109448795 | hg38:chr6:109448294-109448795        | -1.209471 | 6.643296e-34 | 6.412110e-30 |\n",
       "| rheMac10:chr20:11629969-11630469:250 | rheMac10:chr20:11629969-11630469:250 | -1.263702 | 6.831316e-33 | 6.592903e-29 |\n",
       "| hg38:chr4:82900421-82900922 | hg38:chr4:82900421-82900922          | -1.291502 | 9.475720e-33 | 9.144069e-29 |\n",
       "| rheMac10:chr19:4974357-4974857:250 | rheMac10:chr19:4974357-4974857:250   | -1.068616 | 1.409556e-32 | 1.360080e-28 |\n",
       "| rheMac10:chr12:53536030-53536530:250 | rheMac10:chr12:53536030-53536530:250 | -0.952081 | 1.904616e-32 | 1.837573e-28 |\n",
       "\n"
      ],
      "text/plain": [
       "                                     id                                  \n",
       "rheMac10:chr14:94018099-94018599:250 rheMac10:chr14:94018099-94018599:250\n",
       "rheMac10:chr7:14970683-14971183:250  rheMac10:chr7:14970683-14971183:250 \n",
       "rheMac10:chr13:83999136-83999636:250 rheMac10:chr13:83999136-83999636:250\n",
       "rheMac10:chr16:16917684-16918184:250 rheMac10:chr16:16917684-16918184:250\n",
       "rheMac10:chr2:2753620-2754120:250    rheMac10:chr2:2753620-2754120:250   \n",
       "hg38:chr6:109448294-109448795        hg38:chr6:109448294-109448795       \n",
       "rheMac10:chr20:11629969-11630469:250 rheMac10:chr20:11629969-11630469:250\n",
       "hg38:chr4:82900421-82900922          hg38:chr4:82900421-82900922         \n",
       "rheMac10:chr19:4974357-4974857:250   rheMac10:chr19:4974357-4974857:250  \n",
       "rheMac10:chr12:53536030-53536530:250 rheMac10:chr12:53536030-53536530:250\n",
       "                                     meanDiff  pvalue       padj        \n",
       "rheMac10:chr14:94018099-94018599:250 -1.166841 3.739627e-40 3.611358e-36\n",
       "rheMac10:chr7:14970683-14971183:250  -1.156606 5.290916e-40 5.108908e-36\n",
       "rheMac10:chr13:83999136-83999636:250 -1.068573 7.480792e-39 7.222705e-35\n",
       "rheMac10:chr16:16917684-16918184:250 -1.041467 1.478127e-36 1.426984e-32\n",
       "rheMac10:chr2:2753620-2754120:250    -1.226441 2.839644e-35 2.741108e-31\n",
       "hg38:chr6:109448294-109448795        -1.209471 6.643296e-34 6.412110e-30\n",
       "rheMac10:chr20:11629969-11630469:250 -1.263702 6.831316e-33 6.592903e-29\n",
       "hg38:chr4:82900421-82900922          -1.291502 9.475720e-33 9.144069e-29\n",
       "rheMac10:chr19:4974357-4974857:250   -1.068616 1.409556e-32 1.360080e-28\n",
       "rheMac10:chr12:53536030-53536530:250 -0.952081 1.904616e-32 1.837573e-28"
      ]
     },
     "metadata": {},
     "output_type": "display_data"
    }
   ],
   "source": [
    "#code to do this part borrowed from HW2\n",
    "diffPvaluesV <- rep(NA,nrow(hyps_opc_peaks)); #Create an empty vector to store the p-values per open chromatin region in\n",
    "names(diffPvaluesV) <- rownames(hyps_opc_peaks); #Name that vector with the peak names\n",
    "diffMeansV <- diffPvaluesV #Create a new vector, also empty, to store the differences across species\n",
    "\n",
    "#modified to do hypselodonts\n",
    "peak_ids <- rownames(hyps_opc_peaks)\n",
    "for(curPeak in peak_ids) { #Loop through each of the peaks\n",
    "  hypVals <- as.numeric(hyps_opc_peaks[curPeak,]); #For that peak get the HYPSELODONT predicitons\n",
    "  nonHypVals <- as.numeric(nonhyps_opc_peaks[curPeak,]); #For that peak get the NON-HYPSELODONT predicitons\n",
    "    if(sd(hypVals,na.rm=T) > 0 && sd(nonHypVals,na.rm=T) > 0) { #Ensure that standard deviation greater than 0\n",
    "      curTtest <- t.test(x=hypVals,y=nonHypVals);\n",
    "      diffPvaluesV[curPeak] <- curTtest$p.value\n",
    "      diffMeansV[curPeak] <- mean(hypVals,na.rm=T) - mean(nonHypVals,na.rm=T);\n",
    "    }\n",
    "}\n",
    "\n",
    "diffResultsF <- data.frame(id=peak_ids, meanDiff=diffMeansV, pvalue=diffPvaluesV, padj = p.adjust(diffPvaluesV))\n",
    "diffResultsSortF <- diffResultsF[order(diffResultsF$padj),]\n",
    "diffResultsSortF[1:10,]"
   ]
  },
  {
   "cell_type": "markdown",
   "id": "c263f709-c01d-4d5f-b651-dd1be15fe4be",
   "metadata": {},
   "source": [
    "#### USING PHYLOLM: REQUIRES NEW KERNEL WITHOUT DPLYR\n",
    "I honestly think the results are similar to using the t-test but we will do this anyway."
   ]
  },
  {
   "cell_type": "code",
   "execution_count": 10,
   "id": "efb6eb46-fde5-4096-98b9-32fc08672a12",
   "metadata": {},
   "outputs": [
    {
     "data": {
      "text/html": [
       "<table class=\"dataframe\">\n",
       "<caption>A data.frame: 5 × 5</caption>\n",
       "<thead>\n",
       "\t<tr><th></th><th scope=col>rheMac10:chr3:155475508-155476008:250</th><th scope=col>rheMac10:chr18:58133437-58133937:250</th><th scope=col>mm10:chr2:60962973-60963474</th><th scope=col>rn6:chr3:11382774-11383274:250</th><th scope=col>rheMac10:chr10:10892176-10892676:250</th></tr>\n",
       "\t<tr><th></th><th scope=col>&lt;chr&gt;</th><th scope=col>&lt;chr&gt;</th><th scope=col>&lt;chr&gt;</th><th scope=col>&lt;chr&gt;</th><th scope=col>&lt;chr&gt;</th></tr>\n",
       "</thead>\n",
       "<tbody>\n",
       "\t<tr><th scope=row>Acomys_cahirinus...1</th><td> 0.333577</td><td>-1.000000</td><td> 0.496151</td><td>-1.000000</td><td>-1.000000</td></tr>\n",
       "\t<tr><th scope=row>Allactaga_bullata...2</th><td> 0.466885</td><td> 0.336123</td><td> 0.582556</td><td> 0.679630</td><td> 0.535001</td></tr>\n",
       "\t<tr><th scope=row>Aplodontia_rufa...3</th><td> 0.454568</td><td> 0.819937</td><td> 0.560527</td><td> 0.519685</td><td> 0.405925</td></tr>\n",
       "\t<tr><th scope=row>Castor_canadensis...4</th><td> 0.420941</td><td>-1.000000</td><td> 0.475063</td><td> 0.499033</td><td> 0.492735</td></tr>\n",
       "\t<tr><th scope=row>Catagonus_wagneri...5</th><td> 0.726793</td><td> 0.546719</td><td> 0.766712</td><td> 0.653173</td><td> 0.436828</td></tr>\n",
       "</tbody>\n",
       "</table>\n"
      ],
      "text/latex": [
       "A data.frame: 5 × 5\n",
       "\\begin{tabular}{r|lllll}\n",
       "  & rheMac10:chr3:155475508-155476008:250 & rheMac10:chr18:58133437-58133937:250 & mm10:chr2:60962973-60963474 & rn6:chr3:11382774-11383274:250 & rheMac10:chr10:10892176-10892676:250\\\\\n",
       "  & <chr> & <chr> & <chr> & <chr> & <chr>\\\\\n",
       "\\hline\n",
       "\tAcomys\\_cahirinus...1 &  0.333577 & -1.000000 &  0.496151 & -1.000000 & -1.000000\\\\\n",
       "\tAllactaga\\_bullata...2 &  0.466885 &  0.336123 &  0.582556 &  0.679630 &  0.535001\\\\\n",
       "\tAplodontia\\_rufa...3 &  0.454568 &  0.819937 &  0.560527 &  0.519685 &  0.405925\\\\\n",
       "\tCastor\\_canadensis...4 &  0.420941 & -1.000000 &  0.475063 &  0.499033 &  0.492735\\\\\n",
       "\tCatagonus\\_wagneri...5 &  0.726793 &  0.546719 &  0.766712 &  0.653173 &  0.436828\\\\\n",
       "\\end{tabular}\n"
      ],
      "text/markdown": [
       "\n",
       "A data.frame: 5 × 5\n",
       "\n",
       "| <!--/--> | rheMac10:chr3:155475508-155476008:250 &lt;chr&gt; | rheMac10:chr18:58133437-58133937:250 &lt;chr&gt; | mm10:chr2:60962973-60963474 &lt;chr&gt; | rn6:chr3:11382774-11383274:250 &lt;chr&gt; | rheMac10:chr10:10892176-10892676:250 &lt;chr&gt; |\n",
       "|---|---|---|---|---|---|\n",
       "| Acomys_cahirinus...1 |  0.333577 | -1.000000 |  0.496151 | -1.000000 | -1.000000 |\n",
       "| Allactaga_bullata...2 |  0.466885 |  0.336123 |  0.582556 |  0.679630 |  0.535001 |\n",
       "| Aplodontia_rufa...3 |  0.454568 |  0.819937 |  0.560527 |  0.519685 |  0.405925 |\n",
       "| Castor_canadensis...4 |  0.420941 | -1.000000 |  0.475063 |  0.499033 |  0.492735 |\n",
       "| Catagonus_wagneri...5 |  0.726793 |  0.546719 |  0.766712 |  0.653173 |  0.436828 |\n",
       "\n"
      ],
      "text/plain": [
       "                      rheMac10:chr3:155475508-155476008:250\n",
       "Acomys_cahirinus...1   0.333577                            \n",
       "Allactaga_bullata...2  0.466885                            \n",
       "Aplodontia_rufa...3    0.454568                            \n",
       "Castor_canadensis...4  0.420941                            \n",
       "Catagonus_wagneri...5  0.726793                            \n",
       "                      rheMac10:chr18:58133437-58133937:250\n",
       "Acomys_cahirinus...1  -1.000000                           \n",
       "Allactaga_bullata...2  0.336123                           \n",
       "Aplodontia_rufa...3    0.819937                           \n",
       "Castor_canadensis...4 -1.000000                           \n",
       "Catagonus_wagneri...5  0.546719                           \n",
       "                      mm10:chr2:60962973-60963474\n",
       "Acomys_cahirinus...1   0.496151                  \n",
       "Allactaga_bullata...2  0.582556                  \n",
       "Aplodontia_rufa...3    0.560527                  \n",
       "Castor_canadensis...4  0.475063                  \n",
       "Catagonus_wagneri...5  0.766712                  \n",
       "                      rn6:chr3:11382774-11383274:250\n",
       "Acomys_cahirinus...1  -1.000000                     \n",
       "Allactaga_bullata...2  0.679630                     \n",
       "Aplodontia_rufa...3    0.519685                     \n",
       "Castor_canadensis...4  0.499033                     \n",
       "Catagonus_wagneri...5  0.653173                     \n",
       "                      rheMac10:chr10:10892176-10892676:250\n",
       "Acomys_cahirinus...1  -1.000000                           \n",
       "Allactaga_bullata...2  0.535001                           \n",
       "Aplodontia_rufa...3    0.405925                           \n",
       "Castor_canadensis...4  0.492735                           \n",
       "Catagonus_wagneri...5  0.436828                           "
      ]
     },
     "metadata": {},
     "output_type": "display_data"
    },
    {
     "data": {
      "text/html": [
       "<style>\n",
       ".list-inline {list-style: none; margin:0; padding: 0}\n",
       ".list-inline>li {display: inline-block}\n",
       ".list-inline>li:not(:last-child)::after {content: \"\\00b7\"; padding: 0 .5ex}\n",
       "</style>\n",
       "<ol class=list-inline><li>126</li><li>10001</li></ol>\n"
      ],
      "text/latex": [
       "\\begin{enumerate*}\n",
       "\\item 126\n",
       "\\item 10001\n",
       "\\end{enumerate*}\n"
      ],
      "text/markdown": [
       "1. 126\n",
       "2. 10001\n",
       "\n",
       "\n"
      ],
      "text/plain": [
       "[1]   126 10001"
      ]
     },
     "metadata": {},
     "output_type": "display_data"
    }
   ],
   "source": [
    "#modify the data so that the variables are on the top, animals on the side, add hypselodonty\n",
    "library(tidyr)\n",
    "hypsTemp <- t(hyps_opc_peaks)\n",
    "hypsTemp <- as.data.frame(hypsTemp)\n",
    "hypsTemp <- hypsTemp %>% mutate(Hypselodont = 1)\n",
    "\n",
    "nonhypsTemp <- t(nonhyps_opc_peaks)\n",
    "nonhypsTemp <- as.data.frame(nonhypsTemp)\n",
    "nonhypsTemp <- nonhypsTemp %>% mutate(Hypselodont = 0)\n",
    "\n",
    "combined_hyp_peaks <- bind_rows(hypsTemp, nonhypsTemp)\n",
    "combined_hyp_peaks[1:5, 1:5]\n",
    "dim(combined_hyp_peaks)\n",
    "\n",
    "#write this as csv so that we can read it in to do phylolm\n",
    "write.csv(combined_hyp_peaks, file=\"~/geb/data/hyps_opc_peaks.csv\")"
   ]
  },
  {
   "cell_type": "code",
   "execution_count": 14,
   "id": "1a261790-4c22-442a-b28e-ea530d2f4730",
   "metadata": {},
   "outputs": [
    {
     "data": {
      "text/html": [
       "<table class=\"dataframe\">\n",
       "<caption>A data.frame: 5 × 5</caption>\n",
       "<thead>\n",
       "\t<tr><th></th><th scope=col>X</th><th scope=col>rheMac10.chr3.155475508.155476008.250</th><th scope=col>rheMac10.chr18.58133437.58133937.250</th><th scope=col>mm10.chr2.60962973.60963474</th><th scope=col>rn6.chr3.11382774.11383274.250</th></tr>\n",
       "\t<tr><th></th><th scope=col>&lt;chr&gt;</th><th scope=col>&lt;dbl&gt;</th><th scope=col>&lt;dbl&gt;</th><th scope=col>&lt;dbl&gt;</th><th scope=col>&lt;dbl&gt;</th></tr>\n",
       "</thead>\n",
       "<tbody>\n",
       "\t<tr><th scope=row>1</th><td>Acomys_cahirinus...1 </td><td>0.333577</td><td>-1.000000</td><td>0.496151</td><td>-1.000000</td></tr>\n",
       "\t<tr><th scope=row>2</th><td>Allactaga_bullata...2</td><td>0.466885</td><td> 0.336123</td><td>0.582556</td><td> 0.679630</td></tr>\n",
       "\t<tr><th scope=row>3</th><td>Aplodontia_rufa...3  </td><td>0.454568</td><td> 0.819937</td><td>0.560527</td><td> 0.519685</td></tr>\n",
       "\t<tr><th scope=row>4</th><td>Castor_canadensis...4</td><td>0.420941</td><td>-1.000000</td><td>0.475063</td><td> 0.499033</td></tr>\n",
       "\t<tr><th scope=row>5</th><td>Catagonus_wagneri...5</td><td>0.726793</td><td> 0.546719</td><td>0.766712</td><td> 0.653173</td></tr>\n",
       "</tbody>\n",
       "</table>\n"
      ],
      "text/latex": [
       "A data.frame: 5 × 5\n",
       "\\begin{tabular}{r|lllll}\n",
       "  & X & rheMac10.chr3.155475508.155476008.250 & rheMac10.chr18.58133437.58133937.250 & mm10.chr2.60962973.60963474 & rn6.chr3.11382774.11383274.250\\\\\n",
       "  & <chr> & <dbl> & <dbl> & <dbl> & <dbl>\\\\\n",
       "\\hline\n",
       "\t1 & Acomys\\_cahirinus...1  & 0.333577 & -1.000000 & 0.496151 & -1.000000\\\\\n",
       "\t2 & Allactaga\\_bullata...2 & 0.466885 &  0.336123 & 0.582556 &  0.679630\\\\\n",
       "\t3 & Aplodontia\\_rufa...3   & 0.454568 &  0.819937 & 0.560527 &  0.519685\\\\\n",
       "\t4 & Castor\\_canadensis...4 & 0.420941 & -1.000000 & 0.475063 &  0.499033\\\\\n",
       "\t5 & Catagonus\\_wagneri...5 & 0.726793 &  0.546719 & 0.766712 &  0.653173\\\\\n",
       "\\end{tabular}\n"
      ],
      "text/markdown": [
       "\n",
       "A data.frame: 5 × 5\n",
       "\n",
       "| <!--/--> | X &lt;chr&gt; | rheMac10.chr3.155475508.155476008.250 &lt;dbl&gt; | rheMac10.chr18.58133437.58133937.250 &lt;dbl&gt; | mm10.chr2.60962973.60963474 &lt;dbl&gt; | rn6.chr3.11382774.11383274.250 &lt;dbl&gt; |\n",
       "|---|---|---|---|---|---|\n",
       "| 1 | Acomys_cahirinus...1  | 0.333577 | -1.000000 | 0.496151 | -1.000000 |\n",
       "| 2 | Allactaga_bullata...2 | 0.466885 |  0.336123 | 0.582556 |  0.679630 |\n",
       "| 3 | Aplodontia_rufa...3   | 0.454568 |  0.819937 | 0.560527 |  0.519685 |\n",
       "| 4 | Castor_canadensis...4 | 0.420941 | -1.000000 | 0.475063 |  0.499033 |\n",
       "| 5 | Catagonus_wagneri...5 | 0.726793 |  0.546719 | 0.766712 |  0.653173 |\n",
       "\n"
      ],
      "text/plain": [
       "  X                     rheMac10.chr3.155475508.155476008.250\n",
       "1 Acomys_cahirinus...1  0.333577                             \n",
       "2 Allactaga_bullata...2 0.466885                             \n",
       "3 Aplodontia_rufa...3   0.454568                             \n",
       "4 Castor_canadensis...4 0.420941                             \n",
       "5 Catagonus_wagneri...5 0.726793                             \n",
       "  rheMac10.chr18.58133437.58133937.250 mm10.chr2.60962973.60963474\n",
       "1 -1.000000                            0.496151                   \n",
       "2  0.336123                            0.582556                   \n",
       "3  0.819937                            0.560527                   \n",
       "4 -1.000000                            0.475063                   \n",
       "5  0.546719                            0.766712                   \n",
       "  rn6.chr3.11382774.11383274.250\n",
       "1 -1.000000                     \n",
       "2  0.679630                     \n",
       "3  0.519685                     \n",
       "4  0.499033                     \n",
       "5  0.653173                     "
      ]
     },
     "metadata": {},
     "output_type": "display_data"
    }
   ],
   "source": [
    "library(phylolm)\n",
    "library(janitor)\n",
    "zoonomiaTree <- read.tree(file = \"~/geb/data/Zoonomia_ChrX_lessGC40_241species_30Consensus.tree\")\n",
    "\n",
    "#load in data from earlier:\n",
    "opc_peaks_randsamp <- as.matrix(read.csv(\"~/geb/data/opc_randsamp.csv\"))\n",
    "combined_hyp_peaks <- read.csv(\"~/geb/data/hyps_opc_peaks.csv\")\n",
    "combined_hyp_peaks[1:5,1:5]"
   ]
  },
  {
   "cell_type": "code",
   "execution_count": 7,
   "id": "e9809d4d-70ed-4ccc-a3e5-b6b5c02e20e5",
   "metadata": {},
   "outputs": [
    {
     "data": {
      "text/html": [
       "<style>\n",
       ".list-inline {list-style: none; margin:0; padding: 0}\n",
       ".list-inline>li {display: inline-block}\n",
       ".list-inline>li:not(:last-child)::after {content: \"\\00b7\"; padding: 0 .5ex}\n",
       "</style>\n",
       "<ol class=list-inline><li>'rheMac10.chr3.155475508.155476008.250'</li><li>'rheMac10.chr18.58133437.58133937.250'</li><li>'mm10.chr2.60962973.60963474'</li><li>'rn6.chr3.11382774.11383274.250'</li><li>'rheMac10.chr10.10892176.10892676.250'</li></ol>\n"
      ],
      "text/latex": [
       "\\begin{enumerate*}\n",
       "\\item 'rheMac10.chr3.155475508.155476008.250'\n",
       "\\item 'rheMac10.chr18.58133437.58133937.250'\n",
       "\\item 'mm10.chr2.60962973.60963474'\n",
       "\\item 'rn6.chr3.11382774.11383274.250'\n",
       "\\item 'rheMac10.chr10.10892176.10892676.250'\n",
       "\\end{enumerate*}\n"
      ],
      "text/markdown": [
       "1. 'rheMac10.chr3.155475508.155476008.250'\n",
       "2. 'rheMac10.chr18.58133437.58133937.250'\n",
       "3. 'mm10.chr2.60962973.60963474'\n",
       "4. 'rn6.chr3.11382774.11383274.250'\n",
       "5. 'rheMac10.chr10.10892176.10892676.250'\n",
       "\n",
       "\n"
      ],
      "text/plain": [
       "[1] \"rheMac10.chr3.155475508.155476008.250\"\n",
       "[2] \"rheMac10.chr18.58133437.58133937.250\" \n",
       "[3] \"mm10.chr2.60962973.60963474\"          \n",
       "[4] \"rn6.chr3.11382774.11383274.250\"       \n",
       "[5] \"rheMac10.chr10.10892176.10892676.250\" "
      ]
     },
     "metadata": {},
     "output_type": "display_data"
    }
   ],
   "source": [
    "combined_hyp_peaks <- clean_names(combined_hyp_peaks)\n",
    "peakNames <- colnames(combined_hyp_peaks)\n",
    "peakNames <- peakNames[! peakNames %in% c('hypselodont')]\n",
    "peakNames[1:5]"
   ]
  },
  {
   "cell_type": "code",
   "execution_count": null,
   "id": "68657a3f-b880-4687-9213-d2f8168d17dc",
   "metadata": {},
   "outputs": [],
   "source": [
    "#running phylolm on all peaks\n",
    "\n",
    "for(curPeak in peakNames) {\n",
    "    peakLmFit <- phylolm(curPeak~Hypselodont, data=combined_hyp_peaks, phy=zoonomiaTree, model=\"BM\")\n",
    "    peakLmFitSum <- summary(peakLmFit)\n",
    "    #peakLmFitSum\n",
    "}\n",
    "\n",
    "PvaluesPHY <- rep(NA,nrow(hyps_opc_peaks))\n",
    "names(PvaluesPHY) <- rownames(hyps_opc_peaks)\n",
    "corrsPHY <- PvaluesPHY\n",
    "slopesPHY <- PvaluesPHY\n",
    "\n",
    "curIndex = 1\n",
    "\n",
    "for(curPeak in peakNames) {\n",
    "    peakLmFit <- phylolm(as.numeric(combined_hyp_peaks[,curIndex]) ~ hypselodont, \n",
    "                         data=combined_hyp_peaks, \n",
    "                         phy=zoonomiaTree, model=\"BM\")\n",
    "    peakLmFitSum <- summary(peakLmFit)\n",
    "    \n",
    "    PvaluesPHY[curPeak] <- peakLmFitSum$coefficients[8]\n",
    "    slopesPHY[curPeak] <- peakLmFitSum$coefficients[2]\n",
    "    #print(peakLmFitSum$coefficients[8])\n",
    "    corrsPHY[curPeak] <- peakLmFitSum$adj.r.squared\n",
    "    curIndex <- curIndex + 1\n",
    "}\n",
    "\n",
    "phyloRes <- data.frame(id=peakNames, r_squared_adj=corrsPHY,\n",
    "                       effect_size=slopesPHY,pvalue=PvaluesPHY, \n",
    "                       padj = p.adjust(PvaluesPHY))\n",
    "phyloRes <- phyloRes[order(phyloRes$padj),]\n",
    "phyloRes[1:10,]\n",
    "\n",
    "write.csv(phyloRes, file=\"phyloRes.csv\")\n"
   ]
  },
  {
   "cell_type": "markdown",
   "id": "eaad9afc-6c05-4887-8276-58eb77975674",
   "metadata": {},
   "source": [
    "#### Plotting Histograms\n",
    "First, for the t-test:"
   ]
  },
  {
   "cell_type": "code",
   "execution_count": 62,
   "id": "dc69d139-85f2-45b5-9ecd-77792517d93e",
   "metadata": {},
   "outputs": [
    {
     "name": "stderr",
     "output_type": "stream",
     "text": [
      "\u001b[1m\u001b[22m`stat_bin()` using `bins = 30`. Pick better value with `binwidth`.\n",
      "Warning message:\n",
      "“\u001b[1m\u001b[22mRemoved 343 rows containing non-finite outside the scale range (`stat_bin()`).”\n"
     ]
    },
    {
     "data": {
      "image/png": "[encoded data removed]",
      "text/plain": [
       "plot without title"
      ]
     },
     "metadata": {
      "image/png": {
       "height": 420,
       "width": 420
      }
     },
     "output_type": "display_data"
    }
   ],
   "source": [
    "ggplot(data = diffResultsSortF, aes(x=pvalue)) +\n",
    "    geom_histogram() +\n",
    "    labs(x = \"Raw P-Value\",\n",
    "         y = \"Frequency\",\n",
    "         title = \"Histogram of t-Test P-Values\")"
   ]
  },
  {
   "cell_type": "code",
   "execution_count": 63,
   "id": "bfcdc706-fff6-48bb-9cb2-cf67feebcd8c",
   "metadata": {},
   "outputs": [
    {
     "name": "stderr",
     "output_type": "stream",
     "text": [
      "\u001b[1m\u001b[22m`stat_bin()` using `bins = 30`. Pick better value with `binwidth`.\n",
      "Warning message:\n",
      "“\u001b[1m\u001b[22mRemoved 343 rows containing non-finite outside the scale range (`stat_bin()`).”\n"
     ]
    },
    {
     "data": {
      "image/png": "[encoded data removed]",
      "text/plain": [
       "plot without title"
      ]
     },
     "metadata": {
      "image/png": {
       "height": 420,
       "width": 420
      }
     },
     "output_type": "display_data"
    }
   ],
   "source": [
    "ggplot(data = diffResultsSortF, aes(x=meanDiff)) +\n",
    "    geom_histogram() +\n",
    "    labs(x = \"Difference of Means\",\n",
    "         y = \"Frequency\",\n",
    "         title = \"Histogram of t-Test Mean Differences\")"
   ]
  },
  {
   "cell_type": "code",
   "execution_count": null,
   "id": "6a656290-cf30-4a97-8865-eab6a94aab7e",
   "metadata": {},
   "outputs": [],
   "source": [
    "#phyloLM results\n",
    "ggplot(data = phyloRes, aes(x=pvalue)) +\n",
    "    geom_histogram() +\n",
    "    labs(x = \"Raw P-Value\",\n",
    "         y = \"Frequency\",\n",
    "         title = \"Histogram of PhyloLM P-Values\")\n",
    "\n",
    "ggplot(data = phyloRes, aes(x=effect_size)) +\n",
    "    geom_histogram() +\n",
    "    labs(x = \"Effect Size\",\n",
    "         y = \"Frequency\",\n",
    "         title = \"Histogram of t-Test Mean Differences\")"
   ]
  }
 ],
 "metadata": {
  "kernelspec": {
   "display_name": "R",
   "language": "R",
   "name": "ir"
  },
  "language_info": {
   "codemirror_mode": "r",
   "file_extension": ".r",
   "mimetype": "text/x-r-source",
   "name": "R",
   "pygments_lexer": "r",
   "version": "4.4.1"
  }
 },
 "nbformat": 4,
 "nbformat_minor": 5
}
